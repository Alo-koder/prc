{
 "cells": [
  {
   "cell_type": "code",
   "execution_count": 1,
   "metadata": {},
   "outputs": [],
   "source": [
    "import pandas as pd\n",
    "import eclabfiles as ecf\n",
    "from matplotlib import pyplot as plt\n",
    "import numpy as np\n",
    "import glob\n",
    "from datetime import datetime\n",
    "from pickle_utils import read_ecf, read_emsi, optimise_emsi_start\n",
    "%matplotlib qt"
   ]
  },
  {
   "cell_type": "code",
   "execution_count": 2,
   "metadata": {},
   "outputs": [],
   "source": [
    "%load_ext autoreload\n",
    "%autoreload 2"
   ]
  },
  {
   "cell_type": "code",
   "execution_count": 3,
   "metadata": {},
   "outputs": [],
   "source": [
    "DATE = '2024-03-19'"
   ]
  },
  {
   "cell_type": "code",
   "execution_count": 4,
   "metadata": {},
   "outputs": [],
   "source": [
    "folder = 'T:/Team/Szewczyk/Data/' + DATE\n",
    "ecfile = glob.glob(folder+'/*.mpr')[-1]\n",
    "datfiles = glob.glob(folder+'/*.dat')"
   ]
  },
  {
   "cell_type": "code",
   "execution_count": 5,
   "metadata": {},
   "outputs": [],
   "source": [
    "ecfdf, ecf_start = read_ecf(ecfile)"
   ]
  },
  {
   "cell_type": "code",
   "execution_count": 12,
   "metadata": {},
   "outputs": [
    {
     "name": "stdout",
     "output_type": "stream",
     "text": [
      "[-6.64592906]\n",
      "[-6.26203061]\n",
      "[-6.19859897]\n",
      "[-6.23791774]\n",
      "[-6.10738705]\n",
      "[-5.9434501]\n",
      "[-6.400361]\n",
      "[-5.56458697]\n"
     ]
    },
    {
     "data": {
      "text/plain": [
       "[<matplotlib.lines.Line2D at 0x235b1649a30>]"
      ]
     },
     "execution_count": 12,
     "metadata": {},
     "output_type": "execute_result"
    }
   ],
   "source": [
    "joined_emsi = pd.DataFrame([])\n",
    "for filename in datfiles:\n",
    "    emsidf, emsi_start, emsi_end = read_emsi(filename)\n",
    "    if emsi_end < ecf_start:\n",
    "        continue\n",
    "    emsi_shift = optimise_emsi_start(ecfdf, ecf_start, emsidf, emsi_start)\n",
    "    emsidf.loc[:, 't'] = emsidf.t + emsi_start - ecf_start - emsi_shift\n",
    "    emsidf.loc[:, 'I'] = emsidf.I * 1000\n",
    "    joined_emsi = pd.concat([joined_emsi, emsidf], ignore_index=True)\n",
    "plt.plot(joined_emsi.t, joined_emsi.I)\n",
    "plt.plot(ecfdf.t, ecfdf.I)"
   ]
  },
  {
   "cell_type": "code",
   "execution_count": 13,
   "metadata": {},
   "outputs": [],
   "source": [
    "ecfdf['emsi'] = np.interp(ecfdf.t, joined_emsi.t, joined_emsi.emsi)\n",
    "ecfdf['light'] = np.interp(ecfdf.t, joined_emsi.t, joined_emsi.light)"
   ]
  },
  {
   "cell_type": "code",
   "execution_count": 14,
   "metadata": {},
   "outputs": [],
   "source": [
    "ecfdf.to_pickle(folder+'/data.pkl')"
   ]
  }
 ],
 "metadata": {
  "kernelspec": {
   "display_name": "Python 3",
   "language": "python",
   "name": "python3"
  },
  "language_info": {
   "codemirror_mode": {
    "name": "ipython",
    "version": 3
   },
   "file_extension": ".py",
   "mimetype": "text/x-python",
   "name": "python",
   "nbconvert_exporter": "python",
   "pygments_lexer": "ipython3",
   "version": "3.12.0"
  }
 },
 "nbformat": 4,
 "nbformat_minor": 2
}
