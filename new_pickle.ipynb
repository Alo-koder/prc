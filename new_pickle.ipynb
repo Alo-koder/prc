{
 "cells": [
  {
   "cell_type": "code",
   "execution_count": 1,
   "metadata": {},
   "outputs": [],
   "source": [
    "import pandas as pd\n",
    "import eclabfiles as ecf\n",
    "from matplotlib import pyplot as plt\n",
    "import numpy as np\n",
    "import glob\n",
    "from datetime import datetime\n",
    "%matplotlib qt"
   ]
  },
  {
   "cell_type": "code",
   "execution_count": 2,
   "metadata": {},
   "outputs": [],
   "source": [
    "DATE = '2024-03-14'"
   ]
  },
  {
   "cell_type": "code",
   "execution_count": 1,
   "metadata": {},
   "outputs": [],
   "source": [
    "def read_emsi(emsi_filename: str):\n",
    "    # Converting start time to uts\n",
    "    with open(emsi_filename, 'r') as file:\n",
    "        first_line = file.readline()\n",
    "    date_str = first_line.split(': ')[0]\n",
    "    date_obj = datetime.strptime(date_str)\n",
    "    start_time_uts = date_obj.timestamp()\n",
    "\n",
    "    # Reading with pandas\n",
    "    emsidf = pd.read_csv(emsi_filename, sep='\\t', skiprows = 4)\n",
    "\n",
    "    # Renaming columns\n",
    "    new_col_names = {\n",
    "        'Time [s]'  : 't',\n",
    "        'U [V]'     : 'U',\n",
    "        'I [A]'     : 'I',\n",
    "        'Ill [V]'   : 'light',\n",
    "        'EMSI [%]'  : 'emsi',\n",
    "    }\n",
    "    emsidf = emsidf.rename(new_col_names)\n",
    "    emsidf.U = -emsidf.U\n",
    "    emsidf.I = -emsidf.I\n",
    "\n",
    "    return emsidf, start_time_uts\n"
   ]
  },
  {
   "cell_type": "code",
   "execution_count": 3,
   "metadata": {},
   "outputs": [],
   "source": [
    "folder = 'T:\\\\Team\\\\Szewczyk\\\\Data\\\\' + DATE\n",
    "ecfile = glob.glob(folder+'\\\\*.mpr')[-1]\n",
    "datfiles = glob.glob(folder+'\\\\*.dat')"
   ]
  },
  {
   "cell_type": "code",
   "execution_count": 4,
   "metadata": {},
   "outputs": [
    {
     "data": {
      "text/plain": [
       "[<matplotlib.lines.Line2D at 0x27ed87088c0>,\n",
       " <matplotlib.lines.Line2D at 0x27ed82ffaa0>,\n",
       " <matplotlib.lines.Line2D at 0x27ed82ff530>,\n",
       " <matplotlib.lines.Line2D at 0x27ed8708950>,\n",
       " <matplotlib.lines.Line2D at 0x27ed8708a40>]"
      ]
     },
     "execution_count": 4,
     "metadata": {},
     "output_type": "execute_result"
    }
   ],
   "source": [
    "emsidf = pd.read_csv(datfiles[-1], sep='\\t', skiprows = 5)"
   ]
  },
  {
   "cell_type": "code",
   "execution_count": 5,
   "metadata": {},
   "outputs": [],
   "source": [
    "data = ecf.to_df(ecfile)"
   ]
  },
  {
   "cell_type": "code",
   "execution_count": 7,
   "metadata": {},
   "outputs": [],
   "source": [
    "plt.figure()\n",
    "plt.plot(data.time, data['<I>'])\n",
    "plt.show()\n",
    "plt.figure()\n",
    "plt.plot(emsidf['Time [s]'], emsidf['I [A]'])\n",
    "plt.show()"
   ]
  }
 ],
 "metadata": {
  "kernelspec": {
   "display_name": "Python 3",
   "language": "python",
   "name": "python3"
  },
  "language_info": {
   "codemirror_mode": {
    "name": "ipython",
    "version": 3
   },
   "file_extension": ".py",
   "mimetype": "text/x-python",
   "name": "python",
   "nbconvert_exporter": "python",
   "pygments_lexer": "ipython3",
   "version": "3.12.0"
  }
 },
 "nbformat": 4,
 "nbformat_minor": 2
}
