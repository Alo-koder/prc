{
 "cells": [
  {
   "cell_type": "code",
   "execution_count": 1,
   "metadata": {},
   "outputs": [],
   "source": [
    "import pandas as pd\n",
    "import numpy as np\n",
    "from matplotlib import pyplot as plt\n",
    "from scipy.ndimage import gaussian_filter\n",
    "%matplotlib qt\n",
    "\n",
    "import phase"
   ]
  },
  {
   "cell_type": "code",
   "execution_count": 2,
   "metadata": {},
   "outputs": [],
   "source": [
    "data = pd.read_pickle('T:/Team/Szewczyk/Data/20240109/data.pkl')\n",
    "data['I'] = gaussian_filter(data['I'], 5)"
   ]
  },
  {
   "cell_type": "code",
   "execution_count": 3,
   "metadata": {},
   "outputs": [],
   "source": [
    "# plt.plot(data['t'], data['I'])\n",
    "# plt.plot(data['t'], data['I_smooth'], c='r')"
   ]
  },
  {
   "cell_type": "code",
   "execution_count": 4,
   "metadata": {},
   "outputs": [],
   "source": [
    "pert_times = np.array(data[np.diff(data['U'], prepend=4) > 0.1]['t'])\n",
    "time_roi = (pert_times[0] - 80, pert_times[-1] - 80)\n",
    "\n",
    "data = data[(data['t'] > time_roi[0]) & (data['t'] < time_roi[1])]"
   ]
  },
  {
   "cell_type": "code",
   "execution_count": 5,
   "metadata": {},
   "outputs": [],
   "source": [
    "def find_cycles(data, pert_times, threshold_I_multiplier=1.05, sign_change = 1):\n",
    "    '''\n",
    "    Divide the signal into cycles by cutting when the current\n",
    "    crosses a specific value.\n",
    "\n",
    "    Parameters\n",
    "    ----------\n",
    "    data : pd.DataFrame\n",
    "        experimental data\n",
    "    threshold_I_multiplier : float\n",
    "        point where I == threshold_I is defined\n",
    "        to have phase = 0; defined as fraction of mean current\n",
    "    sign_change : int\n",
    "        1 when I raises at phase==0, otherwise -1\n",
    "\n",
    "    \n",
    "    Returns\n",
    "    -------\n",
    "    cycles : pd.DataFrame\n",
    "        A dataframe describing period information\n",
    "            start -- t at which phase == 0\n",
    "            duration -- T of this period\n",
    "    '''\n",
    "    \n",
    "    # Calculate current relative to the threshold\n",
    "    threshold_I = data.mean()['I']*threshold_I_multiplier\n",
    "    data['I relative'] = data['I']-threshold_I\n",
    "\n",
    "    # Calculate crossings and create 'cycles' dataframe\n",
    "    rel_current_sign = np.sign(data['I relative'])\n",
    "    back = np.append(np.zeros(500), rel_current_sign[:-500])\n",
    "    forward = np.append(rel_current_sign[500:], np.zeros(500))\n",
    "\n",
    "    crossings = data[(np.diff(rel_current_sign, append=0) == 2*sign_change) & ((forward-back == 2*sign_change))]\n",
    "\n",
    "    # crossings = data[(np.diff(np.sign(data['I relative']), append=0) == 2*sign_change)]\n",
    "    crossing_times = np.array(crossings['t'])\n",
    "    period_durations = np.diff(crossing_times)\n",
    "    voltage = np.array(crossings['U'])\n",
    "\n",
    "\n",
    "    dt = np.min(np.abs(np.subtract.outer(crossing_times, pert_times)), axis=1)\n",
    "\n",
    "\n",
    "\n",
    "    unpurged_cycles = pd.DataFrame({'start'     : crossing_times,\n",
    "                                    'duration'  : np.append(period_durations, np.nan),\n",
    "                                    'U'         : voltage,\n",
    "                                    'dt'        : dt})\n",
    "    \n",
    "    # Remove false crossings (when period is too short)\n",
    "    # mean_period = np.mean(unpurged_cycles['duration'])\n",
    "    # cycles = unpurged_cycles[(unpurged_cycles['duration'] > 40)]\n",
    "\n",
    "    # cycles = unpurged_cycles[(unpurged_cycles['U'] < 4.05)]\n",
    "    # cycles = cycles[(cycles['dt'] > 1)]  \n",
    "    cycles = unpurged_cycles.assign(duration= np.diff(unpurged_cycles['start'], append=np.nan))\n",
    "    cycles = cycles[(cycles['duration'] > 10)]# & (cycles['duration'] < 70)]\n",
    "    cycles = cycles.assign(duration= np.diff(cycles['start'], append=np.nan))\n",
    "\n",
    "    cycles = cycles.drop(cycles.tail(1).index) # Drop last row\n",
    "    cycles.reset_index(drop=True, inplace=True)\n",
    "    \n",
    "    return cycles, threshold_I"
   ]
  },
  {
   "cell_type": "code",
   "execution_count": 6,
   "metadata": {},
   "outputs": [],
   "source": [
    "# plt.plot(cycles['start'], cycles['duration'])\n",
    "\n",
    "# plt.scatter(pert_times, np.full(pert_times.shape, 50), marker='x')\n"
   ]
  },
  {
   "cell_type": "code",
   "execution_count": 7,
   "metadata": {},
   "outputs": [],
   "source": [
    "# plt.clf()\n",
    "# plt.plot(data['t'], data['I'])\n",
    "# plt.axhline(threshold_I, c='g', ls='-.')\n",
    "\n",
    "# for cycle_time in cycles['start']:\n",
    "#     plt.axvline(cycle_time, c='r', ls='--')"
   ]
  },
  {
   "cell_type": "code",
   "execution_count": 8,
   "metadata": {},
   "outputs": [],
   "source": [
    "def pert_response(cycles, pert_times):\n",
    "    '''\n",
    "    Create a dataframe with data about the perturbations.\n",
    "\n",
    "    Parameters\n",
    "    ----------\n",
    "    cycles : pd.DataFrame\n",
    "        A dataframe describing period information\n",
    "            start -- t at which phase == 0\n",
    "            duration -- T of this period\n",
    "    pert_times : np.ndarray\n",
    "        An array of values of time when perturbations happened\n",
    "\n",
    "    Returns\n",
    "    -------\n",
    "    perts : pd.DataFrame\n",
    "        A dataframe describing information about each perturbation\n",
    "            time -- start of the perturbation\n",
    "            in_which_period -- index of the cycle in which pert occured\n",
    "            phase -- osc phase at which pert occured relative to I crossing\n",
    "            # corrected_phase -- osc phase relative to current maximum\n",
    "            response -- phase response over current and next period\n",
    "                as a fraction of a mean period\n",
    "    period_fit : np.ndarray\n",
    "        List of coefficients of a 2nd degree polynomial fit to periods vs time.\n",
    "    '''\n",
    "\n",
    "\n",
    "    in_which_period = np.searchsorted(cycles['start'], np.array(pert_times))-1\n",
    "    \n",
    "    period_fit = np.polyfit(cycles['start'], cycles['duration'], 2)\n",
    "    expected_period = np.polyval(period_fit, cycles['start'],)\n",
    "    expected_period = expected_period[list(in_which_period)]\n",
    "    \n",
    "    phase = (pert_times-cycles['start'].iloc[in_which_period])/expected_period\n",
    "    \n",
    "    \n",
    "    affected_periods_durations = np.array([cycles['duration'].iloc[x:x+2] for x in in_which_period])\n",
    "    response = np.sum(affected_periods_durations, axis=1)-2*expected_period\n",
    "    \n",
    "    perts = pd.DataFrame({'time'            : pert_times,\n",
    "                        'in_which_period'   : in_which_period,\n",
    "                        'phase'             : phase,\n",
    "                        'response'          : response,\n",
    "                        'expected_period'   : expected_period})\n",
    "\n",
    "    return perts, period_fit"
   ]
  },
  {
   "cell_type": "code",
   "execution_count": 33,
   "metadata": {},
   "outputs": [
    {
     "name": "stdout",
     "output_type": "stream",
     "text": [
      "correction = 0.6469454418513834\n"
     ]
    }
   ],
   "source": [
    "threshold_I_mult = 0.9\n",
    "sign_change = 1\n",
    "\n",
    "cycles, threshold_I = find_cycles(data, pert_times, threshold_I_multiplier=threshold_I_mult, sign_change=sign_change)\n",
    "mean_period = np.mean(cycles['duration'])\n",
    "perts, period_fit = pert_response(cycles, pert_times[:-1])\n",
    "perts, correction = phase.phase_correction(data, perts, cycles, mean_period)"
   ]
  },
  {
   "cell_type": "code",
   "execution_count": 34,
   "metadata": {},
   "outputs": [
    {
     "data": {
      "text/plain": [
       "<matplotlib.collections.PathCollection at 0x2761fd1e840>"
      ]
     },
     "execution_count": 34,
     "metadata": {},
     "output_type": "execute_result"
    }
   ],
   "source": [
    "plt.figure()\n",
    "plt.title(f\"PRC\")\n",
    "plt.xlabel('Phase rel. to current spike (fractional)')\n",
    "plt.ylabel('Phase response [s]')\n",
    "# sc = plt.scatter(perts['phase'], perts['response'], c=perts['time'])\n",
    "plt.scatter(perts['corrected_phase'], perts['response'], c='r', label='+0.9', s=10)\n",
    "\n",
    "#plt.colorbar(sc)"
   ]
  },
  {
   "cell_type": "code",
   "execution_count": 37,
   "metadata": {},
   "outputs": [
    {
     "name": "stdout",
     "output_type": "stream",
     "text": [
      "correction = 0.21547163237832714\n"
     ]
    },
    {
     "data": {
      "text/plain": [
       "<matplotlib.legend.Legend at 0x2761fc6b080>"
      ]
     },
     "execution_count": 37,
     "metadata": {},
     "output_type": "execute_result"
    }
   ],
   "source": [
    "threshold_I_mult = 1.05\n",
    "sign_change = -1\n",
    "\n",
    "cycles, threshold_I = find_cycles(data, pert_times, threshold_I_multiplier=threshold_I_mult, sign_change=sign_change)\n",
    "mean_period = np.mean(cycles['duration'])\n",
    "perts, period_fit = pert_response(cycles, pert_times[:-1])\n",
    "perts, correction = phase.phase_correction(data, perts, cycles, mean_period)\n",
    "#perts['corrected_phase'] = (perts['corrected_phase']-0.6)%1\n",
    "plt.scatter(perts['corrected_phase'], perts['response'], c='b', label='-1.05', s=10)\n",
    "plt.legend()"
   ]
  },
  {
   "cell_type": "code",
   "execution_count": 35,
   "metadata": {},
   "outputs": [
    {
     "name": "stdout",
     "output_type": "stream",
     "text": [
      "correction = 0.6228971988488016\n"
     ]
    },
    {
     "data": {
      "text/plain": [
       "<matplotlib.legend.Legend at 0x2761f714920>"
      ]
     },
     "execution_count": 35,
     "metadata": {},
     "output_type": "execute_result"
    }
   ],
   "source": [
    "threshold_I_mult = 1\n",
    "sign_change = 1\n",
    "\n",
    "cycles, threshold_I = find_cycles(data, pert_times, threshold_I_multiplier=threshold_I_mult, sign_change=sign_change)\n",
    "mean_period = np.mean(cycles['duration'])\n",
    "perts, period_fit = pert_response(cycles, pert_times[:-1])\n",
    "perts, correction = phase.phase_correction(data, perts, cycles, mean_period)\n",
    "#perts['corrected_phase'] = (perts['corrected_phase']-0.6)%1\n",
    "plt.scatter(perts['corrected_phase'], perts['response'], c='g', label='1', s=10)\n",
    "plt.legend()"
   ]
  },
  {
   "cell_type": "code",
   "execution_count": 36,
   "metadata": {},
   "outputs": [
    {
     "data": {
      "text/plain": [
       "[<matplotlib.lines.Line2D at 0x27626a24560>]"
      ]
     },
     "execution_count": 36,
     "metadata": {},
     "output_type": "execute_result"
    }
   ],
   "source": [
    "plt.figure()\n",
    "plt.scatter(perts['time'], perts['phase'])\n",
    "plt.plot(perts['time'], perts['phase'])"
   ]
  },
  {
   "cell_type": "code",
   "execution_count": 48,
   "metadata": {},
   "outputs": [],
   "source": [
    "plt.plot(cycles['start'], cycles['duration'])\n",
    "plt.plot(cycles['start'], np.polyval(period_fit, cycles['start']))\n",
    "for t in perts['time']:\n",
    "    plt.axvline(t, c='g', ls='-.')"
   ]
  }
 ],
 "metadata": {
  "kernelspec": {
   "display_name": "Python 3",
   "language": "python",
   "name": "python3"
  },
  "language_info": {
   "codemirror_mode": {
    "name": "ipython",
    "version": 3
   },
   "file_extension": ".py",
   "mimetype": "text/x-python",
   "name": "python",
   "nbconvert_exporter": "python",
   "pygments_lexer": "ipython3",
   "version": "3.12.0"
  }
 },
 "nbformat": 4,
 "nbformat_minor": 2
}
