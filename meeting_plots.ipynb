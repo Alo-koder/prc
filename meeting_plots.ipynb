{
 "cells": [
  {
   "cell_type": "code",
   "execution_count": 22,
   "metadata": {},
   "outputs": [],
   "source": [
    "import pandas as pd\n",
    "import numpy as np\n",
    "from matplotlib import pyplot as plt\n",
    "from scipy.ndimage import gaussian_filter\n",
    "from scipy.signal import find_peaks\n",
    "\n",
    "%matplotlib qt"
   ]
  },
  {
   "cell_type": "code",
   "execution_count": 35,
   "metadata": {},
   "outputs": [
    {
     "data": {
      "text/plain": [
       "[<matplotlib.lines.Line2D at 0x25031429f10>]"
      ]
     },
     "execution_count": 35,
     "metadata": {},
     "output_type": "execute_result"
    }
   ],
   "source": [
    "data = pd.read_pickle('T:/Team/Szewczyk/Data/2024-02-08/data.pkl')\n",
    "plt.plot(data['t'], data['I'])\n",
    "data['I'] = gaussian_filter(data['I'], 30)\n",
    "plt.plot(data['t'], data['I'])"
   ]
  },
  {
   "cell_type": "code",
   "execution_count": 25,
   "metadata": {},
   "outputs": [],
   "source": [
    "def find_cycles(data, threshold_I_multiplier=1, sign_change = 1):\n",
    "    '''\n",
    "    Divide the signal into cycles by cutting when the current\n",
    "    crosses a specific value.\n",
    "\n",
    "    Parameters\n",
    "    ----------\n",
    "    data : pd.DataFrame\n",
    "        experimental data\n",
    "    threshold_I_multiplier : float\n",
    "        point where I == threshold_I is defined\n",
    "        to have phase = 0; defined as fraction of mean current\n",
    "    sign_change : int\n",
    "        1 when I raises at phase==0, otherwise -1\n",
    "\n",
    "    \n",
    "    Returns\n",
    "    -------\n",
    "    cycles : pd.DataFrame\n",
    "        A dataframe describing period information\n",
    "            start -- t at which phase == 0\n",
    "            duration -- T of this period\n",
    "            expected_duration -- predicted unperturbed T\n",
    "                calculated via a quadratic fit\n",
    "    '''\n",
    "    \n",
    "    # Calculate current relative to the threshold\n",
    "    threshold_I = data['I'].mean()*threshold_I_multiplier\n",
    "    data['I relative'] = data['I']-threshold_I\n",
    "\n",
    "    # Calculate crossings and create 'cycles' dataframe\n",
    "    crossings = data[(np.diff(np.sign(data['I relative']), append=0) == 2*sign_change)]\n",
    "    crossing_times = np.array(crossings['t'])\n",
    "    period_durations = np.diff(crossing_times, append = np.nan)\n",
    "    # voltage = np.array(crossings['U'])\n",
    "\n",
    "    period_fit = np.polyfit(crossing_times[:-1], period_durations[:-1], 2)\n",
    "    expected_duration = np.polyval(period_fit, crossing_times)\n",
    "\n",
    "    cycles = pd.DataFrame({\n",
    "                            'start'             : crossing_times,\n",
    "                            'duration'          : period_durations,\n",
    "                            # 'U'               : voltage,\n",
    "                            'expected_duration' : expected_duration,\n",
    "                        })\n",
    "    \n",
    "    # Remove false crossings (when period is too short)\n",
    "    cycles = cycles[cycles['duration'] > 0.7*cycles['expected_duration']]\n",
    "\n",
    "    # Restore variables affected by period purging\n",
    "    cycles.assign(duration = np.diff(cycles['start'], append=np.nan), inplace=True)\n",
    "    period_fit = np.polyfit(cycles['start'].iloc[10:-10], cycles['duration'].iloc[10:-10], 2)\n",
    "    expected_duration = np.polyval(period_fit, cycles['start'])\n",
    "    cycles['expected_duration'] = expected_duration\n",
    "    # mean_period = np.mean(unpurged_cycles['duration'])\n",
    "    # cycles = unpurged_cycles[(unpurged_cycles['duration'] > 40)]\n",
    "\n",
    "    # cycles = unpurged_cycles[(unpurged_cycles['U'] < 4.05)]\n",
    "    # cycles = cycles.assign(duration= np.diff(cycles['start'], append=np.nan))\n",
    "    # cycles = cycles[(cycles['duration'] > 40) & (cycles['duration'] < 70)]\n",
    "\n",
    "    cycles.drop(cycles.tail(1).index, inplace=True) # Drop last row\n",
    "    cycles.reset_index(drop=True, inplace=True)\n",
    "    return cycles, threshold_I"
   ]
  },
  {
   "cell_type": "code",
   "execution_count": 26,
   "metadata": {},
   "outputs": [],
   "source": [
    "def pert_response(cycles, pert_times):\n",
    "    '''\n",
    "    Create a dataframe with data about the perturbations.\n",
    "\n",
    "    Parameters\n",
    "    ----------\n",
    "    cycles : pd.DataFrame\n",
    "        A dataframe describing period information\n",
    "            start -- t at which phase == 0\n",
    "            duration -- T of this period\n",
    "    pert_times : np.ndarray\n",
    "        An array of values of time when perturbations happened\n",
    "\n",
    "    Returns\n",
    "    -------\n",
    "    perts : pd.DataFrame\n",
    "        A dataframe describing information about each perturbation\n",
    "            time -- start of the perturbation\n",
    "            in_which_period -- index of the cycle in which pert occured\n",
    "            phase -- osc phase at which pert occured relative to I crossing\n",
    "            corrected_phase -- osc phase relative to current maximum\n",
    "            response -- phase response over current and next period\n",
    "                as a fraction of a mean period\n",
    "    period_fit : np.ndarray\n",
    "        List of coefficients of a 2nd degree polynomial fit to periods vs time.\n",
    "    '''\n",
    "\n",
    "\n",
    "    in_which_period = np.searchsorted(cycles['start'], np.array(pert_times))-1\n",
    "    \n",
    "    period_fit = np.polyfit(cycles['start'], cycles['duration'], 2)\n",
    "    expected_period = np.polyval(period_fit, pert_times)\n",
    "    \n",
    "    phase = (pert_times-cycles['start'].iloc[in_which_period])/expected_period\n",
    "    \n",
    "    affected_periods_durations = np.array([cycles['duration'].iloc[x:x+2] for x in in_which_period])\n",
    "    response = np.sum(affected_periods_durations, axis=1)-2*expected_period\n",
    "    \n",
    "    perts = pd.DataFrame({'time'            : pert_times,\n",
    "                        'in_which_period'   : in_which_period,\n",
    "                        'phase'             : phase,\n",
    "                        'response'          : response,\n",
    "                        'expected_period'   : expected_period})\n",
    "\n",
    "    return perts, period_fit"
   ]
  },
  {
   "cell_type": "code",
   "execution_count": 27,
   "metadata": {},
   "outputs": [],
   "source": [
    "def phase_correction(data, perts, cycles):\n",
    "    '''\n",
    "    Account for different phase determination method by offseting phase\n",
    "    such that max current means phase = 0.\n",
    "\n",
    "    Parameters\n",
    "    ----------\n",
    "    data : pd.DataFrame\n",
    "        Experimental data\n",
    "    perts : pd.DataFrame\n",
    "        Data on the perturbations\n",
    "    cycles : pd.DataFrame\n",
    "        Period data\n",
    "    mean_period : float\n",
    "        Mean cycle duration in seconds\n",
    "\n",
    "    Returns\n",
    "    -------\n",
    "    perts : pd.DataFrame\n",
    "        Updated perts dataframe with a new column: corrected_phase\n",
    "    correction : float\n",
    "        Average osc phase of current spikes (calculated with a relative method)\n",
    "    '''\n",
    "    spikes, _ = find_peaks(data['I'], height=0.06, distance=1000)\n",
    "    spike_times = data['t'].iloc[spikes[10:-10]].reset_index(drop=True)\n",
    "    in_which_period = np.searchsorted(cycles['start'], np.array(spike_times))-1\n",
    "    cycles_useful = cycles.iloc[in_which_period].reset_index(drop=True)\n",
    "\n",
    "    phase = (spike_times-cycles_useful['start'])/cycles_useful['expected_duration']\n",
    "    correction = np.median(phase)\n",
    "\n",
    "    print(f'{correction = }')\n",
    "    corrected_phase = (perts['phase']-correction)%1\n",
    "    perts = perts.assign(corrected_phase = corrected_phase)\n",
    "\n",
    "    return perts, correction"
   ]
  },
  {
   "cell_type": "code",
   "execution_count": 28,
   "metadata": {},
   "outputs": [],
   "source": [
    "pert_times = np.array(data[np.diff(data['U'], prepend=4) > 0.05]['t'])"
   ]
  },
  {
   "cell_type": "code",
   "execution_count": 29,
   "metadata": {},
   "outputs": [],
   "source": [
    "# plt.plot(cycles['start'], cycles['duration'])\n",
    "\n",
    "# plt.scatter(pert_times, np.full(pert_times.shape, 50), marker='x')\n"
   ]
  },
  {
   "cell_type": "code",
   "execution_count": 30,
   "metadata": {},
   "outputs": [],
   "source": [
    "# plt.clf()\n",
    "# plt.plot(data['t'], data['I'])\n",
    "# plt.axhline(threshold_I, c='g', ls='-.')\n",
    "\n",
    "# for cycle_time in cycles['start']:\n",
    "#     plt.axvline(cycle_time, c='r', ls='--')"
   ]
  },
  {
   "cell_type": "code",
   "execution_count": 33,
   "metadata": {},
   "outputs": [
    {
     "name": "stdout",
     "output_type": "stream",
     "text": [
      "correction = 0.16866284243897217\n"
     ]
    }
   ],
   "source": [
    "threshold_I_mult = 0.9\n",
    "sign_change = 1\n",
    "\n",
    "cycles, threshold_I = find_cycles(data, threshold_I_multiplier=threshold_I_mult, sign_change=sign_change)\n",
    "mean_period = np.mean(cycles['duration'])\n",
    "perts, period_fit = pert_response(cycles, pert_times[:-1])\n",
    "perts, correction = phase_correction(data, perts, cycles)"
   ]
  },
  {
   "cell_type": "code",
   "execution_count": 34,
   "metadata": {},
   "outputs": [
    {
     "data": {
      "text/plain": [
       "<matplotlib.collections.PathCollection at 0x2761fd1e840>"
      ]
     },
     "execution_count": 34,
     "metadata": {},
     "output_type": "execute_result"
    }
   ],
   "source": [
    "plt.figure()\n",
    "plt.title(f\"PRC\")\n",
    "plt.xlabel('Phase rel. to current spike (fractional)')\n",
    "plt.ylabel('Phase response [s]')\n",
    "# sc = plt.scatter(perts['phase'], perts['response'], c=perts['time'])\n",
    "plt.scatter(perts['corrected_phase'], perts['response'], c='r', label='+0.9', s=10)\n",
    "\n",
    "#plt.colorbar(sc)"
   ]
  },
  {
   "cell_type": "code",
   "execution_count": 37,
   "metadata": {},
   "outputs": [
    {
     "name": "stdout",
     "output_type": "stream",
     "text": [
      "correction = 0.21547163237832714\n"
     ]
    },
    {
     "data": {
      "text/plain": [
       "<matplotlib.legend.Legend at 0x2761fc6b080>"
      ]
     },
     "execution_count": 37,
     "metadata": {},
     "output_type": "execute_result"
    }
   ],
   "source": [
    "threshold_I_mult = 1.05\n",
    "sign_change = -1\n",
    "\n",
    "cycles, threshold_I = find_cycles(data, pert_times, threshold_I_multiplier=threshold_I_mult, sign_change=sign_change)\n",
    "mean_period = np.mean(cycles['duration'])\n",
    "perts, period_fit = pert_response(cycles, pert_times[:-1])\n",
    "perts, correction = phase_correction(data, perts, cycles, mean_period)\n",
    "#perts['corrected_phase'] = (perts['corrected_phase']-0.6)%1\n",
    "plt.scatter(perts['corrected_phase'], perts['response'], c='b', label='-1.05', s=10)\n",
    "plt.legend()"
   ]
  },
  {
   "cell_type": "code",
   "execution_count": 35,
   "metadata": {},
   "outputs": [
    {
     "name": "stdout",
     "output_type": "stream",
     "text": [
      "correction = 0.6228971988488016\n"
     ]
    },
    {
     "data": {
      "text/plain": [
       "<matplotlib.legend.Legend at 0x2761f714920>"
      ]
     },
     "execution_count": 35,
     "metadata": {},
     "output_type": "execute_result"
    }
   ],
   "source": [
    "threshold_I_mult = 1\n",
    "sign_change = 1\n",
    "\n",
    "cycles, threshold_I = find_cycles(data, pert_times, threshold_I_multiplier=threshold_I_mult, sign_change=sign_change)\n",
    "mean_period = np.mean(cycles['duration'])\n",
    "perts, period_fit = pert_response(cycles, pert_times[:-1])\n",
    "perts, correction = phase_correction(data, perts, cycles, mean_period)\n",
    "#perts['corrected_phase'] = (perts['corrected_phase']-0.6)%1\n",
    "plt.scatter(perts['corrected_phase'], perts['response'], c='g', label='1', s=10)\n",
    "plt.legend()"
   ]
  },
  {
   "cell_type": "code",
   "execution_count": 34,
   "metadata": {},
   "outputs": [
    {
     "data": {
      "text/plain": [
       "[<matplotlib.lines.Line2D at 0x2503cc3b200>]"
      ]
     },
     "execution_count": 34,
     "metadata": {},
     "output_type": "execute_result"
    }
   ],
   "source": [
    "plt.figure()\n",
    "plt.scatter(perts['time'], perts['phase'])\n",
    "plt.plot(perts['time'], perts['phase'])"
   ]
  },
  {
   "cell_type": "code",
   "execution_count": 48,
   "metadata": {},
   "outputs": [],
   "source": [
    "plt.plot(cycles['start'], cycles['duration'])\n",
    "plt.plot(cycles['start'], np.polyval(period_fit, cycles['start']))\n",
    "for t in perts['time']:\n",
    "    plt.axvline(t, c='g', ls='-.')"
   ]
  }
 ],
 "metadata": {
  "kernelspec": {
   "display_name": "Python 3",
   "language": "python",
   "name": "python3"
  },
  "language_info": {
   "codemirror_mode": {
    "name": "ipython",
    "version": 3
   },
   "file_extension": ".py",
   "mimetype": "text/x-python",
   "name": "python",
   "nbconvert_exporter": "python",
   "pygments_lexer": "ipython3",
   "version": "3.12.0"
  }
 },
 "nbformat": 4,
 "nbformat_minor": 2
}
