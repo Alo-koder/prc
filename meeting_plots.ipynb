{
 "cells": [
  {
   "cell_type": "code",
   "execution_count": 26,
   "metadata": {},
   "outputs": [],
   "source": [
    "import pandas as pd\n",
    "import numpy as np\n",
    "from matplotlib import pyplot as plt\n",
    "from scipy.ndimage import gaussian_filter\n",
    "%matplotlib qt\n",
    "\n",
    "import phase"
   ]
  },
  {
   "cell_type": "code",
   "execution_count": 27,
   "metadata": {},
   "outputs": [],
   "source": [
    "data = pd.read_pickle('T:/Team/Szewczyk/Data/20240109/data.pkl')"
   ]
  },
  {
   "cell_type": "code",
   "execution_count": 13,
   "metadata": {},
   "outputs": [
    {
     "data": {
      "text/plain": [
       "[<matplotlib.lines.Line2D at 0x2462500e9f0>]"
      ]
     },
     "execution_count": 13,
     "metadata": {},
     "output_type": "execute_result"
    }
   ],
   "source": [
    "plt.plot(data['t'], data['I'])"
   ]
  },
  {
   "cell_type": "code",
   "execution_count": 29,
   "metadata": {},
   "outputs": [],
   "source": [
    "pert_times = np.array(data[np.diff(data['U'], prepend=4) > 0.1]['t'])\n",
    "time_roi = (pert_times[0] - 80, pert_times[-1] - 80)\n",
    "\n",
    "data = data[(data['t'] > time_roi[0]) & (data['t'] < time_roi[1])]"
   ]
  },
  {
   "cell_type": "code",
   "execution_count": 30,
   "metadata": {},
   "outputs": [],
   "source": [
    "def find_cycles(data, pert_times, threshold_I_multiplier=1.05, sign_change = -1):\n",
    "    '''\n",
    "    Divide the signal into cycles by cutting when the current\n",
    "    crosses a specific value.\n",
    "\n",
    "    Parameters\n",
    "    ----------\n",
    "    data : pd.DataFrame\n",
    "        experimental data\n",
    "    threshold_I_multiplier : float\n",
    "        point where I == threshold_I is defined\n",
    "        to have phase = 0; defined as fraction of mean current\n",
    "    sign_change : int\n",
    "        1 when I raises at phase==0, otherwise -1\n",
    "\n",
    "    \n",
    "    Returns\n",
    "    -------\n",
    "    cycles : pd.DataFrame\n",
    "        A dataframe describing period information\n",
    "            start -- t at which phase == 0\n",
    "            duration -- T of this period\n",
    "    '''\n",
    "    \n",
    "    # Calculate current relative to the threshold\n",
    "    threshold_I = data.mean()['I']*threshold_I_multiplier\n",
    "    data['I relative'] = data['I']-threshold_I\n",
    "\n",
    "    # Calculate crossings and create 'cycles' dataframe\n",
    "    crossings = data[(np.diff(np.sign(data['I relative']), append=0) == 2*sign_change)]\n",
    "    crossing_times = np.array(crossings['t'])\n",
    "    period_durations = np.diff(crossing_times)\n",
    "    voltage = np.array(crossings['U'])\n",
    "\n",
    "\n",
    "    dt = np.min(np.abs(np.subtract.outer(crossing_times, pert_times)), axis=1)\n",
    "\n",
    "\n",
    "\n",
    "    unpurged_cycles = pd.DataFrame({'start'     : crossing_times,\n",
    "                                    'duration'  : np.append(period_durations, np.nan),\n",
    "                                    'U'         : voltage,\n",
    "                                    'dt'        : dt})\n",
    "    \n",
    "    # Remove false crossings (when period is too short)\n",
    "    # mean_period = np.mean(unpurged_cycles['duration'])\n",
    "    # cycles = unpurged_cycles[(unpurged_cycles['duration'] > 40)]\n",
    "\n",
    "    cycles = unpurged_cycles[(unpurged_cycles['U'] < 4.05)]\n",
    "    cycles = cycles[(cycles['dt'] > 1)]  \n",
    "    cycles = cycles.assign(duration= np.diff(cycles['start'], append=np.nan))\n",
    "    cycles = cycles[(cycles['duration'] > 40) & (cycles['duration'] < 70)] \n",
    "\n",
    "    cycles = cycles.drop(cycles.tail(1).index) # Drop last row\n",
    "    cycles.reset_index(drop=True, inplace=True)\n",
    "    \n",
    "    return unpurged_cycles, threshold_I"
   ]
  },
  {
   "cell_type": "code",
   "execution_count": 31,
   "metadata": {},
   "outputs": [
    {
     "data": {
      "text/plain": [
       "[<matplotlib.lines.Line2D at 0x246508c5fd0>]"
      ]
     },
     "execution_count": 31,
     "metadata": {},
     "output_type": "execute_result"
    }
   ],
   "source": [
    "cycles, threshold_I = find_cycles(data, pert_times, threshold_I_multiplier=1.05, sign_change=1)\n",
    "plt.plot(cycles['duration'])"
   ]
  },
  {
   "cell_type": "code",
   "execution_count": null,
   "metadata": {},
   "outputs": [],
   "source": []
  }
 ],
 "metadata": {
  "kernelspec": {
   "display_name": "Python 3",
   "language": "python",
   "name": "python3"
  },
  "language_info": {
   "codemirror_mode": {
    "name": "ipython",
    "version": 3
   },
   "file_extension": ".py",
   "mimetype": "text/x-python",
   "name": "python",
   "nbconvert_exporter": "python",
   "pygments_lexer": "ipython3",
   "version": "3.12.0"
  }
 },
 "nbformat": 4,
 "nbformat_minor": 2
}
