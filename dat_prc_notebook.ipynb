{
 "cells": [
  {
   "cell_type": "markdown",
   "metadata": {},
   "source": [
    "# Puropse of this notebook\n",
    "\n",
    "This code has been used as part of `phase_notebook.ipynb` to plot a PRC with both EMSI and current signals below it. It doesn't work now, it would need importing more elements from the phase notebook."
   ]
  },
  {
   "cell_type": "code",
   "execution_count": 2,
   "metadata": {},
   "outputs": [],
   "source": [
    "import numpy as np\n",
    "import pandas as pd\n",
    "from scipy.ndimage import gaussian_filter\n",
    "from scipy.signal import find_peaks\n",
    "from matplotlib import pyplot as plt\n",
    "\n",
    "%matplotlib qt"
   ]
  },
  {
   "cell_type": "code",
   "execution_count": null,
   "metadata": {},
   "outputs": [],
   "source": [
    "def read_datfile(filename, p_height=0.5, margins=(100, 5000)):\n",
    "    \n",
    "    df = pd.read_csv(filename, sep='\\t', header=5)\n",
    "    \n",
    "    \n",
    "    # Renaming columns\n",
    "    new_cols = ['t', 'U', 'I', 'Ill', 'EMSI']\n",
    "    old_cols = df.columns\n",
    "    col_dict = {x: y for x, y in zip(old_cols, new_cols)}\n",
    "    df = df.rename(columns = col_dict)\n",
    "    \n",
    "    # Flipping signs\n",
    "    df['U'] = -df['U']\n",
    "    df['I'] = -df['I']\n",
    "    \n",
    "    # Applying margins\n",
    "    df = df[(df['t'] > margins[0]) & (df['t'] < margins[1])]\n",
    "    \n",
    "    # Signal smoothening\n",
    "    df['I'] = gaussian_filter(df['I'], 10)*100_000\n",
    "    df['EMSI'] = gaussian_filter(df['EMSI'], 2)\n",
    "    # df['U'] = gaussian_filter(df['U'], 1)\n",
    "    \n",
    "    # Finding voltage spikes\n",
    "    spike_indicies, _ = find_peaks(np.sign(p_height) * df['U'],\n",
    "                                   prominence=np.abs(p_height)*0.8, distance=1000)\n",
    "    spikes = df.iloc[spike_indicies]\n",
    "    \n",
    "    return df, np.array(spikes['t'])\n"
   ]
  },
  {
   "cell_type": "code",
   "execution_count": null,
   "metadata": {},
   "outputs": [],
   "source": [
    "df, _ = read_datfile('~/munich/data/24X/A00102.dat')\n",
    "\n",
    "crossings = df[(np.diff(np.sign(df['I']-1.1*np.mean(df['I'])), append=0) == 2)]\n",
    "crossings = np.array(crossings['t'])\n",
    "which_period = 10\n",
    "one_period = df[(df['t']>crossings[which_period]) & (df['t']<crossings[which_period+1])]\n",
    "one_period = one_period.assign(phi= (one_period['t']-crossings[which_period]) / (crossings[which_period+1] - crossings[which_period]))\n",
    "\n",
    "\n",
    "# Plot PRC\n",
    "fig, (ax1, ax2) = plt.subplots(2, 1, gridspec_kw={'height_ratios': [3, 1]}, sharex=True)\n",
    "ax1.set_title(\"PRC -- 1s, +0.3V\")\n",
    "\n",
    "#ax1.set_xlabel(r'$\\phi$ (fractional)')\n",
    "ax1.set_ylabel('Phase response')\n",
    "sc = ax1.scatter(perts['phase'], -perts['response']/perts['expected_period'], c=perts['time']/3600)\n",
    "# cbar = plt.colorbar(sc)\n",
    "# cbar.set_label('time [h]')\n",
    "ax1.set_xlim(0, 1)\n",
    "ax1.axhline(0, c='m', ls='--')\n",
    "plt.tight_layout()\n",
    "\n",
    "color = 'tab:blue'\n",
    "\n",
    "ax2.set_xlabel(r'$\\phi$ (fractional)')\n",
    "ax2.set_ylabel('current', color=color)\n",
    "ax2.plot(one_period['phi'], one_period['I'], color=color)\n",
    "ax2.tick_params(axis='y', labelcolor=color)\n",
    "\n",
    "ax3 = ax2.twinx()  # instantiate a second axes that shares the same x-axis\n",
    "\n",
    "color = 'tab:red'\n",
    "ax3.set_ylabel('EMSI', color=color)  # we already handled the x-label with ax1\n",
    "ax3.plot(one_period['phi'], one_period['EMSI'], color=color)\n",
    "ax3.tick_params(axis='y', labelcolor=color)\n",
    "\n",
    "plt.tight_layout()\n",
    "plt.show()\n",
    "# Plot periods vs time\n",
    "plt.figure()\n",
    "plt.title('Period length versus time')\n",
    "plt.scatter(cycles['start'], cycles['duration'], marker='+')\n",
    "plt.plot(cycles['start'], np.polyval(period_fit, cycles['start']), 'm-')\n",
    "\n",
    "# for x in pert_times:\n",
    "    # plt.axvline(x, c='r', ls='--')\n",
    "plt.title('Perturbation: +0.3V, 1s')\n",
    "plt.xlabel('Time [s]')\n",
    "plt.ylabel('Osc. period [s]')\n",
    "# Plot current vs time\n",
    "plt.close()\n",
    "plt.figure()\n",
    "plt.title('Threshold = mean current')\n",
    "plt.plot(data['t'], data['I'])\n",
    "plt.axhline(threshold_I, c='y', ls='dashed')\n",
    "plt.scatter(cycles['start'], data[data['t'].isin(cycles['start'])]['I'], marker='x', c='r')\n",
    "for t in cycles['start']:\n",
    "    plt.axvline(t, c='grey', ls=':')\n",
    "#plt.scatter(pert_times, data[data['t'].isin(pert_times)]['I'], marker='x', c='r')\n",
    "plt.xlabel('Time [s]')\n",
    "plt.ylabel('Current [A]')\n",
    "# plt.plot(data['t'], data['U'], 'm-')\n",
    "# for x in cycles['start']:\n",
    "    # plt.axvline(x, c='g', ls='-.')\n",
    "plt.xlim(2000, 2100)"
   ]
  },
  {
   "cell_type": "code",
   "execution_count": null,
   "metadata": {},
   "outputs": [],
   "source": [
    "one_period"
   ]
  },
  {
   "cell_type": "code",
   "execution_count": null,
   "metadata": {},
   "outputs": [],
   "source": [
    "\n",
    "spikes, _ = find_peaks(data['I'], height=0.06, distance=1000)\n",
    "time_array = np.array(data['t'])\n",
    "spike_times = time_array[spikes]"
   ]
  },
  {
   "cell_type": "code",
   "execution_count": null,
   "metadata": {},
   "outputs": [],
   "source": [
    "plt.plot(cycles['duration'])\n",
    "plt.plot(cycles['expected_duration'])"
   ]
  }
 ],
 "metadata": {
  "kernelspec": {
   "display_name": "Python 3",
   "language": "python",
   "name": "python3"
  },
  "language_info": {
   "codemirror_mode": {
    "name": "ipython",
    "version": 3
   },
   "file_extension": ".py",
   "mimetype": "text/x-python",
   "name": "python",
   "nbconvert_exporter": "python",
   "pygments_lexer": "ipython3",
   "version": "3.12.0"
  }
 },
 "nbformat": 4,
 "nbformat_minor": 2
}
