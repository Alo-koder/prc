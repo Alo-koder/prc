{
 "cells": [
  {
   "cell_type": "markdown",
   "metadata": {},
   "source": [
    "# Puropse of this notebook\n",
    "\n",
    "This code has been used as part of `phase_notebook.ipynb` to plot a PRC with both EMSI and current signals below it. It doesn't work now, it's here in case I need to copy the code for later."
   ]
  },
  {
   "cell_type": "code",
   "execution_count": null,
   "metadata": {},
   "outputs": [],
   "source": [
    "# Plot PRC\n",
    "fig, (ax1, ax2) = plt.subplots(2, 1, gridspec_kw={'height_ratios': [3, 1]}, sharex=True)\n",
    "ax1.set_title(\"PRC -- 1s, +0.3V\")\n",
    "\n",
    "#ax1.set_xlabel(r'$\\phi$ (fractional)')\n",
    "ax1.set_ylabel('Phase response')\n",
    "sc = ax1.scatter(perts['phase'], -perts['response']/perts['expected_period'], c=perts['time']/3600)\n",
    "# cbar = plt.colorbar(sc)\n",
    "# cbar.set_label('time [h]')\n",
    "ax1.set_xlim(0, 1)\n",
    "ax1.axhline(0, c='m', ls='--')\n",
    "plt.tight_layout()\n",
    "\n",
    "color = 'tab:blue'\n",
    "\n",
    "ax2.set_xlabel(r'$\\phi$ (fractional)')\n",
    "ax2.set_ylabel('current', color=color)\n",
    "ax2.plot(one_period['phi'], one_period['I'], color=color)\n",
    "ax2.tick_params(axis='y', labelcolor=color)\n",
    "\n",
    "ax3 = ax2.twinx()  # instantiate a second axes that shares the same x-axis\n",
    "\n",
    "color = 'tab:red'\n",
    "ax3.set_ylabel('EMSI', color=color)  # we already handled the x-label with ax1\n",
    "ax3.plot(one_period['phi'], one_period['EMSI'], color=color)\n",
    "ax3.tick_params(axis='y', labelcolor=color)\n",
    "\n",
    "plt.tight_layout()\n",
    "plt.show()"
   ]
  }
 ],
 "metadata": {
  "kernelspec": {
   "display_name": "Python 3",
   "language": "python",
   "name": "python3"
  },
  "language_info": {
   "codemirror_mode": {
    "name": "ipython",
    "version": 3
   },
   "file_extension": ".py",
   "mimetype": "text/x-python",
   "name": "python",
   "nbconvert_exporter": "python",
   "pygments_lexer": "ipython3",
   "version": "3.12.0"
  }
 },
 "nbformat": 4,
 "nbformat_minor": 2
}
