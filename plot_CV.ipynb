{
 "cells": [
  {
   "cell_type": "code",
   "execution_count": null,
   "metadata": {},
   "outputs": [],
   "source": [
    "from matplotlib import pyplot as plt\n",
    "import numpy as np\n",
    "import pandas as pd\n",
    "import os\n",
    "import datetime\n",
    "from config import props, filenames\n",
    "try:\n",
    "    import eclabfiles as ecf\n",
    "except ImportError:\n",
    "    print(\"eclabfiles not available\")"
   ]
  },
  {
   "cell_type": "code",
   "execution_count": null,
   "metadata": {},
   "outputs": [],
   "source": [
    "def read_CV_text(ecf_text_filename: str):\n",
    "    with open(ecf_text_filename) as file:\n",
    "        file.readline()\n",
    "        Nb_header_lines = int(file.readline().split(' : ')[-1])\n",
    "    ecfdf = pd.read_csv(ecf_text_filename, decimal=',', names=['t', 'U', 'I', 'cycle number'],\n",
    "                        sep='\\t', skiprows=Nb_header_lines, encoding='ANSI')\n",
    "\n",
    "    return ecfdf"
   ]
  },
  {
   "cell_type": "code",
   "execution_count": null,
   "metadata": {},
   "outputs": [],
   "source": [
    "def read_CV_mpr():\n",
    "    data = ecf.to_df(f'{filenames.data}{props.codename}{props.CV_file}_C02.mpr')\n",
    "    columns_dict = {\n",
    "        'time'  : 't',\n",
    "        'Ewe'   : 'U',\n",
    "        '<I>'   : 'I',\n",
    "        'cycle number' : 'cycle number',\n",
    "    }\n",
    "    data = pd.DataFrame(data, columns=columns_dict)\n",
    "    data = data.rename(columns=columns_dict)\n",
    "    return data"
   ]
  },
  {
   "cell_type": "code",
   "execution_count": null,
   "metadata": {},
   "outputs": [],
   "source": [
    "data = read_CV_text(f'{filenames.data}{props.codename}{props.CV_file}_C02.txt')"
   ]
  },
  {
   "cell_type": "code",
   "execution_count": null,
   "metadata": {},
   "outputs": [],
   "source": [
    "data = read_CV_mpr()"
   ]
  },
  {
   "cell_type": "code",
   "execution_count": null,
   "metadata": {},
   "outputs": [],
   "source": [
    "total_nc = int(data['cycle number'].iloc[-1])\n",
    "fig = plt.figure()\n",
    "plt.title(f'CV for {props.codename}{props.CV_file} {total_nc = }')\n",
    "plt.xlabel('U [V]')\n",
    "plt.ylabel('J [mA/cm$^2$]')\n",
    "plt.axhline(0.3, c='gray', ls='--')\n",
    "plt.axhline(0.7, c='gray', ls='--')\n",
    "for i in range(1, total_nc+1):\n",
    "    cycle = data[data['cycle number'] == i]\n",
    "    plt.plot(cycle.U, 100*cycle.I/props.el_area, color=plt.cm.viridis(i/total_nc))"
   ]
  },
  {
   "cell_type": "code",
   "execution_count": null,
   "metadata": {},
   "outputs": [],
   "source": [
    "if not os.path.exists(filenames.notes):\n",
    "    os.makedirs(filenames.notes)\n",
    "if os.path.exists(f'{filenames.notes}/CV.png'):\n",
    "    overwrite = (input('Do you want to overwrite the existing CV plot? [y/n]') in ('y', 'Y'))\n",
    "    if overwrite:\n",
    "        fig.savefig(f'{filenames.notes}/CV.png')\n",
    "else:\n",
    "    fig.savefig(f'{filenames.notes}/CV.png')"
   ]
  }
 ],
 "metadata": {
  "kernelspec": {
   "display_name": "Python 3",
   "language": "python",
   "name": "python3"
  },
  "language_info": {
   "codemirror_mode": {
    "name": "ipython",
    "version": 3
   },
   "file_extension": ".py",
   "mimetype": "text/x-python",
   "name": "python",
   "nbconvert_exporter": "python",
   "pygments_lexer": "ipython3"
  }
 },
 "nbformat": 4,
 "nbformat_minor": 2
}
