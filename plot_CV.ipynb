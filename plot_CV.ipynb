{
 "cells": [
  {
   "cell_type": "code",
   "execution_count": null,
   "metadata": {},
   "outputs": [],
   "source": [
    "import eclabfiles as ecf\n",
    "from matplotlib import pyplot as plt\n",
    "import numpy as np\n",
    "import pandas as pd\n",
    "import os\n",
    "import munch\n",
    "import yaml\n",
    "import easygui"
   ]
  },
  {
   "cell_type": "code",
   "execution_count": null,
   "metadata": {},
   "outputs": [],
   "source": [
    "DATE = '03-19'"
   ]
  },
  {
   "cell_type": "code",
   "execution_count": null,
   "metadata": {},
   "outputs": [],
   "source": [
    "# loading data\n",
    "folder_name = f'T:/Team/Szewczyk/Data/2024-{DATE}'\n",
    "with open(f'{folder_name}/properties.yaml') as file:\n",
    "    props_dict = yaml.safe_load(file)\n",
    "props:munch.Munch = munch.munchify(props_dict)\n",
    "props.keys()"
   ]
  },
  {
   "cell_type": "code",
   "execution_count": null,
   "metadata": {},
   "outputs": [],
   "source": [
    "data = ecf.to_df(f'{folder_name}/{props.codename}{props.CV_file}_C02.mpr')"
   ]
  },
  {
   "cell_type": "code",
   "execution_count": null,
   "metadata": {},
   "outputs": [],
   "source": [
    "total_nc = int(data['cycle number'].iloc[-1])\n",
    "fig = plt.figure()\n",
    "plt.title(f'CV for {props.codename}{props.CV_file}; {total_nc = }')\n",
    "plt.xlabel('U [V]')\n",
    "plt.ylabel('J [mA/cm$^2$]')\n",
    "for i in range(1, total_nc+1):\n",
    "    cycle = data[data['cycle number'] == i]\n",
    "    plt.plot(cycle.Ewe, 100*cycle['<I>']/props.el_area, color=plt.cm.viridis(i/total_nc))"
   ]
  },
  {
   "cell_type": "code",
   "execution_count": null,
   "metadata": {},
   "outputs": [],
   "source": [
    "folder_name = f'C:/Users/go68nim/OneDrive - University of Edinburgh/Notes/Lab/experiments/plots/{DATE[1:]}'\n",
    "if not os.path.exists(folder_name):\n",
    "    os.makedirs(folder_name)\n",
    "if os.path.exists(f'{folder_name}/CV.png'):\n",
    "    overwrite = easygui.ynbox('Do you want to overwrite?')\n",
    "    if overwrite:\n",
    "        fig.savefig(f'{folder_name}/CV.png')\n",
    "else:\n",
    "    fig.savefig(f'{folder_name}/CV.png')"
   ]
  }
 ],
 "metadata": {
  "kernelspec": {
   "display_name": "Python 3",
   "language": "python",
   "name": "python3"
  },
  "language_info": {
   "codemirror_mode": {
    "name": "ipython",
    "version": 3
   },
   "file_extension": ".py",
   "mimetype": "text/x-python",
   "name": "python",
   "nbconvert_exporter": "python",
   "pygments_lexer": "ipython3",
   "version": "3.12.0"
  }
 },
 "nbformat": 4,
 "nbformat_minor": 2
}
