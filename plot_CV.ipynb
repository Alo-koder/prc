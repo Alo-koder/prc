{
 "cells": [
  {
   "cell_type": "code",
   "execution_count": null,
   "metadata": {},
   "outputs": [],
   "source": [
    "import eclabfiles as ecf\n",
    "from matplotlib import pyplot as plt\n",
    "import numpy as np\n",
    "import pandas as pd\n",
    "import os\n",
    "from config import props, filenames"
   ]
  },
  {
   "cell_type": "code",
   "execution_count": null,
   "metadata": {},
   "outputs": [],
   "source": [
    "data = ecf.to_df(f'{filenames.data}/{props.codename}{props.CV_file}_C01.mpr')"
   ]
  },
  {
   "cell_type": "code",
   "execution_count": null,
   "metadata": {},
   "outputs": [],
   "source": [
    "total_nc = int(data['cycle number'].iloc[-1])\n",
    "fig = plt.figure()\n",
    "plt.title(f'CV for {props.codename}{props.CV_file}; {total_nc = }')\n",
    "plt.xlabel('U [V]')\n",
    "plt.ylabel('J [mA/cm$^2$]')\n",
    "for i in range(1, total_nc+1):\n",
    "    cycle = data[data['cycle number'] == i]\n",
    "    plt.plot(cycle.Ewe, 100*cycle['<I>']/props.el_area, color=plt.cm.viridis(i/total_nc))"
   ]
  },
  {
   "cell_type": "code",
   "execution_count": null,
   "metadata": {},
   "outputs": [],
   "source": [
    "if not os.path.exists(filenames.notes):\n",
    "    os.makedirs(filenames.notes)\n",
    "if os.path.exists(f'{filenames.notes}/CV.png'):\n",
    "    overwrite = (input('Do you want to overwrite the existing CV plot? [y/n]') in ('y', 'Y'))\n",
    "    if overwrite:\n",
    "        fig.savefig(f'{filenames.notes}/CV.png')\n",
    "else:\n",
    "    fig.savefig(f'{filenames.notes}/CV.png')"
   ]
  }
 ],
 "metadata": {
  "kernelspec": {
   "display_name": "Python 3",
   "language": "python",
   "name": "python3"
  },
  "language_info": {
   "codemirror_mode": {
    "name": "ipython",
    "version": 3
   },
   "file_extension": ".py",
   "mimetype": "text/x-python",
   "name": "python",
   "nbconvert_exporter": "python",
   "pygments_lexer": "ipython3",
   "version": "3.12.0"
  }
 },
 "nbformat": 4,
 "nbformat_minor": 2
}
