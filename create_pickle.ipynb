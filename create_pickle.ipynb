{
 "cells": [
  {
   "cell_type": "code",
   "execution_count": 1,
   "metadata": {},
   "outputs": [],
   "source": [
    "import pandas as pd\n",
    "import eclabfiles as ecf\n",
    "from matplotlib import pyplot as plt\n",
    "import numpy as np\n",
    "import glob\n",
    "from pickle_utils import read_ecf, read_emsi, optimise_emsi_start, alt_opt_emsi_start\n",
    "from config import filenames, props\n",
    "%matplotlib qt"
   ]
  },
  {
   "cell_type": "code",
   "execution_count": 2,
   "metadata": {},
   "outputs": [],
   "source": [
    "%load_ext autoreload\n",
    "%autoreload 2"
   ]
  },
  {
   "cell_type": "code",
   "execution_count": 3,
   "metadata": {},
   "outputs": [],
   "source": [
    "ecfile = glob.glob(filenames.data+'*.mpr')[-1]\n",
    "datfiles = glob.glob(filenames.data+'*.dat')"
   ]
  },
  {
   "cell_type": "code",
   "execution_count": 4,
   "metadata": {},
   "outputs": [],
   "source": [
    "ecfdf, ecf_start = read_ecf(ecfile)"
   ]
  },
  {
   "cell_type": "code",
   "execution_count": 7,
   "metadata": {},
   "outputs": [
    {
     "name": "stdout",
     "output_type": "stream",
     "text": [
      "[1.02221584]\n",
      "[-0.23911383]\n",
      "[0.79736051]\n",
      "[0.02045329]\n",
      "[0.0235608]\n",
      "[-0.02035807]\n",
      "[0.40363321]\n",
      "[0.32961917]\n"
     ]
    },
    {
     "data": {
      "text/plain": [
       "[<matplotlib.lines.Line2D at 0x7f58e41386e0>]"
      ]
     },
     "execution_count": 7,
     "metadata": {},
     "output_type": "execute_result"
    }
   ],
   "source": [
    "joined_emsi = pd.DataFrame([])\n",
    "for filename in datfiles:\n",
    "    emsidf, emsi_start, emsi_end = read_emsi(filename)\n",
    "    if emsi_end < ecf_start:\n",
    "        continue\n",
    "    emsidf.loc[:, 'I'] = emsidf.I * 980\n",
    "    emsi_shift = optimise_emsi_start(ecfdf, ecf_start, emsidf, emsi_start)\n",
    "    emsidf.loc[:, 't'] = emsidf.t + emsi_start - ecf_start - emsi_shift\n",
    "    joined_emsi = pd.concat([joined_emsi, emsidf], ignore_index=True)\n",
    "plt.plot(joined_emsi.t, joined_emsi.I)\n",
    "plt.plot(ecfdf.t, ecfdf.I)"
   ]
  },
  {
   "cell_type": "code",
   "execution_count": 8,
   "metadata": {},
   "outputs": [],
   "source": [
    "ecfdf.I = 100*ecfdf.I/props.el_area"
   ]
  },
  {
   "cell_type": "code",
   "execution_count": 9,
   "metadata": {},
   "outputs": [],
   "source": [
    "ecfdf['emsi'] = np.interp(ecfdf.t, joined_emsi.t, joined_emsi.emsi)\n",
    "ecfdf['light'] = np.interp(ecfdf.t, joined_emsi.t, joined_emsi.light)"
   ]
  },
  {
   "cell_type": "code",
   "execution_count": 10,
   "metadata": {},
   "outputs": [],
   "source": [
    "ecfdf.to_pickle(filenames.data+'data.pkl')"
   ]
  }
 ],
 "metadata": {
  "kernelspec": {
   "display_name": "Python 3",
   "language": "python",
   "name": "python3"
  },
  "language_info": {
   "codemirror_mode": {
    "name": "ipython",
    "version": 3
   },
   "file_extension": ".py",
   "mimetype": "text/x-python",
   "name": "python",
   "nbconvert_exporter": "python",
   "pygments_lexer": "ipython3",
   "version": "3.12.2"
  }
 },
 "nbformat": 4,
 "nbformat_minor": 2
}
