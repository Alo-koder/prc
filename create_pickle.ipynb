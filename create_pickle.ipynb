{
 "cells": [
  {
   "cell_type": "markdown",
   "metadata": {},
   "source": [
    "# ***Create pickle*** -- preparing a single synchronised datafile\n",
    "\n",
    "Use this script first to combine raw potentiostat, LabView and photodiode data\n",
    "into a single, synchronised entity file that can be efficently stored and read for future analysis."
   ]
  },
  {
   "cell_type": "code",
   "execution_count": null,
   "metadata": {},
   "outputs": [],
   "source": [
    "import pandas as pd\n",
    "from matplotlib import pyplot as plt\n",
    "import numpy as np\n",
    "import glob\n",
    "from pickle_utils import read_ecf, read_emsi, optimise_emsi_start, read_photodiode, read_ecf_text\n",
    "from config import filenames, props"
   ]
  },
  {
   "cell_type": "markdown",
   "metadata": {},
   "source": [
    "I prefer the plots to be in their own separate window.\n",
    "This way it's easier to enlarge and manipulate them.\n",
    "The following cell tells `matplotlib` to use the windowed `qt` backend:"
   ]
  },
  {
   "cell_type": "code",
   "execution_count": null,
   "metadata": {},
   "outputs": [],
   "source": [
    "%matplotlib qt"
   ]
  },
  {
   "cell_type": "markdown",
   "metadata": {},
   "source": [
    "For debugging convenience, all of the external functions are reimported at each invocation with `autoreload`."
   ]
  },
  {
   "cell_type": "code",
   "execution_count": null,
   "metadata": {},
   "outputs": [],
   "source": [
    "%load_ext autoreload\n",
    "%autoreload 2"
   ]
  },
  {
   "cell_type": "markdown",
   "metadata": {},
   "source": [
    "## Loading potentiostat data"
   ]
  },
  {
   "cell_type": "code",
   "execution_count": null,
   "metadata": {},
   "outputs": [],
   "source": [
    "ecfile = glob.glob(filenames.data+'*.txt')[-1] # last text file in the folder\n",
    "ecfile"
   ]
  },
  {
   "cell_type": "markdown",
   "metadata": {},
   "source": [
    "Some old measurements don't have the potentiostat data stored in text.\n",
    "It is possible to read old ECLab files with a python package `eclabfiles`.\n",
    "In order to use it, find the `.mpr` file and use the `read_ecf` function\n",
    "instead of `read_ecf_text`."
   ]
  },
  {
   "cell_type": "code",
   "execution_count": null,
   "metadata": {},
   "outputs": [],
   "source": [
    "ecfdf, ecf_start = read_ecf_text(ecfile)"
   ]
  },
  {
   "cell_type": "markdown",
   "metadata": {},
   "source": [
    "## Optional -- loading the photodiode data"
   ]
  },
  {
   "cell_type": "code",
   "execution_count": null,
   "metadata": {},
   "outputs": [],
   "source": [
    "if glob.glob(filenames.data+'*photodiode.csv'):\n",
    "    phdf, ph_start = read_photodiode(glob.glob(filenames.data+'*photodiode.csv')[0])"
   ]
  },
  {
   "cell_type": "markdown",
   "metadata": {},
   "source": [
    "Photodiode data is stored in a single file.\n",
    "Therefore, manual synchronisation is simpler and more accurate.\n",
    "Plot the photodiode and current data next to each other\n",
    "and shift the photodiode time reference (`phdf.t`) until both datasets match."
   ]
  },
  {
   "cell_type": "code",
   "execution_count": null,
   "metadata": {},
   "outputs": [],
   "source": [
    "plt.figure()\n",
    "plt.plot(phdf.t, phdf.photodiode/100)\n",
    "plt.plot(ecfdf.t, ecfdf.I/props.el_area*100)"
   ]
  },
  {
   "cell_type": "code",
   "execution_count": null,
   "metadata": {},
   "outputs": [],
   "source": [
    "phdf.t += 0.3"
   ]
  },
  {
   "cell_type": "code",
   "execution_count": null,
   "metadata": {},
   "outputs": [],
   "source": [
    "ecfdf['photodiode'] = np.interp(ecfdf.t, phdf.t, phdf.photodiode)"
   ]
  },
  {
   "cell_type": "markdown",
   "metadata": {},
   "source": [
    "## Loading LabView `.dat` files\n",
    "\n",
    "List of all `.dat` files in the folder will appear below.\n",
    "Don't worry that some of them are from a CV measurement --\n",
    "this will be sorted out later."
   ]
  },
  {
   "cell_type": "code",
   "execution_count": null,
   "metadata": {},
   "outputs": [],
   "source": [
    "datfiles = glob.glob(filenames.data+'*.dat')\n",
    "datfiles"
   ]
  },
  {
   "cell_type": "markdown",
   "metadata": {},
   "source": [
    "Next cell runs a loop that:\n",
    "\n",
    "1. Reads the `.dat` file.\n",
    "2. In case it finished before the PRC measurement started, it ignores it (it's most likely a CV).\n",
    "3. Automatically synchronises the `.dat` file to the potentiostat data by fitting the recorded currents.\n",
    "4. Plots both currents on one plots so the user can visually check the precision of the fit."
   ]
  },
  {
   "cell_type": "code",
   "execution_count": null,
   "metadata": {},
   "outputs": [],
   "source": [
    "joined_emsi = pd.DataFrame([])\n",
    "for filename in datfiles:\n",
    "    emsidf, emsi_start, emsi_end = read_emsi(filename)\n",
    "    if emsi_end < ecf_start:\n",
    "        continue\n",
    "    emsidf.loc[:, 'I'] = emsidf.I * 980\n",
    "    emsi_shift = optimise_emsi_start(ecfdf, ecf_start, emsidf, emsi_start)\n",
    "    emsidf.loc[:, 't'] = emsidf.t + emsi_start - ecf_start - emsi_shift\n",
    "    joined_emsi = pd.concat([joined_emsi, emsidf], ignore_index=True)\n",
    "plt.plot(joined_emsi.t, joined_emsi.I)\n",
    "# plt.plot(joined_emsi.t, joined_emsi.light)\n",
    "plt.plot(ecfdf.t, ecfdf.I)"
   ]
  },
  {
   "cell_type": "markdown",
   "metadata": {},
   "source": [
    "## Final adjustments and saving"
   ]
  },
  {
   "cell_type": "markdown",
   "metadata": {},
   "source": [
    "Until now, we worked with absolute current. Let's convert it to current density:"
   ]
  },
  {
   "cell_type": "code",
   "execution_count": null,
   "metadata": {},
   "outputs": [],
   "source": [
    "ecfdf.I = 100*ecfdf.I/props.el_area"
   ]
  },
  {
   "cell_type": "markdown",
   "metadata": {},
   "source": [
    "Join all the files and interpolate everything to the potentiostat's time sampling:"
   ]
  },
  {
   "cell_type": "code",
   "execution_count": null,
   "metadata": {},
   "outputs": [],
   "source": [
    "full_data = ecfdf.copy()\n",
    "full_data['emsi'] = np.interp(ecfdf.t, joined_emsi.t, joined_emsi.emsi)\n",
    "full_data['light'] = np.interp(ecfdf.t, joined_emsi.t, joined_emsi.light)"
   ]
  },
  {
   "cell_type": "markdown",
   "metadata": {},
   "source": [
    "Save as a pickle. Feel free to change the data storage format if you need something more portable."
   ]
  },
  {
   "cell_type": "code",
   "execution_count": null,
   "metadata": {},
   "outputs": [],
   "source": [
    "ecfdf.to_pickle(filenames.data+'data.pkl')"
   ]
  }
 ],
 "metadata": {
  "kernelspec": {
   "display_name": "Python 3",
   "language": "python",
   "name": "python3"
  },
  "language_info": {
   "codemirror_mode": {
    "name": "ipython",
    "version": 3
   },
   "file_extension": ".py",
   "mimetype": "text/x-python",
   "name": "python",
   "nbconvert_exporter": "python",
   "pygments_lexer": "ipython3"
  }
 },
 "nbformat": 4,
 "nbformat_minor": 2
}
