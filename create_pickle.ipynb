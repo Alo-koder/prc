{
 "cells": [
  {
   "cell_type": "code",
   "execution_count": 1,
   "metadata": {},
   "outputs": [],
   "source": [
    "import pandas as pd\n",
    "import eclabfiles as ecf\n",
    "from matplotlib import pyplot as plt\n",
    "import numpy as np\n",
    "%matplotlib qt"
   ]
  },
  {
   "cell_type": "code",
   "execution_count": 2,
   "metadata": {},
   "outputs": [],
   "source": [
    "data_filename = 'T:\\\\Team\\\\Szewczyk\\\\Data\\\\2024-02-08\\\\J065_05_C01.mpr'\n",
    "pickle_filename = 'T:\\\\Team\\\\Szewczyk\\\\Data\\\\2024-02-08\\\\data.pkl'"
   ]
  },
  {
   "cell_type": "code",
   "execution_count": 3,
   "metadata": {},
   "outputs": [],
   "source": [
    "data = ecf.to_df(data_filename)"
   ]
  },
  {
   "cell_type": "code",
   "execution_count": 4,
   "metadata": {},
   "outputs": [
    {
     "name": "stdout",
     "output_type": "stream",
     "text": [
      "old names: Index(['Ns', 'time', 'control_V', 'Ewe', '<I>', 'dQ', '(Q-Qo)', 'I Range',\n",
      "       'Q charge/discharge', 'half cycle', 'mode', 'ox/red', 'error',\n",
      "       'control changes', 'Ns changes', 'counter inc.', 'uts'],\n",
      "      dtype='object')\n",
      "new names: Index(['U', 'I', 't'], dtype='object')\n"
     ]
    }
   ],
   "source": [
    "print(f'old names: {data.columns}')\n",
    "\n",
    "dict = {\n",
    "    #'time': 't',\n",
    "    'Ewe': 'U',\n",
    "    '<I>': 'I',\n",
    "    'uts': 't'\n",
    "}\n",
    "\n",
    "data = data[dict.keys()]\n",
    "data.rename(columns=dict, inplace=True)\n",
    "\n",
    "print(f'new names: {data.columns}')\n"
   ]
  },
  {
   "cell_type": "code",
   "execution_count": 5,
   "metadata": {},
   "outputs": [
    {
     "data": {
      "text/plain": [
       "Index(['U', 'I', 't'], dtype='object')"
      ]
     },
     "execution_count": 5,
     "metadata": {},
     "output_type": "execute_result"
    }
   ],
   "source": [
    "data.columns"
   ]
  },
  {
   "cell_type": "code",
   "execution_count": 6,
   "metadata": {},
   "outputs": [],
   "source": [
    "data.rename(columns = {'uts': 't'}, inplace=True)"
   ]
  },
  {
   "cell_type": "code",
   "execution_count": 7,
   "metadata": {},
   "outputs": [],
   "source": [
    "data.to_pickle(pickle_filename)"
   ]
  }
 ],
 "metadata": {
  "kernelspec": {
   "display_name": "Python 3",
   "language": "python",
   "name": "python3"
  },
  "language_info": {
   "codemirror_mode": {
    "name": "ipython",
    "version": 3
   },
   "file_extension": ".py",
   "mimetype": "text/x-python",
   "name": "python",
   "nbconvert_exporter": "python",
   "pygments_lexer": "ipython3",
   "version": "3.12.0"
  }
 },
 "nbformat": 4,
 "nbformat_minor": 2
}
