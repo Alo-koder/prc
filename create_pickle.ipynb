{
 "cells": [
  {
   "cell_type": "code",
   "execution_count": null,
   "metadata": {},
   "outputs": [],
   "source": [
    "import pandas as pd\n",
    "import eclabfiles as ecf\n",
    "from matplotlib import pyplot as plt\n",
    "import numpy as np\n",
    "import glob\n",
    "from pickle_utils import read_ecf, read_emsi, optimise_emsi_start_voltage, alt_opt_emsi_start, read_photodiode\n",
    "from config import filenames, props\n",
    "%matplotlib qt"
   ]
  },
  {
   "cell_type": "code",
   "execution_count": null,
   "metadata": {},
   "outputs": [],
   "source": [
    "%load_ext autoreload\n",
    "%autoreload 2"
   ]
  },
  {
   "cell_type": "code",
   "execution_count": null,
   "metadata": {},
   "outputs": [],
   "source": [
    "ecfile = glob.glob(filenames.data+'*.mpr')[-1]\n",
    "datfiles = glob.glob(filenames.data+'*.dat')"
   ]
  },
  {
   "cell_type": "code",
   "execution_count": null,
   "metadata": {},
   "outputs": [],
   "source": [
    "if glob.glob(filenames.data+'*photodiode.csv'):\n",
    "    phdf, ph_start = read_photodiode(glob.glob(filenames.data+'*photodiode.csv')[0])"
   ]
  },
  {
   "cell_type": "code",
   "execution_count": null,
   "metadata": {},
   "outputs": [],
   "source": [
    "ecfdf, ecf_start = read_ecf(ecfile)"
   ]
  },
  {
   "cell_type": "code",
   "execution_count": null,
   "metadata": {},
   "outputs": [],
   "source": [
    "#ecf_start = 1718631832.0+5052"
   ]
  },
  {
   "cell_type": "code",
   "execution_count": null,
   "metadata": {},
   "outputs": [],
   "source": [
    "phdf.t = phdf.t/1000+ph_start-ecf_start\n",
    "phdf.photodiode = phdf.photodiode*1000"
   ]
  },
  {
   "cell_type": "code",
   "execution_count": null,
   "metadata": {},
   "outputs": [],
   "source": [
    "plt.figure()\n",
    "plt.plot(phdf.t, phdf.photodiode)\n",
    "plt.plot(ecfdf.t, ecfdf.I)"
   ]
  },
  {
   "cell_type": "code",
   "execution_count": null,
   "metadata": {},
   "outputs": [],
   "source": [
    "phdf.t = phdf.t-0.05"
   ]
  },
  {
   "cell_type": "code",
   "execution_count": null,
   "metadata": {},
   "outputs": [],
   "source": [
    "ecfdf['photodiode'] = np.interp(ecfdf.t, phdf.t, phdf.photodiode)"
   ]
  },
  {
   "cell_type": "code",
   "execution_count": null,
   "metadata": {},
   "outputs": [],
   "source": [
    "joined_emsi = pd.DataFrame([])\n",
    "for filename in datfiles:\n",
    "    emsidf, emsi_start, emsi_end = read_emsi(filename)\n",
    "    if emsi_end < ecf_start:\n",
    "        continue\n",
    "    emsidf.loc[:, 'I'] = emsidf.I * 980\n",
    "    emsi_shift = 0 #optimise_emsi_start_voltage(ecfdf, ecf_start, emsidf, emsi_start, props.voltage, props.pert_strength)\n",
    "    emsidf.loc[:, 't'] = emsidf.t + emsi_start - ecf_start - emsi_shift\n",
    "    joined_emsi = pd.concat([joined_emsi, emsidf], ignore_index=True)\n",
    "plt.plot(joined_emsi.t, joined_emsi.I)\n",
    "plt.plot(ecfdf.t, ecfdf.I)"
   ]
  },
  {
   "cell_type": "code",
   "execution_count": null,
   "metadata": {},
   "outputs": [],
   "source": [
    "ecfdf.I = 100*ecfdf.I/props.el_area"
   ]
  },
  {
   "cell_type": "code",
   "execution_count": null,
   "metadata": {},
   "outputs": [],
   "source": [
    "ecfdf['emsi'] = np.interp(ecfdf.t, joined_emsi.t, joined_emsi.emsi)\n",
    "ecfdf['light'] = np.interp(ecfdf.t, joined_emsi.t, joined_emsi.light)"
   ]
  },
  {
   "cell_type": "code",
   "execution_count": null,
   "metadata": {},
   "outputs": [],
   "source": [
    "ecfdf.to_pickle(filenames.data+'data.pkl')"
   ]
  }
 ],
 "metadata": {
  "kernelspec": {
   "display_name": "Python 3",
   "language": "python",
   "name": "python3"
  },
  "language_info": {
   "codemirror_mode": {
    "name": "ipython",
    "version": 3
   },
   "file_extension": ".py",
   "mimetype": "text/x-python",
   "name": "python",
   "nbconvert_exporter": "python",
   "pygments_lexer": "ipython3",
   "version": "3.12.0"
  }
 },
 "nbformat": 4,
 "nbformat_minor": 2
}
