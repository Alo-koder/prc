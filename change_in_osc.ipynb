{
 "cells": [
  {
   "cell_type": "code",
   "execution_count": 7,
   "metadata": {},
   "outputs": [],
   "source": [
    "from matplotlib import pyplot as plt\n",
    "import pandas as pd\n",
    "import numpy as np\n",
    "%matplotlib qt"
   ]
  },
  {
   "cell_type": "code",
   "execution_count": 4,
   "metadata": {},
   "outputs": [],
   "source": [
    "data_early = pd.read_csv('T:\\\\Team\\\\Szewczyk\\\\Data\\\\2024-02-22\\\\A01903.dat', skiprows=6, sep='\\t')"
   ]
  },
  {
   "cell_type": "code",
   "execution_count": 5,
   "metadata": {},
   "outputs": [
    {
     "data": {
      "text/html": [
       "<div>\n",
       "<style scoped>\n",
       "    .dataframe tbody tr th:only-of-type {\n",
       "        vertical-align: middle;\n",
       "    }\n",
       "\n",
       "    .dataframe tbody tr th {\n",
       "        vertical-align: top;\n",
       "    }\n",
       "\n",
       "    .dataframe thead th {\n",
       "        text-align: right;\n",
       "    }\n",
       "</style>\n",
       "<table border=\"1\" class=\"dataframe\">\n",
       "  <thead>\n",
       "    <tr style=\"text-align: right;\">\n",
       "      <th></th>\n",
       "      <th>Time [s]</th>\n",
       "      <th>U [V]</th>\n",
       "      <th>I [A]</th>\n",
       "      <th>Ill [V]</th>\n",
       "      <th>EMSI [%]</th>\n",
       "    </tr>\n",
       "  </thead>\n",
       "  <tbody>\n",
       "    <tr>\n",
       "      <th>0</th>\n",
       "      <td>0.067</td>\n",
       "      <td>-6.003043</td>\n",
       "      <td>-0.000018</td>\n",
       "      <td>-0.0002</td>\n",
       "      <td>20.0734</td>\n",
       "    </tr>\n",
       "    <tr>\n",
       "      <th>1</th>\n",
       "      <td>0.167</td>\n",
       "      <td>-6.004994</td>\n",
       "      <td>-0.000018</td>\n",
       "      <td>-0.0000</td>\n",
       "      <td>20.0734</td>\n",
       "    </tr>\n",
       "    <tr>\n",
       "      <th>2</th>\n",
       "      <td>0.267</td>\n",
       "      <td>-6.003043</td>\n",
       "      <td>-0.000018</td>\n",
       "      <td>-0.0002</td>\n",
       "      <td>20.0734</td>\n",
       "    </tr>\n",
       "    <tr>\n",
       "      <th>3</th>\n",
       "      <td>0.367</td>\n",
       "      <td>-6.002392</td>\n",
       "      <td>-0.000018</td>\n",
       "      <td>-0.0000</td>\n",
       "      <td>20.0734</td>\n",
       "    </tr>\n",
       "    <tr>\n",
       "      <th>4</th>\n",
       "      <td>0.467</td>\n",
       "      <td>-6.004994</td>\n",
       "      <td>-0.000018</td>\n",
       "      <td>-0.0000</td>\n",
       "      <td>20.0734</td>\n",
       "    </tr>\n",
       "    <tr>\n",
       "      <th>...</th>\n",
       "      <td>...</td>\n",
       "      <td>...</td>\n",
       "      <td>...</td>\n",
       "      <td>...</td>\n",
       "      <td>...</td>\n",
       "    </tr>\n",
       "    <tr>\n",
       "      <th>71981</th>\n",
       "      <td>7198.167</td>\n",
       "      <td>-6.003043</td>\n",
       "      <td>-0.000027</td>\n",
       "      <td>-0.0002</td>\n",
       "      <td>19.4628</td>\n",
       "    </tr>\n",
       "    <tr>\n",
       "      <th>71982</th>\n",
       "      <td>7198.267</td>\n",
       "      <td>-6.004019</td>\n",
       "      <td>-0.000027</td>\n",
       "      <td>-0.0002</td>\n",
       "      <td>19.4603</td>\n",
       "    </tr>\n",
       "    <tr>\n",
       "      <th>71983</th>\n",
       "      <td>7198.367</td>\n",
       "      <td>-6.004669</td>\n",
       "      <td>-0.000027</td>\n",
       "      <td>-0.0002</td>\n",
       "      <td>19.4184</td>\n",
       "    </tr>\n",
       "    <tr>\n",
       "      <th>71984</th>\n",
       "      <td>7198.467</td>\n",
       "      <td>-6.002067</td>\n",
       "      <td>-0.000027</td>\n",
       "      <td>-0.0002</td>\n",
       "      <td>19.4573</td>\n",
       "    </tr>\n",
       "    <tr>\n",
       "      <th>71985</th>\n",
       "      <td>7198.567</td>\n",
       "      <td>-6.003043</td>\n",
       "      <td>-0.000027</td>\n",
       "      <td>-0.0000</td>\n",
       "      <td>19.4614</td>\n",
       "    </tr>\n",
       "  </tbody>\n",
       "</table>\n",
       "<p>71986 rows × 5 columns</p>\n",
       "</div>"
      ],
      "text/plain": [
       "       Time [s]     U [V]     I [A]  Ill [V]  EMSI [%]\n",
       "0         0.067 -6.003043 -0.000018  -0.0002   20.0734\n",
       "1         0.167 -6.004994 -0.000018  -0.0000   20.0734\n",
       "2         0.267 -6.003043 -0.000018  -0.0002   20.0734\n",
       "3         0.367 -6.002392 -0.000018  -0.0000   20.0734\n",
       "4         0.467 -6.004994 -0.000018  -0.0000   20.0734\n",
       "...         ...       ...       ...      ...       ...\n",
       "71981  7198.167 -6.003043 -0.000027  -0.0002   19.4628\n",
       "71982  7198.267 -6.004019 -0.000027  -0.0002   19.4603\n",
       "71983  7198.367 -6.004669 -0.000027  -0.0002   19.4184\n",
       "71984  7198.467 -6.002067 -0.000027  -0.0002   19.4573\n",
       "71985  7198.567 -6.003043 -0.000027  -0.0000   19.4614\n",
       "\n",
       "[71986 rows x 5 columns]"
      ]
     },
     "execution_count": 5,
     "metadata": {},
     "output_type": "execute_result"
    }
   ],
   "source": [
    "data_early"
   ]
  },
  {
   "cell_type": "code",
   "execution_count": 12,
   "metadata": {},
   "outputs": [],
   "source": [
    "fig, ax1 = plt.subplots()\n",
    "ax1.plot(data_early['Time [s]'], -data_early['I [A]'])\n",
    "ax2 = ax1.twinx()\n",
    "ax2.plot(data_early['Time [s]'], data_early['EMSI [%]'], c='orange')\n",
    "fig.show()"
   ]
  },
  {
   "cell_type": "code",
   "execution_count": 13,
   "metadata": {},
   "outputs": [],
   "source": [
    "data_late = pd.read_csv('T:\\\\Team\\\\Szewczyk\\\\Data\\\\2024-02-22\\\\A01910.dat', skiprows=6, sep='\\t')"
   ]
  },
  {
   "cell_type": "code",
   "execution_count": 14,
   "metadata": {},
   "outputs": [],
   "source": [
    "fig, ax1 = plt.subplots()\n",
    "ax1.plot(data_late['Time [s]'], -data_late['I [A]'])\n",
    "ax2 = ax1.twinx()\n",
    "ax2.plot(data_late['Time [s]'], data_late['EMSI [%]'], c='orange')\n",
    "fig.show()"
   ]
  }
 ],
 "metadata": {
  "kernelspec": {
   "display_name": "Python 3",
   "language": "python",
   "name": "python3"
  },
  "language_info": {
   "codemirror_mode": {
    "name": "ipython",
    "version": 3
   },
   "file_extension": ".py",
   "mimetype": "text/x-python",
   "name": "python",
   "nbconvert_exporter": "python",
   "pygments_lexer": "ipython3",
   "version": "3.12.0"
  }
 },
 "nbformat": 4,
 "nbformat_minor": 2
}
