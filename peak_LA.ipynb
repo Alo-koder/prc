{
 "cells": [
  {
   "cell_type": "code",
   "execution_count": 1,
   "metadata": {},
   "outputs": [],
   "source": [
    "from scipy.signal import find_peaks\n",
    "from matplotlib import pyplot as plt\n",
    "import pandas as pd\n",
    "import numpy as np\n",
    "from scipy.ndimage import gaussian_filter, convolve\n",
    "from scipy.interpolate import CubicSpline\n",
    "\n",
    "\n",
    "%matplotlib qt"
   ]
  },
  {
   "cell_type": "code",
   "execution_count": 15,
   "metadata": {},
   "outputs": [],
   "source": [
    "def find_cycles(data:pd.DataFrame, pert_times:np.ndarray): \n",
    "    '''\n",
    "    Divide the signal into cycles by cutting when the current\n",
    "    crosses a specific value.\n",
    "\n",
    "    Parameters\n",
    "    ----------\n",
    "    data : pd.DataFrame\n",
    "        experimental data (current versus time)\n",
    "    pert_times : np.array\n",
    "    threshold_I_multiplier : float\n",
    "        point where I == threshold_I is defined\n",
    "        to have phase = 0; defined as fraction of mean current\n",
    "    sign_change : int\n",
    "        1 when I raises at phase==0, otherwise -1\n",
    "\n",
    "    \n",
    "    Returns\n",
    "    -------\n",
    "    cycles : pd.DataFrame\n",
    "        A dataframe describing period information\n",
    "        Index:\n",
    "            start -- t at which phase == 0\n",
    "        Columns:\n",
    "            duration -- T of this period\n",
    "            expected_duration -- predicted unperturbed T\n",
    "                calculated via a quadratic fit\n",
    "            had_pert -- boolean array, True if a perturbation\n",
    "                occured within this period\n",
    "    '''\n",
    "    \n",
    "\n",
    "    # Current characteristics:\n",
    "    bottom_current, top_current = np.percentile(data[data.I.notna()].I, [1, 99])\n",
    "    current_range = top_current - bottom_current\n",
    "\n",
    "    # peak_indicies, _ = find_peaks(-data.I, height = -1.1*bottom_current, prominence=0.5*current_range)\n",
    "    peak_indicies, _ = find_peaks(data.I, height = 0.7*top_current, prominence=0.7*current_range)\n",
    "    \n",
    "    peak_times = np.array(data.loc[peak_indicies].t)\n",
    "\n",
    "\n",
    "    period_durations = np.diff(peak_times, append = np.nan)\n",
    "\n",
    "\n",
    "\n",
    "    period_fit = np.polyfit(peak_times[:-1], period_durations[:-1], 2)\n",
    "    expected_duration = np.polyval(period_fit, peak_times)\n",
    "\n",
    "    perturbed_periods = np.searchsorted(peak_times, np.array(pert_times))-1\n",
    "\n",
    "    cycles = pd.DataFrame({\n",
    "                            'start'             : peak_times,\n",
    "                            'duration'          : period_durations,\n",
    "                            'expected_duration' : expected_duration,\n",
    "                            'had_pert'          : False,\n",
    "                        })\n",
    "    cycles.loc[perturbed_periods, 'had_pert'] = True\n",
    "    # Purging bad cycles\n",
    "    cycles.drop(cycles.tail(1).index, inplace=True) # Drop last row\n",
    "    if (cycles.isna().any(axis=None) or (cycles['duration'] > 80).any()):\n",
    "            print(f'Warning! Some info might be wrong/missing')\n",
    "            print(cycles[cycles.isna().any(axis=1)])\n",
    "            print(cycles[cycles['duration'] > 80])\n",
    "    cycles = cycles[~cycles.isna().any(axis=1)]\n",
    "    cycles = cycles[cycles['duration'] < 80]\n",
    "\n",
    "\n",
    "    # Recalculate expected duration\n",
    "    period_fit = np.polyfit(cycles['start'], cycles['duration'], 5) #change back to 5!\n",
    "    cycles['expected_duration'] = np.polyval(period_fit, cycles['start'])\n",
    "\n",
    "    cycles.reset_index(drop=True, inplace=True)\n",
    "    return cycles\n",
    "    "
   ]
  },
  {
   "cell_type": "code",
   "execution_count": 16,
   "metadata": {},
   "outputs": [],
   "source": [
    "def pert_response(cycles, pert_times, pert_direction):\n",
    "    '''\n",
    "    Create a dataframe with data about the perturbations.\n",
    "\n",
    "    Parameters\n",
    "    ----------\n",
    "    cycles : pd.DataFrame\n",
    "        A dataframe describing period information\n",
    "            start -- t at which phase == 0\n",
    "            duration -- T of this period\n",
    "    pert_times : np.ndarray\n",
    "    pert_direction : np.ndarray\n",
    "\n",
    "    Returns\n",
    "    -------\n",
    "    perts : pd.DataFrame\n",
    "        A dataframe describing information about each perturbation\n",
    "            time -- start of the perturbation\n",
    "            which_period -- index of the cycle in which pert occured\n",
    "            phase -- osc phase at which pert occured relative to I crossing\n",
    "            response -- phase response over current and next period\n",
    "                as a fraction of a mean period\n",
    "    '''\n",
    "\n",
    "    which_period = np.searchsorted(cycles['start'], np.array(pert_times))-1\n",
    "    \n",
    "    period_fit = np.polyfit(cycles['start'], cycles['duration'], 5) #change back to 5!\n",
    "    expected_period = np.polyval(period_fit, pert_times)\n",
    "    # expected_period = np.average([cycles.duration[which_period-i] for i in range(1,4)], axis=0)\n",
    "    # expected_period = np.array(cycles.duration[which_period-2])\n",
    "\n",
    "    phase = (pert_times-cycles['start'].iloc[which_period])/expected_period\n",
    "\n",
    "    response = []\n",
    "    duration = np.array(cycles['duration'])\n",
    "    basis = -(duration[which_period-1]-expected_period)/expected_period\n",
    "    for i in range(4):\n",
    "        response.append(-(duration[which_period+i]-expected_period)/expected_period)\n",
    "\n",
    "    perts = pd.DataFrame({'time'            : pert_times,\n",
    "                        'which_period'      : which_period,\n",
    "                        'direction'         : pert_direction,\n",
    "                        'phase'             : phase,\n",
    "                        'basis'             : basis,\n",
    "                        'response'          : np.sum(response[0:2], axis=0),\n",
    "                        'response_0'        : response[0],\n",
    "                        'response_1'        : response[1],\n",
    "                        'response_2'        : response[2],\n",
    "                        'response_3'        : response[3],\n",
    "                        'expected_period'   : expected_period,\n",
    "                        })\n",
    "\n",
    "    return perts"
   ]
  },
  {
   "cell_type": "code",
   "execution_count": 4,
   "metadata": {},
   "outputs": [],
   "source": [
    "FILENAME = 'T:\\\\Team\\\\Szewczyk\\\\Data\\\\2024-03-07\\\\data.pkl'\n",
    "BASIS_VOLTAGE = 6\n",
    "PERTURBATION = 0.3\n",
    "PERT_SIGN = '+ve'"
   ]
  },
  {
   "cell_type": "code",
   "execution_count": 10,
   "metadata": {},
   "outputs": [],
   "source": [
    "data = pd.read_pickle(FILENAME)"
   ]
  },
  {
   "cell_type": "code",
   "execution_count": 11,
   "metadata": {},
   "outputs": [],
   "source": [
    "# Purging the data -- experiment-dependent\n",
    "data['t'] = data['t']-data.loc[0, 't']\n",
    "data['raw_I'] = data.I.copy()\n",
    "data.I = convolve(data['I'], [0.5, 0.5])\n",
    "data.I = gaussian_filter(data.I, 2)\n",
    "data = data.mask(data['t'] < 300)"
   ]
  },
  {
   "cell_type": "code",
   "execution_count": 19,
   "metadata": {},
   "outputs": [],
   "source": [
    "data = data[(data.t < 51800) & (data.t > 42000)]\n",
    "data = data.reset_index(drop=True)"
   ]
  },
  {
   "cell_type": "code",
   "execution_count": 8,
   "metadata": {},
   "outputs": [],
   "source": [
    "# data.loc[(data['t'] > 20000) & (data['t'] < 32000), 'I'] = np.nan\n",
    "# data.loc[(data['t'] > 34500) & (data['t'] < 43000), 'U'] = np.nan\n",
    "\n",
    "# mask = (data['t'] > 54700) & (data['t'] < 54850)\n",
    "# data.loc[mask, 'I'] = gaussian_filter(data.loc[mask, 'I'], 5)"
   ]
  },
  {
   "cell_type": "code",
   "execution_count": 21,
   "metadata": {},
   "outputs": [],
   "source": [
    "# Detecting perturbations -- version for two types in one experiment\n",
    "# If it takes more than 10s to run, check the inequality direction!\n",
    "pert_times_pos = np.array(data[(np.diff(data['U'], prepend=BASIS_VOLTAGE) > 0.8*PERTURBATION) & (data['U'] > BASIS_VOLTAGE + PERTURBATION/2)]['t'])\n",
    "pert_times_neg = np.array(data[(np.diff(data['U'], prepend=BASIS_VOLTAGE) < -0.8*PERTURBATION/2) & (data['U'] < BASIS_VOLTAGE - PERTURBATION/2)]['t'])\n",
    "pert_times = np.concatenate((pert_times_pos, pert_times_neg))\n",
    "permutation = np.argsort(pert_times)\n",
    "pert_direction = np.concatenate((np.full(pert_times_pos.shape, '+ve'), np.full(pert_times_neg.shape, '-ve')))\n",
    "pert_times = pert_times[permutation]\n",
    "pert_direction = pert_direction[permutation]\n",
    "#print(np.diff(pert_times))\n",
    "for t in pert_times:\n",
    "    surrounding = data[((data.t>t-20) & (data.t<t-0.1)) | ((data.t>t+4) & (data.t<t+24))]\n",
    "    fit = CubicSpline(surrounding.t, surrounding.I)\n",
    "    affected = data[(data['t'] > t-0.1) & (data['t'] < t+4)]\n",
    "    data.loc[(data['t'] > t-0.1) & (data['t'] < t+4), 'I'] = fit(affected.t)\n",
    "\n",
    "# data['I'] = np.interp(data['t'], data.loc[data['I'].notna() ,'t'], data.loc[data['I'].notna(), 'I'])"
   ]
  },
  {
   "cell_type": "code",
   "execution_count": 8,
   "metadata": {},
   "outputs": [
    {
     "data": {
      "text/plain": [
       "<matplotlib.legend.Legend at 0x1c943b80590>"
      ]
     },
     "execution_count": 8,
     "metadata": {},
     "output_type": "execute_result"
    }
   ],
   "source": [
    "plt.figure()\n",
    "plt.plot(data['t'], data['raw_I'], label='raw')\n",
    "plt.plot(data['t'], data['I'], label = 'masked')\n",
    "plt.ylabel('Current density')\n",
    "plt.xlabel('time [s]')\n",
    "plt.legend(loc=1)"
   ]
  },
  {
   "cell_type": "code",
   "execution_count": 9,
   "metadata": {},
   "outputs": [
    {
     "data": {
      "text/plain": [
       "[<matplotlib.lines.Line2D at 0x2828cf0fd70>]"
      ]
     },
     "execution_count": 9,
     "metadata": {},
     "output_type": "execute_result"
    }
   ],
   "source": [
    "plt.figure()\n",
    "plt.ylabel('U [V]')\n",
    "plt.plot(data.t, data.U)"
   ]
  },
  {
   "cell_type": "code",
   "execution_count": 22,
   "metadata": {},
   "outputs": [],
   "source": [
    "cycles = find_cycles(data, pert_times)\n",
    "mean_period = np.mean(cycles['duration'])\n",
    "\n",
    "# Calculate perturbation response\n",
    "perts = pert_response(cycles, pert_times[:-1], pert_direction[:-1])"
   ]
  },
  {
   "cell_type": "code",
   "execution_count": 18,
   "metadata": {},
   "outputs": [],
   "source": [
    "fig, axs = plt.subplots(2, sharex=True)\n",
    "\n",
    "axs[0].plot(cycles['start'], cycles['duration'])\n",
    "axs[0].plot(perts.time, perts.expected_period)\n",
    "axs[0].set_ylabel('period')\n",
    "axs[0].scatter(cycles['start'][cycles['had_pert']], cycles['duration'][cycles['had_pert']], c='r', s=10)\n",
    "\n",
    "axs[1].scatter(perts['time'], perts['phase'], marker = 'x')\n",
    "# axs[1].plot(perts['time'], perts['phase'])\n",
    "# axs[1].set_ylabel('pert. phase')\n",
    "\n",
    "fig.supxlabel('time [s]')\n",
    "fig.tight_layout()"
   ]
  },
  {
   "cell_type": "code",
   "execution_count": 23,
   "metadata": {},
   "outputs": [
    {
     "data": {
      "text/plain": [
       "<matplotlib.lines.Line2D at 0x211c2fb1cd0>"
      ]
     },
     "execution_count": 23,
     "metadata": {},
     "output_type": "execute_result"
    }
   ],
   "source": [
    "perts_now = perts[perts['direction'] == PERT_SIGN]\n",
    "sorted_perts = perts_now.sort_values(by='phase')\n",
    "\n",
    "params = np.polyfit(sorted_perts['phase'], sorted_perts['response'], 6)\n",
    "response_fit = np.polyval(params, sorted_perts['phase'])\n",
    "\n",
    "plt.figure()\n",
    "plt.title(f'PRC for {BASIS_VOLTAGE}{'+' if PERT_SIGN=='+ve' else '-'}{PERTURBATION}V, peak-determined period')\n",
    "plt.scatter(perts_now['phase'], perts_now['response'], c=perts_now['time'])\n",
    "#plt.plot(sorted_perts['phase'], response_fit)\n",
    "plt.axhline(0)"
   ]
  },
  {
   "cell_type": "code",
   "execution_count": 21,
   "metadata": {},
   "outputs": [],
   "source": [
    "fig, axs = plt.subplots(2,2, sharex = True, sharey=True, figsize = (14, 9))\n",
    "things_to_plot = ['basis', 'response_0', 'response_1', 'response_3']\n",
    "for (thing, ax) in zip(things_to_plot, axs.flatten()):\n",
    "    ax.scatter(perts_now['phase'], perts_now[thing], c=perts_now['time'])\n",
    "    ax.set_title(thing)\n",
    "    ax.axhline(0, ls='--')\n",
    "fig.suptitle(f'PRC for {BASIS_VOLTAGE}{'+' if PERT_SIGN=='+ve' else '-'}{PERTURBATION}V, peak-determined period')\n",
    "fig.supxlabel(r'$\\phi$')\n",
    "fig.supylabel(r'$\\Delta\\phi$')\n",
    "fig.tight_layout()"
   ]
  }
 ],
 "metadata": {
  "kernelspec": {
   "display_name": "Python 3",
   "language": "python",
   "name": "python3"
  },
  "language_info": {
   "codemirror_mode": {
    "name": "ipython",
    "version": 3
   },
   "file_extension": ".py",
   "mimetype": "text/x-python",
   "name": "python",
   "nbconvert_exporter": "python",
   "pygments_lexer": "ipython3",
   "version": "3.12.0"
  }
 },
 "nbformat": 4,
 "nbformat_minor": 2
}
