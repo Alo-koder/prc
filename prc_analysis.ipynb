{
 "cells": [
  {
   "cell_type": "markdown",
   "metadata": {},
   "source": [
    "# ***PRC analysis*** -- obtaining the phase response curves\n",
    "\n",
    "The main core of the program.\n",
    "Use this notebook to analyse the current and calculate PRCs"
   ]
  },
  {
   "cell_type": "code",
   "execution_count": null,
   "metadata": {},
   "outputs": [],
   "source": [
    "import pandas as pd\n",
    "import numpy as np\n",
    "import matplotlib as mpl\n",
    "from matplotlib import pyplot as plt\n",
    "from config import props, filenames\n",
    "import analysis\n",
    "import prc_plotting as plot"
   ]
  },
  {
   "cell_type": "markdown",
   "metadata": {},
   "source": [
    "Automatic import reloads and pop-up window pyplot plottting:"
   ]
  },
  {
   "cell_type": "code",
   "execution_count": null,
   "metadata": {},
   "outputs": [],
   "source": [
    "%load_ext autoreload\n",
    "%autoreload 2\n",
    "%matplotlib qt"
   ]
  },
  {
   "cell_type": "markdown",
   "metadata": {},
   "source": [
    "## Data reading, cleaning and interpolation"
   ]
  },
  {
   "cell_type": "code",
   "execution_count": null,
   "metadata": {},
   "outputs": [],
   "source": [
    "data_raw = pd.read_pickle(filenames.data+'data.pkl')\n",
    "data_raw.t = data_raw.t - data_raw.t[0] # making sure time starts at 0\n",
    "data = analysis.data_cleaning(data_raw.copy())\n",
    "pert_times = analysis.find_perts(data)\n",
    "data = analysis.data_interpolation(data, pert_times)\n",
    "data = analysis.correct_emsi(data)"
   ]
  },
  {
   "cell_type": "markdown",
   "metadata": {},
   "source": [
    "The cell below can be ignored"
   ]
  },
  {
   "cell_type": "code",
   "execution_count": null,
   "metadata": {},
   "outputs": [],
   "source": [
    "# plt.figure()\n",
    "# plt.plot(data.t, np.diff(data.I_real, n=2, prepend=0, append=0))"
   ]
  },
  {
   "cell_type": "markdown",
   "metadata": {},
   "source": [
    "### Current and emsi waveform plot\n",
    "\n",
    "Both are plotted so we can make sure everything went right.\n",
    "This plot is also useful to investigate the current waveform directly."
   ]
  },
  {
   "cell_type": "code",
   "execution_count": null,
   "metadata": {},
   "outputs": [],
   "source": [
    "plot.current_and_emsi(data, data_raw)"
   ]
  },
  {
   "cell_type": "markdown",
   "metadata": {},
   "source": [
    "## Analysis\n",
    "\n",
    "### Calculate periods and pert responses"
   ]
  },
  {
   "cell_type": "code",
   "execution_count": null,
   "metadata": {},
   "outputs": [],
   "source": [
    "cycles = analysis.find_cycles(data, pert_times)\n",
    "cycles.head(5)"
   ]
  },
  {
   "cell_type": "code",
   "execution_count": null,
   "metadata": {},
   "outputs": [],
   "source": [
    "perts = analysis.pert_response(data, cycles, pert_times[:-2])\n",
    "perts.head(5)"
   ]
  },
  {
   "cell_type": "markdown",
   "metadata": {},
   "source": [
    "The function below creates a new column in `perts` called `phase_corrected`.\n",
    "It is phase wrt. emsi minimum."
   ]
  },
  {
   "cell_type": "code",
   "execution_count": null,
   "metadata": {},
   "outputs": [],
   "source": [
    "perts = analysis.phase_correction_emsi_minimum(data, perts, cycles)"
   ]
  },
  {
   "cell_type": "markdown",
   "metadata": {},
   "source": [
    "### Plot period and amplitude drift in time"
   ]
  },
  {
   "cell_type": "code",
   "execution_count": null,
   "metadata": {},
   "outputs": [],
   "source": [
    "plot.period_vs_time(cycles, perts)"
   ]
  },
  {
   "cell_type": "code",
   "execution_count": null,
   "metadata": {},
   "outputs": [],
   "source": [
    "plot.amplitude_vs_time(cycles, perts)"
   ]
  },
  {
   "cell_type": "markdown",
   "metadata": {},
   "source": [
    "### Retrieving an example period"
   ]
  },
  {
   "cell_type": "code",
   "execution_count": null,
   "metadata": {},
   "outputs": [],
   "source": [
    "example_period_index = cycles[~cycles.had_pert].iloc[100].name\n",
    "example_period = data[(data.t>cycles.loc[example_period_index].start) & (data.t<cycles.loc[example_period_index+1].start)].copy()\n",
    "example_period.t = example_period.t-example_period.t.iloc[0]\n",
    "example_period['phase'] = example_period.t / cycles.loc[example_period_index, 'duration']\n",
    "if input(\"Save `example_period.csv`? (possible overwrite) [Y/n]\") != 'n':\n",
    "    example_period.loc[:, ('t', 'phase', 'I', 'I_real', 'emsi', 'emsi_corrected')].to_csv(filenames.data+\"example_period.csv\", index=False)"
   ]
  },
  {
   "cell_type": "markdown",
   "metadata": {},
   "source": [
    "## Plotting and saving PRCs"
   ]
  },
  {
   "cell_type": "code",
   "execution_count": null,
   "metadata": {},
   "outputs": [],
   "source": [
    "if props.pert_type == 'U':\n",
    "    exp_summary = f'PRC for {props.osc_type} {props.voltage}{'+' if props.pert_strength>0 else ''}{props.pert_strength}V, {props.pert_dt}s'\n",
    "else:\n",
    "    exp_summary = f'PRC for {props.voltage}V, {props.pert_dt}s {'+' if props.pert_strength>0 else '-'}ve light'\n",
    "exp_summary"
   ]
  },
  {
   "cell_type": "markdown",
   "metadata": {},
   "source": [
    "### Plot PRCs"
   ]
  },
  {
   "cell_type": "code",
   "execution_count": null,
   "metadata": {},
   "outputs": [],
   "source": [
    "plot.prc_current(perts, exp_summary)"
   ]
  },
  {
   "cell_type": "code",
   "execution_count": null,
   "metadata": {},
   "outputs": [],
   "source": [
    "plot.amplitude_response(perts, exp_summary)"
   ]
  },
  {
   "cell_type": "markdown",
   "metadata": {},
   "source": [
    "### Save PRCs"
   ]
  },
  {
   "cell_type": "code",
   "execution_count": null,
   "metadata": {},
   "outputs": [],
   "source": [
    "prc = pd.DataFrame({'phase': perts.phase, 'response': perts.response})\n",
    "prc = prc.sort_values('phase')\n",
    "if input(\"Save `prc.csv`? (possible overwrite) [Y/n]\") != 'n':\n",
    "    prc.to_csv(filenames.data+\"prc.csv\", index=False)"
   ]
  },
  {
   "cell_type": "code",
   "execution_count": null,
   "metadata": {},
   "outputs": [],
   "source": [
    "if input(\"Save `prc_full.csv`? (possible overwrite) [Y/n]\") != 'n':\n",
    "    perts.sort_values('phase').to_csv(filenames.data+\"prc_full.csv\", index=False)"
   ]
  },
  {
   "cell_type": "code",
   "execution_count": null,
   "metadata": {},
   "outputs": [],
   "source": [
    "plot.prc(perts, example_period, exp_summary)"
   ]
  },
  {
   "cell_type": "code",
   "execution_count": null,
   "metadata": {},
   "outputs": [],
   "source": [
    "plot.prc_full(perts, exp_summary)"
   ]
  },
  {
   "cell_type": "code",
   "execution_count": null,
   "metadata": {},
   "outputs": [],
   "source": [
    "plot.amp_response_full(perts, exp_summary)"
   ]
  }
 ],
 "metadata": {
  "kernelspec": {
   "display_name": "Python 3",
   "language": "python",
   "name": "python3"
  },
  "language_info": {
   "codemirror_mode": {
    "name": "ipython",
    "version": 3
   },
   "file_extension": ".py",
   "mimetype": "text/x-python",
   "name": "python",
   "nbconvert_exporter": "python",
   "pygments_lexer": "ipython3"
  }
 },
 "nbformat": 4,
 "nbformat_minor": 2
}
