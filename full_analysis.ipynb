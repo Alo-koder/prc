{
 "cells": [
  {
   "cell_type": "code",
   "execution_count": 1,
   "metadata": {},
   "outputs": [],
   "source": [
    "import pandas as pd\n",
    "import numpy as np\n",
    "import matplotlib as mpl\n",
    "from matplotlib import pyplot as plt\n",
    "from config import props, filenames\n",
    "import analysis\n",
    "from scipy.signal import find_peaks\n",
    "from scipy.ndimage import gaussian_filter1d"
   ]
  },
  {
   "cell_type": "code",
   "execution_count": 2,
   "metadata": {},
   "outputs": [],
   "source": [
    "%load_ext autoreload\n",
    "%autoreload 2\n",
    "%matplotlib qt"
   ]
  },
  {
   "cell_type": "code",
   "execution_count": 3,
   "metadata": {},
   "outputs": [],
   "source": [
    "SAVE_FIGS = False"
   ]
  },
  {
   "cell_type": "code",
   "execution_count": 4,
   "metadata": {},
   "outputs": [],
   "source": [
    "data_raw = pd.read_pickle(filenames.data+'data.pkl')\n",
    "data_raw.t = data_raw.t - data_raw.t[0]\n",
    "data_convoluted = analysis.data_cleaning(data_raw.copy())\n",
    "# data_convoluted.I=gaussian_filter1d(data_convoluted.I, 100)\n",
    "pert_times = analysis.find_perts(data_convoluted.copy())\n",
    "data = analysis.data_interpolation(data_convoluted.copy(), pert_times)"
   ]
  },
  {
   "cell_type": "code",
   "execution_count": null,
   "metadata": {},
   "outputs": [],
   "source": [
    "data.I = gaussian_filter1d(data.I, 10)"
   ]
  },
  {
   "cell_type": "code",
   "execution_count": null,
   "metadata": {},
   "outputs": [],
   "source": [
    "data = analysis.data_interpolation(data_convoluted.copy(), pert_times)"
   ]
  },
  {
   "cell_type": "code",
   "execution_count": null,
   "metadata": {},
   "outputs": [],
   "source": [
    "plt.plot(np.diff(data_convoluted.I, n=2, prepend=0, append=0))"
   ]
  },
  {
   "cell_type": "code",
   "execution_count": null,
   "metadata": {},
   "outputs": [],
   "source": [
    "# mpl.use('pgf')\n",
    "cut_data = data_convoluted[(data_convoluted.t>8250) & (data_convoluted.t < 8400)]\n",
    "fig = plt.figure(figsize=[3.2,2.4])\n",
    "plt.plot(cut_data.t, cut_data.I)\n",
    "plt.title('High Amplitude oscillation, 6V')\n",
    "plt.xlabel('Time [s]')\n",
    "plt.ylabel(r'J [mA/cm$^2$]')\n",
    "plt.tight_layout(pad=0.1, w_pad=0.1, h_pad=0.1)\n",
    "plt.show()"
   ]
  },
  {
   "cell_type": "code",
   "execution_count": null,
   "metadata": {},
   "outputs": [],
   "source": [
    "plt.figure(figsize=[3.2,2.4])\n",
    "plt.plot(cut_data.I, cut_data.emsi)\n",
    "plt.xlabel(r'J [mA/cm$^2$]')\n",
    "plt.ylabel(r'$\\xi$ [\\%]')\n",
    "plt.tight_layout(pad=0.1, w_pad=0.1, h_pad=0.1)\n",
    "plt.show()"
   ]
  },
  {
   "cell_type": "code",
   "execution_count": null,
   "metadata": {},
   "outputs": [],
   "source": [
    "plt.figure(figsize=(2.8, 2.1))\n",
    "plt.xlim(-10,210)\n",
    "plt.axvline(31.96, c='red', ls='--')\n",
    "plt.plot(data_raw.t, data_raw.I*100/props.el_area)\n",
    "plt.xlabel('Time [s]')\n",
    "plt.ylabel('J [mA/cm^2]')\n",
    "plt.title('b) HA Initialisation')\n",
    "plt.tight_layout(pad=0.1, w_pad=0.1, h_pad=0.1)"
   ]
  },
  {
   "cell_type": "code",
   "execution_count": null,
   "metadata": {},
   "outputs": [],
   "source": [
    "plt.figure(figsize=(2.8, 2.1))\n",
    "plt.xlim(9660, 9990)\n",
    "plt.plot(data.t, data_convoluted.I)\n",
    "for det_point in cycles.start:\n",
    "    if det_point > 9600 and det_point < 10000:\n",
    "        plt.axvline(det_point, c='gray', ls=':')\n",
    "        plt.scatter(det_point, data_convoluted.I[data_convoluted.t == det_point], c='r', marker='x', zorder=10)\n",
    "plt.xlabel('Time [s]')\n",
    "plt.ylabel(r'J [mA/cm$^2$]')\n",
    "plt.title('Mean-current Crossings')\n",
    "plt.axhline(data.I.mean()*1, c='y', ls='--')\n",
    "plt.subplots_adjust(top=0.882,\n",
    "bottom=0.218,\n",
    "left=0.212,\n",
    "right=0.981,\n",
    "hspace=0.1,\n",
    "wspace=0.1)"
   ]
  },
  {
   "cell_type": "code",
   "execution_count": null,
   "metadata": {},
   "outputs": [],
   "source": [
    "data_cut = data_convoluted[(data.t > 9660) & (data.t < 9990)]\n",
    "fig, ax = plt.subplots(figsize=(2.8, 2.1))\n",
    "plt.plot(data_cut.I, data_cut.emsi)\n",
    "plt.plot([0, 1], [0, 1], c='gray', ls='-.', transform=ax.transAxes)\n",
    "plt.plot([0, 1], [1, 0], c='gray', ls='-.', transform=ax.transAxes)\n",
    "plt.plot([.5, .5], [0, 1], c='gray', ls='-.', transform=ax.transAxes)\n",
    "plt.plot([0, 1], [.5, .5], c='gray', ls='-.', transform=ax.transAxes)\n",
    "plt.scatter(0.5, 0.883, transform=ax.transAxes, c='r', marker='x', zorder=10, s=100)\n",
    "plt.xlabel(r'J [mA/cm$^2$]')\n",
    "plt.ylabel(r'$\\xi$ [%]')\n",
    "plt.title('2D Phase Determination')\n",
    "plt.subplots_adjust(top=0.882,\n",
    "bottom=0.218,\n",
    "left=0.212,\n",
    "right=0.981,\n",
    "hspace=0.1,\n",
    "wspace=0.1)"
   ]
  },
  {
   "cell_type": "code",
   "execution_count": 5,
   "metadata": {},
   "outputs": [],
   "source": [
    "plt.figure()\n",
    "plt.plot(data_raw.t, data_raw.I, label='raw')\n",
    "plt.scatter(pert_times, data_raw.loc[data_raw.t.isin(pert_times), 'I'], marker='x', c='r')\n",
    "plt.plot(data.t, data.I, label='treated')\n",
    "plt.legend(loc=1)\n",
    "plt.show()\n",
    "if SAVE_FIGS:\n",
    "    plt.savefig(filenames.notes+'current_waveform.png')"
   ]
  },
  {
   "cell_type": "code",
   "execution_count": 5,
   "metadata": {},
   "outputs": [],
   "source": [
    "cycles = analysis.find_cycles(data, pert_times)"
   ]
  },
  {
   "cell_type": "code",
   "execution_count": 6,
   "metadata": {},
   "outputs": [],
   "source": [
    "perts = analysis.pert_response(data, cycles, pert_times[:-1])"
   ]
  },
  {
   "cell_type": "code",
   "execution_count": 7,
   "metadata": {},
   "outputs": [],
   "source": [
    "# fig, axs = plt.subplots(2, sharex=True, figsize=(2.8, 4.1))\n",
    "fig, axs = plt.subplots(2, sharex=True)\n",
    "\n",
    "axs[0].plot(cycles['start'], cycles['duration'])\n",
    "axs[0].plot(perts.time, perts.expected_period)\n",
    "axs[0].set_ylabel('Period [s]')\n",
    "# axs[0].scatter(cycles['start'][cycles['had_pert']], cycles['duration'][cycles['had_pert']], c='r', s=10)\n",
    "\n",
    "axs[1].scatter(perts['time'], perts['phase'], marker = 'x')\n",
    "axs[1].plot(perts['time'], perts['phase'])\n",
    "axs[1].set_ylabel(r'$\\phi$ at Perturbation')\n",
    "\n",
    "fig.suptitle('b) Randomised Intervals')\n",
    "fig.supxlabel('Time [s]')\n",
    "# fig.subplots_adjust(top=0.918,bottom=0.12,left=0.232,right=0.971,hspace=0.147,wspace=0.2)\n",
    "if SAVE_FIGS:\n",
    "    fig.savefig(filenames.notes+'period_vs_time.png')"
   ]
  },
  {
   "cell_type": "code",
   "execution_count": 27,
   "metadata": {},
   "outputs": [],
   "source": [
    "# fig, axs = plt.subplots(2, sharex=True, figsize=(2.8, 4.1))\n",
    "fig, axs = plt.subplots(1, figsize=(5.6, 3), sharex=True)\n",
    "\n",
    "axs.plot(cycles['start'], cycles['duration'], label='Measured Period')\n",
    "axs.plot(perts.time, perts.expected_period, label = 'Expected Period')\n",
    "axs.set_ylabel('Period [s]')\n",
    "plt.legend()\n",
    "# axs[0].scatter(cycles['start'][cycles['had_pert']], cycles['duration'][cycles['had_pert']], c='r', s=10)\n",
    "\n",
    "axs.set_xlabel('Time [s]')\n",
    "\n",
    "# data_cut= data_convoluted[(data.t > 28500) & (data.t < 34900)]\n",
    "# axs[0].set_xlim(30100, 34700)\n",
    "# axs[1].plot(data_convoluted.t, data_convoluted.I)\n",
    "# axs[1].set_ylabel(r'J [mA/cm$^2$]')\n",
    "# for t in pert_times:\n",
    "#     plt.scatter(t, data[data.t == t].I, marker='x', c='r', zorder=10)\n",
    "\n",
    "fig.suptitle('Period versus Time')\n",
    "fig.tight_layout()\n",
    "# fig.supxlabel('Time [s]')\n",
    "# fig.subplots_adjust(top=0.918,bottom=0.12,left=0.232,right=0.971,hspace=0.147,wspace=0.2)\n",
    "if SAVE_FIGS:\n",
    "    fig.savefig(filenames.notes+'period_vs_time.png')"
   ]
  },
  {
   "cell_type": "code",
   "execution_count": 15,
   "metadata": {},
   "outputs": [],
   "source": [
    "def on_pick(event) -> tuple[mpl.figure.Figure, mpl.figure.Axes]:\n",
    "    ax_phase.cla()\n",
    "    ax_current.cla()\n",
    "\n",
    "    pert_time = perts.time.iloc[event.ind[0]]\n",
    "    print(pert_time)\n",
    "    data_before = data_convoluted[(data.t > pert_time - props.max_period) & (data.t < pert_time)]\n",
    "    data_after = data_convoluted[(data.t > pert_time) & (data.t < pert_time + 2*props.max_period)]\n",
    "\n",
    "    ax_phase.plot(data_before.I, data_before.emsi)\n",
    "    ax_phase.plot(data_after.I, data_after.emsi)\n",
    "    ax_phase.scatter(data_before.I.iloc[-1], data_before.emsi.iloc[-1], c='r')\n",
    "    fig_phase.suptitle(rf'Perturbation at $\\phi$ = {perts.phase.iloc[event.ind[0]]:.2f} -- phase space')\n",
    "    fig_phase.supxlabel(r'current [mA/cm$^2$]')\n",
    "    fig_phase.supylabel(r'emsi signal [$\\xi$]')\n",
    "    fig_phase.canvas.draw()\n",
    "\n",
    "    ax_current.plot(data_before.t, data_before.I)\n",
    "    ax_current.plot(data_after.t, data_after.I)\n",
    "    ax_current.scatter(data_before.t.iloc[-1], data_before.I.iloc[-1], c='r')\n",
    "    fig_current.suptitle(rf'Perturbation at $\\phi$ = {perts.phase.iloc[event.ind[0]]:.2f} -- current')\n",
    "    fig_current.supxlabel('time [s]')\n",
    "    fig_current.supylabel(r'current [mA/cm$^2$]')\n",
    "    fig_current.canvas.draw()"
   ]
  },
  {
   "cell_type": "code",
   "execution_count": 8,
   "metadata": {},
   "outputs": [],
   "source": [
    "if props.pert_type == 'U':\n",
    "    title = f'PRC for {props.osc_type} {props.voltage}{'+' if props.pert_strength>0 else ''}{props.pert_strength}V, {props.pert_dt}s'\n",
    "else:\n",
    "    title = f'PRC for {props.voltage}V {props.osc_type}, {props.pert_dt}s {'+' if props.pert_strength>0 else '-'}ve light'\n",
    "title = r'b) Negative Light Perturbation'\n",
    "fig, ax = plt.subplots(figsize=(2.8, 2.1))\n",
    "# fig, ax = plt.subplots(figsize=(5.6, 4.2))\n",
    "fig.suptitle(title)\n",
    "ax.set_xlabel(r'Phase $\\phi$')\n",
    "ax.set_ylabel('Phase Resetting Z')\n",
    "ax.axhline(0, ls='--', c='gray')\n",
    "ax.scatter(perts['phase'], perts['response'], c=perts['time'], picker=True, s=10)\n",
    "# plt.gca().invert_yaxis()\n",
    "# ax.set_ylim(-0.035, 0.0133)\n",
    "\n",
    "fig.subplots_adjust(top=0.88,bottom=0.22,left=0.27,right=0.97,hspace=0.2,wspace=0.2)\n",
    "# fig.tight_layout()\n",
    "\n",
    "# fig_phase, ax_phase = plt.subplots()\n",
    "# fig_current, ax_current = plt.subplots() \n",
    "# id = fig.canvas.mpl_connect('pick_event', on_pick)\n",
    "# if SAVE_figS:\n",
    "#     fig.save_fig(filenames.notes+'prc.png')"
   ]
  },
  {
   "cell_type": "code",
   "execution_count": null,
   "metadata": {},
   "outputs": [],
   "source": [
    "fig.canvas.mpl_disconnect(14)"
   ]
  },
  {
   "cell_type": "code",
   "execution_count": 8,
   "metadata": {},
   "outputs": [],
   "source": [
    "fig, axs = plt.subplots(2, sharex=True)\n",
    "fig.suptitle(title)\n",
    "axs[0].axhline(0)\n",
    "axs[0].scatter(perts['phase'], perts['response'], c=perts['time'])\n",
    "axs[0].set_ylabel('Phase Response')\n",
    "one_period = data_convoluted[(data_convoluted.t>cycles.loc[100, 'start']) & (data_convoluted.t<cycles.loc[101, 'start'])]\n",
    "axs[1].plot((one_period.t-cycles.start[100])/cycles.loc[100, 'duration'], one_period.I/props.el_area*100)\n",
    "axs[1].set_ylabel(r'J [mA/cm$^2$]')\n",
    "plt.show()"
   ]
  },
  {
   "cell_type": "code",
   "execution_count": null,
   "metadata": {},
   "outputs": [],
   "source": [
    "id = fig.canvas.mpl_connect('pick_event', on_pick)"
   ]
  },
  {
   "cell_type": "code",
   "execution_count": 12,
   "metadata": {},
   "outputs": [],
   "source": [
    "fig, axs = plt.subplots(2,2, sharex = True, sharey=True, figsize = (5.6, 4.2))\n",
    "things_to_plot = ['response_0', 'response_1', 'response_2', 'response_3']\n",
    "names = iter(['1st Response', '2nd Response', '3rd Response', '4th Response'])\n",
    "for (thing, ax) in zip(things_to_plot, axs.flatten()):\n",
    "    ax.scatter(perts['phase'], perts[thing], c=perts['time'], s=10)\n",
    "    ax.set_title(next(names))\n",
    "    ax.axhline(0, ls='--')\n",
    "fig.suptitle(title)\n",
    "fig.supxlabel(r'$\\phi$')\n",
    "fig.supylabel(r'$\\Delta\\phi$')\n",
    "# fig.tight_layout()\n",
    "fig.subplots_adjust(top=0.873,bottom=0.12,left=0.106,right=0.963,hspace=0.3,wspace=0.1)\n",
    "if SAVE_FIGS:\n",
    "    fig.savefig(filenames.notes+'prc_full.png')"
   ]
  }
 ],
 "metadata": {
  "kernelspec": {
   "display_name": "Python 3",
   "language": "python",
   "name": "python3"
  },
  "language_info": {
   "codemirror_mode": {
    "name": "ipython",
    "version": 3
   },
   "file_extension": ".py",
   "mimetype": "text/x-python",
   "name": "python",
   "nbconvert_exporter": "python",
   "pygments_lexer": "ipython3",
   "version": "3.12.0"
  }
 },
 "nbformat": 4,
 "nbformat_minor": 2
}
