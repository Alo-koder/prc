{
 "cells": [
  {
   "cell_type": "code",
   "execution_count": 1,
   "metadata": {},
   "outputs": [],
   "source": [
    "import pandas as pd\n",
    "import numpy as np\n",
    "import matplotlib as mpl\n",
    "from matplotlib import pyplot as plt\n",
    "from config import props, filenames\n",
    "import analysis"
   ]
  },
  {
   "cell_type": "code",
   "execution_count": 2,
   "metadata": {},
   "outputs": [],
   "source": [
    "%load_ext autoreload\n",
    "%autoreload 2\n",
    "%matplotlib qt"
   ]
  },
  {
   "cell_type": "code",
   "execution_count": 3,
   "metadata": {},
   "outputs": [],
   "source": [
    "SAVE_FIGS = False"
   ]
  },
  {
   "cell_type": "code",
   "execution_count": 4,
   "metadata": {},
   "outputs": [],
   "source": [
    "data_raw = pd.read_pickle(filenames.data+'data.pkl')\n",
    "data_raw.t = data_raw.t - data_raw.t[0]\n",
    "data_convoluted = analysis.data_cleaning(data_raw.copy())\n",
    "pert_times = analysis.find_perts(data_convoluted.copy())\n",
    "data = analysis.data_interpolation(data_convoluted.copy(), pert_times)"
   ]
  },
  {
   "cell_type": "code",
   "execution_count": 5,
   "metadata": {},
   "outputs": [],
   "source": [
    "plt.figure()\n",
    "plt.plot(data_raw.t, data_raw.I, label='raw')\n",
    "plt.plot(data.t, data.I, label='treated')\n",
    "plt.legend(loc=1)\n",
    "plt.show()\n",
    "if SAVE_FIGS:\n",
    "    plt.savefig(filenames.notes+'current_waveform.png')"
   ]
  },
  {
   "cell_type": "code",
   "execution_count": 6,
   "metadata": {},
   "outputs": [
    {
     "name": "stdout",
     "output_type": "stream",
     "text": [
      "Warning! Some info might be wrong/missing\n",
      "Empty DataFrame\n",
      "Columns: [start, duration, expected_duration, had_pert]\n",
      "Index: []\n",
      "            start     duration  expected_duration  had_pert\n",
      "593  34448.255152  8592.433616          85.456184     False\n"
     ]
    }
   ],
   "source": [
    "cycles = analysis.find_cycles(data, pert_times)"
   ]
  },
  {
   "cell_type": "code",
   "execution_count": 7,
   "metadata": {},
   "outputs": [],
   "source": [
    "perts = analysis.pert_response(data, cycles, pert_times[:-1])"
   ]
  },
  {
   "cell_type": "code",
   "execution_count": 8,
   "metadata": {},
   "outputs": [],
   "source": [
    "fig, axs = plt.subplots(2, sharex=True)\n",
    "\n",
    "axs[0].plot(cycles['start'], cycles['duration'])\n",
    "axs[0].plot(perts.time, perts.expected_period)\n",
    "axs[0].set_ylabel('period')\n",
    "axs[0].scatter(cycles['start'][cycles['had_pert']], cycles['duration'][cycles['had_pert']], c='r', s=10)\n",
    "\n",
    "axs[1].scatter(perts['time'], perts['phase'], marker = 'x')\n",
    "# axs[1].plot(perts['time'], perts['phase'])\n",
    "axs[1].set_ylabel('pert. phase')\n",
    "\n",
    "fig.supxlabel('time [s]')\n",
    "fig.tight_layout()\n",
    "if SAVE_FIGS:\n",
    "    fig.savefig(filenames.notes+'period_vs_time.png')"
   ]
  },
  {
   "cell_type": "code",
   "execution_count": 9,
   "metadata": {},
   "outputs": [],
   "source": [
    "def on_pick(event) -> tuple[mpl.figure.Figure, mpl.figure.Axes]:\n",
    "    pert_time = perts.time.iloc[event.ind[0]]\n",
    "    print(event.ind[0])\n",
    "    fig, ax = plt.subplots()\n",
    "    data_before = data[(data.t > pert_time - props.max_period) & (data.t < pert_time)]\n",
    "    data_after = data[(data.t > pert_time) & (data.t < pert_time + props.max_period)]\n",
    "\n",
    "    ax.plot(data_before.I, data_before.emsi)\n",
    "    ax.plot(data_after.I, data_after.emsi)\n",
    "    ax.scatter(data_before.I.iloc[-1], data_before.emsi.iloc[-1], c='r')\n",
    "    fig.suptitle(rf'Perturbation at $\\phi$ = {perts.phase.iloc[event.ind[0]]:.2f} -- phase space')\n",
    "    fig.supxlabel(r'current [mA/cm$^2$]')\n",
    "    fig.supylabel(r'emsi signal [$\\xi$]')\n",
    "    fig.show()\n",
    "\n",
    "    fig, ax = plt.subplots()\n",
    "    ax.plot(data_before.t, data_before.I)\n",
    "    ax.plot(data_after.t, data_after.I)\n",
    "    ax.scatter(data_before.t.iloc[-1], data_before.I.iloc[-1], c='r')\n",
    "    fig.suptitle(rf'Perturbation at $\\phi$ = {perts.phase.iloc[event.ind[0]]:.2f} -- current')\n",
    "    fig.supxlabel('time [s]')\n",
    "    fig.supylabel(r'current [mA/cm$^2$]')\n",
    "    fig.show()"
   ]
  },
  {
   "cell_type": "code",
   "execution_count": 10,
   "metadata": {},
   "outputs": [],
   "source": [
    "if props.pert_type == 'U':\n",
    "    title = f'PRC for {props.voltage}{'+' if props.pert_strength>0 else '-'}{props.pert_strength}V, {props.pert_dt}s'\n",
    "else:\n",
    "    title = f'PRC for {props.voltage}, {'+' if props.pert_strength>0 else '-'}{props.pert_dt}s light'\n",
    "new_fig, new_ax = plt.subplots()\n",
    "new_fig.suptitle(title)\n",
    "new_ax.axhline(0)\n",
    "new_ax.scatter(perts['phase'], perts['response'], c=perts['time'], picker=True)\n",
    "id = new_fig.canvas.mpl_connect('pick_event', on_pick)\n",
    "# if SAVE_new_figS:\n",
    "#     new_fig.save_fig(filenames.notes+'prc.png')"
   ]
  },
  {
   "cell_type": "code",
   "execution_count": null,
   "metadata": {},
   "outputs": [],
   "source": [
    "new_fig.canvas.mpl_disconnect(14)"
   ]
  },
  {
   "cell_type": "code",
   "execution_count": null,
   "metadata": {},
   "outputs": [],
   "source": [
    "fig, axs = plt.subplots(2,2, sharex = True, sharey=True, figsize = (14, 9))\n",
    "things_to_plot = ['basis', 'response_0', 'response_1', 'response_2']\n",
    "for (thing, ax) in zip(things_to_plot, axs.flatten()):\n",
    "    ax.scatter(perts['phase'], perts[thing], c=perts['time'])\n",
    "    ax.set_title(thing)\n",
    "    ax.axhline(0, ls='--')\n",
    "fig.suptitle(title)\n",
    "fig.supxlabel(r'$\\phi$')\n",
    "fig.supylabel(r'$\\Delta\\phi$')\n",
    "fig.tight_layout()\n",
    "if SAVE_FIGS:\n",
    "    fig.savefig(filenames.notes+'prc_full.png')"
   ]
  }
 ],
 "metadata": {
  "kernelspec": {
   "display_name": "Python 3",
   "language": "python",
   "name": "python3"
  },
  "language_info": {
   "codemirror_mode": {
    "name": "ipython",
    "version": 3
   },
   "file_extension": ".py",
   "mimetype": "text/x-python",
   "name": "python",
   "nbconvert_exporter": "python",
   "pygments_lexer": "ipython3",
   "version": "3.12.0"
  }
 },
 "nbformat": 4,
 "nbformat_minor": 2
}
