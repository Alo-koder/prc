{
 "cells": [
  {
   "cell_type": "code",
   "execution_count": null,
   "metadata": {},
   "outputs": [],
   "source": [
    "import pandas as pd\n",
    "import numpy as np\n",
    "import matplotlib as mpl\n",
    "from matplotlib import pyplot as plt\n",
    "from config import props, filenames\n",
    "import analysis"
   ]
  },
  {
   "cell_type": "code",
   "execution_count": null,
   "metadata": {},
   "outputs": [],
   "source": [
    "%load_ext autoreload\n",
    "%autoreload 2"
   ]
  },
  {
   "cell_type": "code",
   "execution_count": null,
   "metadata": {},
   "outputs": [],
   "source": [
    "data_raw = pd.read_pickle(filenames.data+'/data.pkl')\n",
    "data = analysis.data_cleaning(data_raw)\n"
   ]
  },
  {
   "cell_type": "code",
   "execution_count": null,
   "metadata": {},
   "outputs": [],
   "source": [
    "def plot_pert(pert_time:float) -> tuple[mpl.figure.Figure, mpl.Axes]:\n",
    "    '''\n",
    "    Plot a current vs time and phasespace view of a perturbation.\n",
    "\n",
    "    Params\n",
    "    ------\n",
    "    t : time at which the perturbation happened\n",
    "\n",
    "    Returns\n",
    "    -------\n",
    "    fig, ax : plotted figure objects \n",
    "    '''\n",
    "    fig, ax = plt.subplots()\n",
    "    data_before = data[(data.t > pert_time - 80) & (data.t < pert_time)]\n",
    "    data_after = data[(data.t > pert_time) & (data.t < pert_time + 80)]\n",
    "\n",
    "    ax.plot(data_before.I, data_before.emsi)\n",
    "    ax.plot(data_after.I, data_after.emsi)\n",
    "    fig.show()\n",
    "\n",
    "    return fig, ax\n"
   ]
  }
 ],
 "metadata": {
  "kernelspec": {
   "display_name": "Python 3",
   "language": "python",
   "name": "python3"
  },
  "language_info": {
   "codemirror_mode": {
    "name": "ipython",
    "version": 3
   },
   "file_extension": ".py",
   "mimetype": "text/x-python",
   "name": "python",
   "nbconvert_exporter": "python",
   "pygments_lexer": "ipython3",
   "version": "3.12.0"
  }
 },
 "nbformat": 4,
 "nbformat_minor": 2
}
