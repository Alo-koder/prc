{
 "cells": [
  {
   "cell_type": "code",
   "execution_count": null,
   "metadata": {},
   "outputs": [],
   "source": [
    "import pandas as pd\n",
    "import numpy as np\n",
    "import matplotlib as mpl\n",
    "from matplotlib import pyplot as plt\n",
    "from config import props, filenames\n",
    "import analysis\n",
    "from scipy.signal import find_peaks"
   ]
  },
  {
   "cell_type": "code",
   "execution_count": null,
   "metadata": {},
   "outputs": [],
   "source": [
    "%load_ext autoreload\n",
    "%autoreload 2\n",
    "%matplotlib qt"
   ]
  },
  {
   "cell_type": "code",
   "execution_count": null,
   "metadata": {},
   "outputs": [],
   "source": [
    "SAVE_FIGS = False"
   ]
  },
  {
   "cell_type": "code",
   "execution_count": null,
   "metadata": {},
   "outputs": [],
   "source": [
    "data_raw = pd.read_pickle(filenames.data+'data.pkl')\n",
    "data_raw.t = data_raw.t - data_raw.t[0]\n",
    "data_convoluted = analysis.data_cleaning(data_raw.copy())\n",
    "pert_times = analysis.find_perts(data_convoluted.copy())\n",
    "data = analysis.data_interpolation(data_convoluted.copy(), pert_times)"
   ]
  },
  {
   "cell_type": "code",
   "execution_count": null,
   "metadata": {},
   "outputs": [],
   "source": [
    "data = analysis.data_interpolation(data_convoluted.copy(), pert_times)"
   ]
  },
  {
   "cell_type": "code",
   "execution_count": null,
   "metadata": {},
   "outputs": [],
   "source": [
    "plt.plot(np.diff(data_convoluted.I, n=2, prepend=0, append=0))"
   ]
  },
  {
   "cell_type": "code",
   "execution_count": null,
   "metadata": {},
   "outputs": [],
   "source": [
    "# mpl.use('pgf')\n",
    "cut_data = data_convoluted[(data_convoluted.t>8250) & (data_convoluted.t < 8400)]\n",
    "fig = plt.figure(figsize=[3.2,2.4])\n",
    "plt.plot(cut_data.t, cut_data.I)\n",
    "plt.title('High Amplitude oscillation, 6V')\n",
    "plt.xlabel('Time [s]')\n",
    "plt.ylabel(r'J [mA/cm$^2$]')\n",
    "plt.tight_layout(pad=0.1, w_pad=0.1, h_pad=0.1)\n",
    "plt.show()"
   ]
  },
  {
   "cell_type": "code",
   "execution_count": null,
   "metadata": {},
   "outputs": [],
   "source": [
    "plt.figure(figsize=[3.2,2.4])\n",
    "plt.plot(cut_data.I, cut_data.emsi)\n",
    "plt.xlabel(r'J [mA/cm$^2$]')\n",
    "plt.ylabel(r'$\\xi$ [\\%]')\n",
    "plt.tight_layout()\n",
    "plt.show()"
   ]
  },
  {
   "cell_type": "code",
   "execution_count": null,
   "metadata": {},
   "outputs": [],
   "source": [
    "plt.figure()\n",
    "plt.plot(data_raw.t, data_raw.I, label='raw')\n",
    "plt.scatter(pert_times, data_raw.loc[data_raw.t.isin(pert_times), 'I'], marker='x', c='r')\n",
    "plt.plot(data.t, data.I, label='treated')\n",
    "plt.legend(loc=1)\n",
    "plt.show()\n",
    "if SAVE_FIGS:\n",
    "    plt.savefig(filenames.notes+'current_waveform.png')"
   ]
  },
  {
   "cell_type": "code",
   "execution_count": null,
   "metadata": {},
   "outputs": [],
   "source": [
    "cycles = analysis.find_cycles(data, pert_times)"
   ]
  },
  {
   "cell_type": "code",
   "execution_count": null,
   "metadata": {},
   "outputs": [],
   "source": [
    "perts = analysis.pert_response(data, cycles, pert_times[:-1])"
   ]
  },
  {
   "cell_type": "code",
   "execution_count": null,
   "metadata": {},
   "outputs": [],
   "source": [
    "fig, axs = plt.subplots(2, sharex=True)\n",
    "\n",
    "axs[0].plot(cycles['start'], cycles['duration'])\n",
    "axs[0].plot(perts.time, perts.expected_period)\n",
    "axs[0].set_ylabel('period')\n",
    "axs[0].scatter(cycles['start'][cycles['had_pert']], cycles['duration'][cycles['had_pert']], c='r', s=10)\n",
    "\n",
    "axs[1].scatter(perts['time'], perts['phase'], marker = 'x')\n",
    "# axs[1].plot(perts['time'], perts['phase'])\n",
    "axs[1].set_ylabel('pert. phase')\n",
    "\n",
    "fig.supxlabel('time [s]')\n",
    "fig.tight_layout()\n",
    "if SAVE_FIGS:\n",
    "    fig.savefig(filenames.notes+'period_vs_time.png')"
   ]
  },
  {
   "cell_type": "code",
   "execution_count": null,
   "metadata": {},
   "outputs": [],
   "source": [
    "def on_pick(event) -> tuple[mpl.figure.Figure, mpl.figure.Axes]:\n",
    "    ax_phase.cla()\n",
    "    ax_current.cla()\n",
    "\n",
    "    pert_time = perts.time.iloc[event.ind[0]]\n",
    "    print(pert_time)\n",
    "    data_before = data_convoluted[(data.t > pert_time - props.max_period) & (data.t < pert_time)]\n",
    "    data_after = data_convoluted[(data.t > pert_time) & (data.t < pert_time + 2*props.max_period)]\n",
    "\n",
    "    ax_phase.plot(data_before.I, data_before.emsi)\n",
    "    ax_phase.plot(data_after.I, data_after.emsi)\n",
    "    ax_phase.scatter(data_before.I.iloc[-1], data_before.emsi.iloc[-1], c='r')\n",
    "    fig_phase.suptitle(rf'Perturbation at $\\phi$ = {perts.phase.iloc[event.ind[0]]:.2f} -- phase space')\n",
    "    fig_phase.supxlabel(r'current [mA/cm$^2$]')\n",
    "    fig_phase.supylabel(r'emsi signal [$\\xi$]')\n",
    "    fig_phase.canvas.draw()\n",
    "\n",
    "    ax_current.plot(data_before.t, data_before.I)\n",
    "    ax_current.plot(data_after.t, data_after.I)\n",
    "    ax_current.scatter(data_before.t.iloc[-1], data_before.I.iloc[-1], c='r')\n",
    "    fig_current.suptitle(rf'Perturbation at $\\phi$ = {perts.phase.iloc[event.ind[0]]:.2f} -- current')\n",
    "    fig_current.supxlabel('time [s]')\n",
    "    fig_current.supylabel(r'current [mA/cm$^2$]')\n",
    "    fig_current.canvas.draw()"
   ]
  },
  {
   "cell_type": "code",
   "execution_count": null,
   "metadata": {},
   "outputs": [],
   "source": [
    "if props.pert_type == 'U':\n",
    "    title = f'PRC for {props.osc_type} {props.voltage}{'+' if props.pert_strength>0 else '-'}{props.pert_strength}V, {props.pert_dt}s'\n",
    "else:\n",
    "    title = f'PRC for {props.voltage}, {props.pert_dt}s {'+' if props.pert_strength>0 else '-'}ve light'\n",
    "fig, ax = plt.subplots()\n",
    "fig.suptitle(title)\n",
    "ax.axhline(0)\n",
    "ax.scatter(perts['phase'], perts['response'], c=perts['time'], picker=True)\n",
    "fig_phase, ax_phase = plt.subplots()\n",
    "fig_current, ax_current = plt.subplots()\n",
    "id = fig.canvas.mpl_connect('pick_event', on_pick)\n",
    "# if SAVE_figS:\n",
    "#     fig.save_fig(filenames.notes+'prc.png')"
   ]
  },
  {
   "cell_type": "code",
   "execution_count": null,
   "metadata": {},
   "outputs": [],
   "source": [
    "fig, axs = plt.subplots(2, sharex=True)\n",
    "fig.suptitle(title)\n",
    "axs[0].axhline(0)\n",
    "axs[0].scatter(perts['phase'], perts['response'], c=perts['time'])\n",
    "axs[0].set_ylabel('Phase Response')\n",
    "one_period = data_convoluted[(data_convoluted.t>cycles.loc[100, 'start']) & (data_convoluted.t<cycles.loc[101, 'start'])]\n",
    "axs[1].plot((one_period.t-cycles.start[100])/cycles.loc[100, 'duration'], one_period.I/props.el_area*100)\n",
    "axs[1].set_ylabel(r'J [mA/cm$^2$]')\n",
    "plt.show()"
   ]
  },
  {
   "cell_type": "code",
   "execution_count": null,
   "metadata": {},
   "outputs": [],
   "source": [
    "fig.canvas.mpl_disconnect(14)"
   ]
  },
  {
   "cell_type": "code",
   "execution_count": null,
   "metadata": {},
   "outputs": [],
   "source": [
    "id = fig.canvas.mpl_connect('pick_event', on_pick)"
   ]
  },
  {
   "cell_type": "code",
   "execution_count": null,
   "metadata": {},
   "outputs": [],
   "source": [
    "fig, axs = plt.subplots(2,2, sharex = True, sharey=True, figsize = (14, 9))\n",
    "things_to_plot = ['response_0', 'response_1', 'response_2', 'response_3']\n",
    "for (thing, ax) in zip(things_to_plot, axs.flatten()):\n",
    "    ax.scatter(perts['phase'], perts[thing], c=perts['time'])\n",
    "    ax.set_title(thing)\n",
    "    ax.axhline(0, ls='--')\n",
    "fig.suptitle(title)\n",
    "fig.supxlabel(r'$\\phi$')\n",
    "fig.supylabel(r'$\\Delta\\phi$')\n",
    "# fig.tight_layout(pad=0.5, w_pad=0.5, h_pad=0.5)\n",
    "fig.tight_layout()\n",
    "if SAVE_FIGS:\n",
    "    fig.savefig(filenames.notes+'prc_full.png')"
   ]
  }
 ],
 "metadata": {
  "kernelspec": {
   "display_name": "Python 3",
   "language": "python",
   "name": "python3"
  },
  "language_info": {
   "codemirror_mode": {
    "name": "ipython",
    "version": 3
   },
   "file_extension": ".py",
   "mimetype": "text/x-python",
   "name": "python",
   "nbconvert_exporter": "python",
   "pygments_lexer": "ipython3",
   "version": "3.12.0"
  }
 },
 "nbformat": 4,
 "nbformat_minor": 2
}
