{
 "cells": [
  {
   "cell_type": "code",
   "execution_count": null,
   "metadata": {},
   "outputs": [],
   "source": [
    "from scipy.signal import find_peaks, hilbert\n",
    "from matplotlib import pyplot as plt\n",
    "import pandas as pd\n",
    "import numpy as np\n",
    "from scipy.ndimage import gaussian_filter, convolve\n",
    "\n",
    "\n",
    "%matplotlib qt"
   ]
  },
  {
   "cell_type": "code",
   "execution_count": null,
   "metadata": {},
   "outputs": [],
   "source": [
    "def find_cycles(data:pd.DataFrame):\n",
    "    mean_current_fit = np.polyfit(data.t, data.I, 1)\n",
    "    mean_current = np.polyval(mean_current_fit, data.t)\n",
    "    relative_I = data.I - mean_current\n",
    "    data['phase'] = np.angle(hilbert(relative_I)*(-1))\n",
    "\n",
    "    start = data.loc[np.diff(data.phase, prepend=0) < -6, 't']\n",
    "    duration = np.diff(start, append = np.nan)\n",
    "\n",
    "    \n",
    "    \n",
    "\n",
    "    cycles = pd.DataFrame({\n",
    "        'start'             : start,\n",
    "        'duration'          : duration,\n",
    "        'expected_duration' : 0,\n",
    "    })\n",
    "\n",
    "    cycles.dropna(inplace=True)\n",
    "    cycles = cycles[:-2]\n",
    "\n",
    "    period_fit = np.polyfit(cycles.start, cycles.duration, 2)\n",
    "    cycles.expected_duration = np.polyval(period_fit, cycles.start)\n",
    "\n",
    "\n",
    "    return cycles, data"
   ]
  },
  {
   "cell_type": "code",
   "execution_count": null,
   "metadata": {},
   "outputs": [],
   "source": [
    "def pert_response(cycles, pert_times):\n",
    "    '''\n",
    "    Create a dataframe with data about the perturbations.\n",
    "\n",
    "    Parameters\n",
    "    ----------\n",
    "    cycles : pd.DataFrame\n",
    "        A dataframe describing period information\n",
    "            start -- t at which phase == 0\n",
    "            duration -- T of this period\n",
    "    pert_times : np.ndarray\n",
    "    pert_direction : np.ndarray\n",
    "\n",
    "    Returns\n",
    "    -------\n",
    "    perts : pd.DataFrame\n",
    "        A dataframe describing information about each perturbation\n",
    "            time -- start of the perturbation\n",
    "            which_period -- index of the cycle in which pert occured\n",
    "            phase -- osc phase at which pert occured relative to I crossing\n",
    "            response -- phase response over current and next period\n",
    "                as a fraction of a mean period\n",
    "    '''\n",
    "\n",
    "    which_period = np.searchsorted(cycles['start'], np.array(pert_times))-1\n",
    "    \n",
    "    period_fit = np.polyfit(cycles['start'], cycles['duration'], 5)\n",
    "    expected_period = np.polyval(period_fit, pert_times)\n",
    "    # expected_period = np.average([cycles.duration[which_period-i] for i in range(1,4)], axis=0)\n",
    "    # expected_period = np.array(cycles.duration[which_period-2])\n",
    "\n",
    "    phase = (pert_times-cycles['start'].iloc[which_period])/expected_period\n",
    "\n",
    "    response = []\n",
    "    duration = np.array(cycles['duration'])\n",
    "    basis = -(duration[which_period-1]-expected_period)/expected_period\n",
    "    for i in range(4):\n",
    "        response.append(-(duration[which_period+i]-expected_period)/expected_period)\n",
    "\n",
    "    perts = pd.DataFrame({'time'            : pert_times,\n",
    "                        'which_period'      : which_period,\n",
    "                        'phase'             : phase,\n",
    "                        'basis'             : basis,\n",
    "                        'response'          : np.sum(response[0:2], axis=0),\n",
    "                        'response_0'        : response[0],\n",
    "                        'response_1'        : response[1],\n",
    "                        'response_2'        : response[2],\n",
    "                        'response_3'        : response[3],\n",
    "                        'expected_period'   : expected_period,\n",
    "                        })\n",
    "\n",
    "    return perts"
   ]
  },
  {
   "cell_type": "code",
   "execution_count": null,
   "metadata": {},
   "outputs": [],
   "source": [
    "def phase_correction(data, perts, cycles):\n",
    "    '''\n",
    "    Account for different phase determination method by offseting phase\n",
    "    such that max current means phase = 0.\n",
    "\n",
    "    Parameters\n",
    "    ----------\n",
    "    data : pd.DataFrame\n",
    "        Experimental data\n",
    "    perts_pos : pd.DataFrame\n",
    "        Data on the perturbations\n",
    "    cycles : pd.DataFrame\n",
    "        Period data\n",
    "    mean_period : float\n",
    "        Mean cycle duration in seconds\n",
    "\n",
    "    Returns\n",
    "    -------\n",
    "    perts : pd.DataFrame\n",
    "        Updated perts dataframe with a new column: corrected_phase\n",
    "    correction : float\n",
    "        Average osc phase of current spikes (calculated with a relative method)\n",
    "    '''\n",
    "    spikes, _ = find_peaks(data['I'], height=0.03, distance=1000)\n",
    "    spike_times = data['t'].iloc[spikes[10:-2]].reset_index(drop=True)\n",
    "    in_which_period = np.searchsorted(cycles['start'], np.array(spike_times))-1\n",
    "\n",
    "    cycles_useful = cycles.iloc[in_which_period].reset_index(drop=True)\n",
    "\n",
    "    phase = (spike_times-cycles_useful['start'])/cycles_useful['expected_duration']\n",
    "\n",
    "    # if (phase>1.5).any():\n",
    "    #     print('Warning! Bad spikes data.')\n",
    "    #     print(phase[phase>1.5])\n",
    "    # spike_times = spike_times[(phase<1.5)]\n",
    "    # phase = phase[(phase<1.5)]\n",
    "\n",
    "    phase_fit = np.polyfit(spike_times, phase, 5)\n",
    "    correction = np.polyval(phase_fit, perts.time)\n",
    "    plt.figure()\n",
    "    plt.plot(spike_times, phase)\n",
    "    plt.plot(perts.time, correction)\n",
    "    plt.xlabel('time')\n",
    "    plt.ylabel('spike phase')\n",
    "    #correction = np.nanmedian(phase)\n",
    "\n",
    "    print(f'{np.nanmedian(correction) = }')\n",
    "    corrected_phase = (perts['phase']-correction)%1\n",
    "    perts = perts.assign(corrected_phase = corrected_phase)\n",
    "\n",
    "    return perts, np.nanmedian(correction)"
   ]
  },
  {
   "cell_type": "code",
   "execution_count": null,
   "metadata": {},
   "outputs": [],
   "source": [
    "FILENAME = 'T:\\\\Team\\\\Szewczyk\\\\Data\\\\2024-02-22\\\\data.pkl'\n",
    "BASIS_VOLTAGE = 6\n",
    "PERTURBATION = 0.3"
   ]
  },
  {
   "cell_type": "code",
   "execution_count": null,
   "metadata": {},
   "outputs": [],
   "source": [
    "data = pd.read_pickle(FILENAME)"
   ]
  },
  {
   "cell_type": "code",
   "execution_count": null,
   "metadata": {},
   "outputs": [],
   "source": [
    "# Purging the data -- experiment-dependent\n",
    "data['t'] = data['t']-data.loc[0, 't']\n",
    "data.I = convolve(data['I'], [0.5, 0.5])\n",
    "data['raw_I'] = data.I.copy()\n",
    "data.I = gaussian_filter(data.I, 2)\n",
    "data = data[(data['t'] > 300)]"
   ]
  },
  {
   "cell_type": "code",
   "execution_count": null,
   "metadata": {},
   "outputs": [],
   "source": [
    "pert_times_pos = np.array(data[(np.diff(data['U'], prepend=BASIS_VOLTAGE) > 0.8*PERTURBATION) & (data['U'] > BASIS_VOLTAGE + PERTURBATION/2)]['t'])\n",
    "pert_times_neg = np.array(data[(np.diff(data['U'], prepend=BASIS_VOLTAGE) < -0.8*PERTURBATION/2) & (data['U'] < BASIS_VOLTAGE - PERTURBATION/2)]['t'])\n",
    "pert_times = pert_times_pos\n",
    "\n",
    "for t in pert_times:\n",
    "    data.loc[(data['t'] > t-0.1) & (data['t'] < t+4), 'I'] = np.nan\n",
    "\n",
    "data.I = data.I.interpolate(method='polynomial', order=3)"
   ]
  },
  {
   "cell_type": "code",
   "execution_count": null,
   "metadata": {},
   "outputs": [],
   "source": [
    "cycles, data = find_cycles(data)\n",
    "mean_period = np.mean(cycles['duration'])\n",
    "\n",
    "# Calculate perturbation response\n",
    "perts = pert_response(cycles, pert_times[1:-1])"
   ]
  },
  {
   "cell_type": "code",
   "execution_count": null,
   "metadata": {},
   "outputs": [],
   "source": [
    "perts, correction = phase_correction(data, perts, cycles)"
   ]
  },
  {
   "cell_type": "code",
   "execution_count": null,
   "metadata": {},
   "outputs": [],
   "source": [
    "fig, axs = plt.subplots(2, sharex=True)\n",
    "\n",
    "axs[0].plot(cycles['start'], cycles['duration'])\n",
    "axs[0].plot(perts.time, perts.expected_period)\n",
    "axs[0].set_ylabel('period')\n",
    "\n",
    "axs[1].scatter(perts['time'], perts['corrected_phase'], marker = 'x')\n",
    "axs[1].plot(perts['time'], perts['corrected_phase'])\n",
    "# axs[1].set_ylabel('pert. phase')\n",
    "\n",
    "fig.supxlabel('time [s]')\n",
    "fig.tight_layout()"
   ]
  },
  {
   "cell_type": "code",
   "execution_count": null,
   "metadata": {},
   "outputs": [],
   "source": [
    "plt.figure()\n",
    "plt.title(f'PRC for {BASIS_VOLTAGE}+{PERTURBATION}V, Hilbert transform')\n",
    "plt.scatter(perts['phase'], perts['response'], c=perts['time'])\n",
    "#plt.plot(sorted_perts['phase'], response_fit)\n",
    "plt.axhline(0)\n",
    "plt.axvline(correction)"
   ]
  },
  {
   "cell_type": "code",
   "execution_count": null,
   "metadata": {},
   "outputs": [],
   "source": [
    "fig, axs = plt.subplots(2,2, sharex = True, sharey=True, figsize = (14, 9))\n",
    "things_to_plot = ['basis', 'response_0', 'response_1', 'response_2']\n",
    "for (thing, ax) in zip(things_to_plot, axs.flatten()):\n",
    "    ax.scatter(perts['phase'], perts[thing], c=perts['time'])\n",
    "    ax.set_title(thing)\n",
    "    ax.axhline(0, ls='--')\n",
    "    ax.axvline(correction)\n",
    "fig.suptitle(f'PRC for {BASIS_VOLTAGE}+{PERTURBATION}V, Hilbert transform')\n",
    "fig.supxlabel(r'$\\phi$')\n",
    "fig.supylabel(r'$\\Delta\\phi$')\n",
    "fig.tight_layout()"
   ]
  }
 ],
 "metadata": {
  "kernelspec": {
   "display_name": "Python 3",
   "language": "python",
   "name": "python3"
  },
  "language_info": {
   "codemirror_mode": {
    "name": "ipython",
    "version": 3
   },
   "file_extension": ".py",
   "mimetype": "text/x-python",
   "name": "python",
   "nbconvert_exporter": "python",
   "pygments_lexer": "ipython3",
   "version": "3.12.0"
  }
 },
 "nbformat": 4,
 "nbformat_minor": 2
}
