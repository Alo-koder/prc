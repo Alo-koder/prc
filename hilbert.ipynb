{
 "cells": [
  {
   "cell_type": "code",
   "execution_count": 1,
   "metadata": {},
   "outputs": [],
   "source": [
    "import pandas as pd\n",
    "from scipy.signal import hilbert\n",
    "import numpy as np\n",
    "from matplotlib import pyplot as plt\n",
    "\n",
    "from scipy.signal import find_peaks\n",
    "\n",
    "%matplotlib qt"
   ]
  },
  {
   "cell_type": "code",
   "execution_count": 10,
   "metadata": {},
   "outputs": [],
   "source": [
    "data = pd.read_pickle('~/munich/data/20240109/data.pkl')"
   ]
  },
  {
   "cell_type": "code",
   "execution_count": 3,
   "metadata": {},
   "outputs": [
    {
     "data": {
      "text/html": [
       "<div>\n",
       "<style scoped>\n",
       "    .dataframe tbody tr th:only-of-type {\n",
       "        vertical-align: middle;\n",
       "    }\n",
       "\n",
       "    .dataframe tbody tr th {\n",
       "        vertical-align: top;\n",
       "    }\n",
       "\n",
       "    .dataframe thead th {\n",
       "        text-align: right;\n",
       "    }\n",
       "</style>\n",
       "<table border=\"1\" class=\"dataframe\">\n",
       "  <thead>\n",
       "    <tr style=\"text-align: right;\">\n",
       "      <th></th>\n",
       "      <th>t</th>\n",
       "      <th>U</th>\n",
       "      <th>I</th>\n",
       "    </tr>\n",
       "  </thead>\n",
       "  <tbody>\n",
       "    <tr>\n",
       "      <th>0</th>\n",
       "      <td>0.010000</td>\n",
       "      <td>3.999922</td>\n",
       "      <td>0.289357</td>\n",
       "    </tr>\n",
       "    <tr>\n",
       "      <th>1</th>\n",
       "      <td>0.020000</td>\n",
       "      <td>4.000033</td>\n",
       "      <td>0.289448</td>\n",
       "    </tr>\n",
       "    <tr>\n",
       "      <th>2</th>\n",
       "      <td>0.030000</td>\n",
       "      <td>3.999918</td>\n",
       "      <td>0.289547</td>\n",
       "    </tr>\n",
       "    <tr>\n",
       "      <th>3</th>\n",
       "      <td>0.040000</td>\n",
       "      <td>3.999930</td>\n",
       "      <td>0.290043</td>\n",
       "    </tr>\n",
       "    <tr>\n",
       "      <th>4</th>\n",
       "      <td>0.050000</td>\n",
       "      <td>3.999957</td>\n",
       "      <td>0.289708</td>\n",
       "    </tr>\n",
       "    <tr>\n",
       "      <th>...</th>\n",
       "      <td>...</td>\n",
       "      <td>...</td>\n",
       "      <td>...</td>\n",
       "    </tr>\n",
       "    <tr>\n",
       "      <th>5862413</th>\n",
       "      <td>58624.139798</td>\n",
       "      <td>3.999983</td>\n",
       "      <td>0.064023</td>\n",
       "    </tr>\n",
       "    <tr>\n",
       "      <th>5862414</th>\n",
       "      <td>58624.149798</td>\n",
       "      <td>3.999911</td>\n",
       "      <td>0.063024</td>\n",
       "    </tr>\n",
       "    <tr>\n",
       "      <th>5862415</th>\n",
       "      <td>58624.159798</td>\n",
       "      <td>4.000041</td>\n",
       "      <td>0.063489</td>\n",
       "    </tr>\n",
       "    <tr>\n",
       "      <th>5862416</th>\n",
       "      <td>58624.169798</td>\n",
       "      <td>3.999869</td>\n",
       "      <td>0.063192</td>\n",
       "    </tr>\n",
       "    <tr>\n",
       "      <th>5862417</th>\n",
       "      <td>58624.179798</td>\n",
       "      <td>3.999934</td>\n",
       "      <td>0.063596</td>\n",
       "    </tr>\n",
       "  </tbody>\n",
       "</table>\n",
       "<p>5862418 rows × 3 columns</p>\n",
       "</div>"
      ],
      "text/plain": [
       "                    t         U         I\n",
       "0            0.010000  3.999922  0.289357\n",
       "1            0.020000  4.000033  0.289448\n",
       "2            0.030000  3.999918  0.289547\n",
       "3            0.040000  3.999930  0.290043\n",
       "4            0.050000  3.999957  0.289708\n",
       "...               ...       ...       ...\n",
       "5862413  58624.139798  3.999983  0.064023\n",
       "5862414  58624.149798  3.999911  0.063024\n",
       "5862415  58624.159798  4.000041  0.063489\n",
       "5862416  58624.169798  3.999869  0.063192\n",
       "5862417  58624.179798  3.999934  0.063596\n",
       "\n",
       "[5862418 rows x 3 columns]"
      ]
     },
     "execution_count": 3,
     "metadata": {},
     "output_type": "execute_result"
    }
   ],
   "source": [
    "data"
   ]
  },
  {
   "cell_type": "code",
   "execution_count": 11,
   "metadata": {},
   "outputs": [],
   "source": [
    "data=data[(data['t']>1000) & (data['t']<20000)]\n",
    "\n",
    "data['I_rel'] = data['I']-np.mean(data['I'])"
   ]
  },
  {
   "cell_type": "code",
   "execution_count": 12,
   "metadata": {},
   "outputs": [],
   "source": [
    "signal = hilbert(data['I_rel'])"
   ]
  },
  {
   "cell_type": "code",
   "execution_count": 13,
   "metadata": {},
   "outputs": [],
   "source": [
    "env = np.abs(signal)\n",
    "phase = np.unwrap(np.angle(signal))\n",
    "\n",
    "fit = np.polyval(np.polyfit(data['t'], phase, 1), data['t'])\n",
    "phase_corr = phase-fit"
   ]
  },
  {
   "cell_type": "code",
   "execution_count": 14,
   "metadata": {},
   "outputs": [],
   "source": [
    "spike_indicies, _ = find_peaks(np.sign(0.3) * data['U'],\n",
    "                                   prominence=np.abs(0.3)*0.8, distance=1000)\n",
    "spikes = data.iloc[spike_indicies]['t']"
   ]
  },
  {
   "cell_type": "code",
   "execution_count": 20,
   "metadata": {},
   "outputs": [],
   "source": [
    "plt.close()\n",
    "\n",
    "plt.figure()\n",
    "\n",
    "plt.title('Hilbert transform')\n",
    "plt.xlabel('time [s]')\n",
    "plt.ylabel(r'$\\phi$ (cumulative)')\n",
    "\n",
    "plt.xlim(1800, 2030)\n",
    "plt.ylim(107, 145)\n",
    "\n",
    "plt.plot(data['t'], phase)\n",
    "for pi in np.arange(0, 220, 2*np.pi):\n",
    "    plt.axhline(pi, c='grey', ls=':')"
   ]
  }
 ],
 "metadata": {
  "kernelspec": {
   "display_name": "Python 3",
   "language": "python",
   "name": "python3"
  },
  "language_info": {
   "codemirror_mode": {
    "name": "ipython",
    "version": 3
   },
   "file_extension": ".py",
   "mimetype": "text/x-python",
   "name": "python",
   "nbconvert_exporter": "python",
   "pygments_lexer": "ipython3",
   "version": "3.11.6"
  }
 },
 "nbformat": 4,
 "nbformat_minor": 2
}
