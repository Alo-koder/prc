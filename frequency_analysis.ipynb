{
 "cells": [
  {
   "cell_type": "code",
   "execution_count": 1,
   "metadata": {},
   "outputs": [],
   "source": [
    "import pandas as pd\n",
    "import numpy as np\n",
    "import matplotlib as mpl\n",
    "from matplotlib import pyplot as plt\n",
    "from config import props, filenames\n",
    "import analysis\n",
    "from scipy.signal import find_peaks, ShortTimeFFT, windows\n",
    "from scipy.ndimage import gaussian_filter1d\n",
    "import pywt"
   ]
  },
  {
   "cell_type": "code",
   "execution_count": 2,
   "metadata": {},
   "outputs": [],
   "source": [
    "%load_ext autoreload\n",
    "%autoreload 2\n",
    "%matplotlib qt"
   ]
  },
  {
   "cell_type": "code",
   "execution_count": 3,
   "metadata": {},
   "outputs": [],
   "source": [
    "data_raw = pd.read_pickle(filenames.data+'data.pkl')\n",
    "data_raw.t = data_raw.t - data_raw.t[0]\n",
    "data = analysis.data_cleaning(data_raw.copy())"
   ]
  },
  {
   "cell_type": "code",
   "execution_count": 4,
   "metadata": {},
   "outputs": [],
   "source": [
    "plt.figure()\n",
    "plt.plot(data_raw.t, data_raw.I)\n",
    "# plt.plot(data.t, data.I)\n",
    "plt.show()"
   ]
  },
  {
   "cell_type": "code",
   "execution_count": 6,
   "metadata": {},
   "outputs": [
    {
     "data": {
      "text/plain": [
       "array([0.12211813, 0.12201348, 0.12192791, ..., 0.11073969, 0.11082674,\n",
       "       0.11087648])"
      ]
     },
     "execution_count": 6,
     "metadata": {},
     "output_type": "execute_result"
    }
   ],
   "source": [
    "np.array(data.I[(data.t < 2000) & (data.t > 1000)])"
   ]
  },
  {
   "cell_type": "code",
   "execution_count": 14,
   "metadata": {},
   "outputs": [],
   "source": [
    "current_seconds = np.array([np.median(data.I.iloc[100*i:100*(i+1)]) for i in range(data.I.size//100)])"
   ]
  },
  {
   "cell_type": "code",
   "execution_count": 30,
   "metadata": {},
   "outputs": [],
   "source": [
    "current_tenths = np.array(data.I.iloc[::10])"
   ]
  },
  {
   "cell_type": "code",
   "execution_count": 15,
   "metadata": {},
   "outputs": [
    {
     "data": {
      "text/plain": [
       "[<matplotlib.lines.Line2D at 0x19db1692de0>]"
      ]
     },
     "execution_count": 15,
     "metadata": {},
     "output_type": "execute_result"
    }
   ],
   "source": [
    "plt.figure()\n",
    "plt.plot(current_seconds)"
   ]
  },
  {
   "cell_type": "code",
   "execution_count": 31,
   "metadata": {},
   "outputs": [],
   "source": [
    "x = current_tenths"
   ]
  },
  {
   "cell_type": "code",
   "execution_count": 55,
   "metadata": {},
   "outputs": [],
   "source": [
    "N = x.size\n",
    "t_x = np.arange(N)\n",
    "w = windows.gaussian(10000, 3000, sym=True)\n",
    "#w = windows.boxcar(3000, sym=True) # this means 300s or 5min\n",
    "SFT = ShortTimeFFT(w, hop=100, fs=10)#, scale_to='psd')\n",
    "Sx = SFT.stft(x)"
   ]
  },
  {
   "cell_type": "code",
   "execution_count": 57,
   "metadata": {},
   "outputs": [],
   "source": [
    "fig, axs = plt.subplots(2,1)\n",
    "im = axs[0].imshow(abs(Sx[4:,:]), origin = 'lower', aspect='auto', cmap='PuRd', extent=SFT.extent(N), vmax=300)#,+(0,0,1e-3,0))\n",
    "fig.suptitle('Frequency Analysis')\n",
    "fig.supxlabel('Time [s]')\n",
    "axs[0].set_xlim(0,60000)\n",
    "axs[0].set_ylabel('Frequency [Hz]')\n",
    "axs[0].set_ylim([0, 0.2])\n",
    "axs[1].set_xlim(0,60000)\n",
    "axs[1].set_ylim(0.14, 0.37)\n",
    "axs[1].plot(data.t, data.photodiode)\n",
    "axs[1].set_ylabel('Illumination [W]')\n",
    "plt.show()"
   ]
  },
  {
   "cell_type": "code",
   "execution_count": 23,
   "metadata": {},
   "outputs": [
    {
     "data": {
      "text/plain": [
       "array([0.00000000e+00, 3.33333333e-05, 6.66666667e-05, ...,\n",
       "       4.99333333e-02, 4.99666667e-02, 5.00000000e-02])"
      ]
     },
     "execution_count": 23,
     "metadata": {},
     "output_type": "execute_result"
    }
   ],
   "source": [
    "SFT.f"
   ]
  }
 ],
 "metadata": {
  "kernelspec": {
   "display_name": "Python 3",
   "language": "python",
   "name": "python3"
  },
  "language_info": {
   "codemirror_mode": {
    "name": "ipython",
    "version": 3
   },
   "file_extension": ".py",
   "mimetype": "text/x-python",
   "name": "python",
   "nbconvert_exporter": "python",
   "pygments_lexer": "ipython3",
   "version": "3.12.0"
  }
 },
 "nbformat": 4,
 "nbformat_minor": 2
}
