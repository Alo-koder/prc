{
 "cells": [
  {
   "cell_type": "code",
   "execution_count": null,
   "metadata": {},
   "outputs": [],
   "source": [
    "import pandas as pd\n",
    "import numpy as np\n",
    "from matplotlib import pyplot as plt\n",
    "from config import props, filenames\n",
    "import analysis\n",
    "from scipy.signal import find_peaks, ShortTimeFFT, windows\n",
    "from scipy.ndimage import gaussian_filter1d"
   ]
  },
  {
   "cell_type": "code",
   "execution_count": null,
   "metadata": {},
   "outputs": [],
   "source": [
    "%load_ext autoreload\n",
    "%autoreload 2\n",
    "%matplotlib qt"
   ]
  },
  {
   "cell_type": "code",
   "execution_count": null,
   "metadata": {},
   "outputs": [],
   "source": [
    "data_raw = pd.read_pickle(filenames.data+'data.pkl')\n",
    "data_raw.t = data_raw.t - data_raw.t[0]\n",
    "data = analysis.data_cleaning(data_raw.copy())"
   ]
  },
  {
   "cell_type": "code",
   "execution_count": null,
   "metadata": {},
   "outputs": [],
   "source": [
    "plt.figure()\n",
    "plt.plot(data_raw.t, data_raw.I)\n",
    "plt.plot(data_raw.t, (data_raw.emsi-33)/5)\n",
    "plt.show()"
   ]
  },
  {
   "cell_type": "code",
   "execution_count": null,
   "metadata": {},
   "outputs": [],
   "source": [
    "current_seconds = np.array([np.median(data.I.iloc[100*i:100*(i+1)]) for i in range(data.I.size//100)])"
   ]
  },
  {
   "cell_type": "code",
   "execution_count": null,
   "metadata": {},
   "outputs": [],
   "source": [
    "current_tenths = np.array(data.I.iloc[::10])"
   ]
  },
  {
   "cell_type": "code",
   "execution_count": null,
   "metadata": {},
   "outputs": [],
   "source": [
    "x = current_tenths"
   ]
  },
  {
   "cell_type": "code",
   "execution_count": null,
   "metadata": {},
   "outputs": [],
   "source": [
    "plt.figure()\n",
    "plt.plot(x)"
   ]
  },
  {
   "cell_type": "code",
   "execution_count": null,
   "metadata": {},
   "outputs": [],
   "source": [
    "N = x.size\n",
    "t_x = np.arange(N)\n",
    "w = windows.gaussian(10000, 3000, sym=True)\n",
    "#w = windows.boxcar(3000, sym=True) # this means 300s or 5min\n",
    "SFT = ShortTimeFFT(w, hop=100, fs=10)\n",
    "Sx = SFT.stft(x)"
   ]
  },
  {
   "cell_type": "code",
   "execution_count": null,
   "metadata": {},
   "outputs": [],
   "source": [
    "fig, axs = plt.subplots(2,1)\n",
    "im = axs[0].imshow(abs(Sx[4:,:]), origin = 'lower', aspect='auto', cmap='PuRd', extent=SFT.extent(N), vmax=300)#,+(0,0,1e-3,0))\n",
    "fig.suptitle('Frequency Analysis')\n",
    "fig.supxlabel('Time [s]')\n",
    "# axs[0].set_xlim(0,60000)\n",
    "axs[0].set_ylabel('Frequency [Hz]')\n",
    "axs[0].set_ylim([0, 0.2])\n",
    "# axs[1].set_xlim(0,60000)\n",
    "# axs[1].set_ylim(0.14, 0.37)\n",
    "axs[1].plot(data.t, data.light)\n",
    "axs[1].set_ylabel('Photodiode voltage [V]')\n",
    "plt.show()"
   ]
  }
 ],
 "metadata": {
  "kernelspec": {
   "display_name": "Python 3",
   "language": "python",
   "name": "python3"
  },
  "language_info": {
   "codemirror_mode": {
    "name": "ipython",
    "version": 3
   },
   "file_extension": ".py",
   "mimetype": "text/x-python",
   "name": "python",
   "nbconvert_exporter": "python",
   "pygments_lexer": "ipython3",
   "version": "3.12.4"
  }
 },
 "nbformat": 4,
 "nbformat_minor": 2
}
