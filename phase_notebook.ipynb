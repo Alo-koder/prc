{
 "cells": [
  {
   "cell_type": "code",
   "execution_count": 1,
   "metadata": {},
   "outputs": [],
   "source": [
    "from scipy.signal import find_peaks\n",
    "from matplotlib import pyplot as plt\n",
    "import pandas as pd\n",
    "import numpy as np\n",
    "from scipy.ndimage import gaussian_filter, convolve\n",
    "\n",
    "\n",
    "%matplotlib qt"
   ]
  },
  {
   "cell_type": "code",
   "execution_count": 2,
   "metadata": {},
   "outputs": [],
   "source": [
    "def find_cycles_interpolate(data, pert_times, threshold_I_multiplier = 1, sign_change = 1):\n",
    "    \n",
    "    # Calculate current relative to the threshold\n",
    "    threshold_I = data['I'].mean()*threshold_I_multiplier\n",
    "    data['I relative'] = data['I']-threshold_I\n",
    "\n",
    "    # Calculate crossings and create 'cycles' dataframe\n",
    "    crossings = data[(np.diff(np.sign(data['I relative']), append=0) == 2*sign_change)]\n",
    "    crossing_times = np.array(crossings['t'])\n",
    "    period_durations = np.diff(crossing_times, append = np.nan)\n",
    "\n",
    "    period_fit = np.polyfit(crossing_times[:-1], period_durations[:-1], 2)\n",
    "    expected_duration = np.polyval(period_fit, crossing_times)\n",
    "\n",
    "    perturbed_periods = np.searchsorted(crossing_times, np.array(pert_times))-1\n",
    "\n",
    "    cycles = pd.DataFrame({\n",
    "                            'start'             : crossing_times,\n",
    "                            'duration'          : period_durations,\n",
    "                            'expected_duration' : expected_duration,\n",
    "                            'had_pert'          : False,\n",
    "                        })\n",
    "    cycles.loc[perturbed_periods, 'had_pert'] = True\n",
    "\n",
    "    # Purging bad cycles\n",
    "    cycles = cycles[~cycles.isna().any(axis=1)]\n",
    "    #cycles.drop(cycles.tail(1).index, inplace=True) # Drop last row\n",
    "    cycles = cycles[cycles['duration'] < 80]\n",
    "\n",
    "    #chujciwdupe = cycles[cycles.notna().any(axis=1)]\n",
    "    #print(chujciwdupe)\n",
    "    #plt.plot(cycles['start'], cycles['duration'])\n",
    "\n",
    "\n",
    "    # Recalculate expected duration\n",
    "    period_fit = np.polyfit(cycles['start'], cycles['duration'], 2)\n",
    "    cycles['expected_duration'] = np.polyval(period_fit, cycles['start'])\n",
    "\n",
    "    cycles.reset_index(drop=True, inplace=True)\n",
    "    return cycles, threshold_I\n",
    "    "
   ]
  },
  {
   "cell_type": "code",
   "execution_count": 3,
   "metadata": {},
   "outputs": [],
   "source": [
    "def find_cycles(data, pert_times, threshold_I_multiplier = 1, sign_change = 1):\n",
    "    '''\n",
    "    Divide the signal into cycles by cutting when the current\n",
    "    crosses a specific value.\n",
    "\n",
    "    Parameters\n",
    "    ----------\n",
    "    data : pd.DataFrame\n",
    "        experimental data\n",
    "    threshold_I_multiplier : float\n",
    "        point where I == threshold_I is defined\n",
    "        to have phase = 0; defined as fraction of mean current\n",
    "    sign_change : int\n",
    "        1 when I raises at phase==0, otherwise -1\n",
    "\n",
    "    \n",
    "    Returns\n",
    "    -------\n",
    "    cycles : pd.DataFrame\n",
    "        A dataframe describing period information\n",
    "            start -- t at which phase == 0\n",
    "            duration -- T of this period\n",
    "            expected_duration -- predicted unperturbed T\n",
    "                calculated via a quadratic fit\n",
    "    '''\n",
    "    \n",
    "    # Calculate current relative to the threshold\n",
    "    threshold_I = data['I'].mean()*threshold_I_multiplier\n",
    "    data['I relative'] = data['I']-threshold_I\n",
    "\n",
    "    # Calculate crossings and create 'cycles' dataframe\n",
    "    crossings = data[(np.diff(np.sign(data['I relative']), append=0) == 2*sign_change)]\n",
    "    crossing_times = np.array(crossings['t'])\n",
    "    period_durations = np.diff(crossing_times, append = np.nan)\n",
    "    # voltage = np.array(crossings['U'])\n",
    "    dt = np.min(np.subtract.outer(crossing_times, pert_times), axis=1)\n",
    "\n",
    "    period_fit = np.polyfit(crossing_times[:-1], period_durations[:-1], 2)\n",
    "    expected_duration = np.polyval(period_fit, crossing_times)\n",
    "\n",
    "    cycles = pd.DataFrame({\n",
    "                            'start'             : crossing_times,\n",
    "                            'duration'          : period_durations,\n",
    "                            # 'U'               : voltage,\n",
    "                            'expected_duration' : expected_duration,\n",
    "                            'dt'                : dt,\n",
    "                        })\n",
    "    \n",
    "    # Remove false crossings (when period is too short)\n",
    "    cycles = cycles[cycles['duration'] > 0.7*cycles['expected_duration']]\n",
    "\n",
    "    # Restore variables affected by period purging\n",
    "    cycles = cycles.assign(duration = np.diff(cycles['start'], append=np.nan))\n",
    "    period_fit = np.polyfit(cycles['start'].iloc[10:-10], cycles['duration'].iloc[10:-10], 2)\n",
    "    expected_duration = np.polyval(period_fit, cycles['start'])\n",
    "    cycles['expected_duration'] = expected_duration\n",
    "    # mean_period = np.mean(unpurged_cycles['duration'])\n",
    "    # cycles = unpurged_cycles[(unpurged_cycles['duration'] > 40)]\n",
    "\n",
    "    # cycles = unpurged_cycles[(unpurged_cycles['U'] < 4.05)]\n",
    "    # cycles = cycles.assign(duration= np.diff(cycles['start'], append=np.nan))\n",
    "    # cycles = cycles[(cycles['duration'] > 40) & (cycles['duration'] < 70)]\n",
    "\n",
    "    cycles.drop(cycles.tail(1).index, inplace=True) # Drop last row\n",
    "    cycles.reset_index(drop=True, inplace=True)\n",
    "    return cycles, threshold_I"
   ]
  },
  {
   "cell_type": "code",
   "execution_count": 4,
   "metadata": {},
   "outputs": [],
   "source": [
    "def pert_response_detailed(cycles, pert_times, pert_direction):\n",
    "\n",
    "    in_which_period = np.searchsorted(cycles['start'], np.array(pert_times))-1\n",
    "    \n",
    "    period_fit = np.polyfit(cycles['start'], cycles['duration'], 2)\n",
    "    expected_period = np.polyval(period_fit, pert_times)\n",
    "    \n",
    "    phase = (pert_times-cycles['start'].iloc[in_which_period])/expected_period\n",
    "\n",
    "    response = []\n",
    "    basis = -(np.array(cycles['duration'].iloc[in_which_period-1])-np.array(cycles['expected_duration'].iloc[in_which_period]))/np.array(cycles['expected_duration'].iloc[in_which_period])\n",
    "    for i in range(3): # I'm sorry for whoever reads the next line.\n",
    "        # It basically means:\n",
    "        # response = (next period - expected period) / expected period\n",
    "        response.append(-(np.array(cycles['duration'].iloc[in_which_period+i])-np.array(cycles['expected_duration'].iloc[in_which_period]))/np.array(cycles['expected_duration'].iloc[in_which_period]))\n",
    "\n",
    "    perts = pd.DataFrame({'time'            : pert_times,\n",
    "                        'in_which_period'   : in_which_period,\n",
    "                        'direction'         : pert_direction,\n",
    "                        'phase'             : phase,\n",
    "                        'basis'             : basis,\n",
    "                        'response'          : np.average(response[0:2], axis=0),\n",
    "                        'response_0'        : response[0],\n",
    "                        'response_1'        : response[1],\n",
    "                        'response_2'        : response[2],\n",
    "                        'expected_period'   : expected_period,\n",
    "                        })\n",
    "\n",
    "    return perts"
   ]
  },
  {
   "cell_type": "code",
   "execution_count": 5,
   "metadata": {},
   "outputs": [],
   "source": [
    "def pert_response(cycles, pert_times):\n",
    "    '''\n",
    "    Create a dataframe with data about the perturbations.\n",
    "\n",
    "    Parameters\n",
    "    ----------\n",
    "    cycles : pd.DataFrame\n",
    "        A dataframe describing period information\n",
    "            start -- t at which phase == 0\n",
    "            duration -- T of this period\n",
    "    pert_times : np.ndarray\n",
    "        An array of values of time when perturbations happened\n",
    "\n",
    "    Returns\n",
    "    -------\n",
    "    perts : pd.DataFrame\n",
    "        A dataframe describing information about each perturbation\n",
    "            time -- start of the perturbation\n",
    "            in_which_period -- index of the cycle in which pert occured\n",
    "            phase -- osc phase at which pert occured relative to I crossing\n",
    "            corrected_phase -- osc phase relative to current maximum\n",
    "            response -- phase response over current and next period\n",
    "                as a fraction of a mean period\n",
    "    period_fit : np.ndarray\n",
    "        List of coefficients of a 2nd degree polynomial fit to periods vs time.\n",
    "    '''\n",
    "\n",
    "\n",
    "    in_which_period = np.searchsorted(cycles['start'], np.array(pert_times))-1\n",
    "    \n",
    "    period_fit = np.polyfit(cycles['start'], cycles['duration'], 2)\n",
    "    expected_period = np.polyval(period_fit, pert_times)\n",
    "    \n",
    "    phase = (pert_times-cycles['start'].iloc[in_which_period])/expected_period\n",
    "    \n",
    "    affected_periods_durations = np.array([cycles['duration'].iloc[x:x+2] for x in in_which_period])\n",
    "    response = -(np.sum(affected_periods_durations, axis=1)-2*expected_period)/expected_period\n",
    "    \n",
    "    perts = pd.DataFrame({'time'            : pert_times,\n",
    "                        'in_which_period'   : in_which_period,\n",
    "                        'phase'             : phase,\n",
    "                        'response'          : response,\n",
    "                        'expected_period'   : expected_period})\n",
    "\n",
    "    return perts"
   ]
  },
  {
   "cell_type": "code",
   "execution_count": 6,
   "metadata": {},
   "outputs": [],
   "source": [
    "def phase_correction(data, perts, cycles):\n",
    "    '''\n",
    "    Account for different phase determination method by offseting phase\n",
    "    such that max current means phase = 0.\n",
    "\n",
    "    Parameters\n",
    "    ----------\n",
    "    data : pd.DataFrame\n",
    "        Experimental data\n",
    "    perts_pos : pd.DataFrame\n",
    "        Data on the perturbations\n",
    "    cycles : pd.DataFrame\n",
    "        Period data\n",
    "    mean_period : float\n",
    "        Mean cycle duration in seconds\n",
    "\n",
    "    Returns\n",
    "    -------\n",
    "    perts : pd.DataFrame\n",
    "        Updated perts dataframe with a new column: corrected_phase\n",
    "    correction : float\n",
    "        Average osc phase of current spikes (calculated with a relative method)\n",
    "    '''\n",
    "    spikes, _ = find_peaks(data['I'], height=0.03, distance=1000)\n",
    "    spike_times = data['t'].iloc[spikes[10:-2]].reset_index(drop=True)\n",
    "    in_which_period = np.searchsorted(cycles['start'], np.array(spike_times))-1\n",
    "\n",
    "    cycles_useful = cycles.iloc[in_which_period].reset_index(drop=True)\n",
    "\n",
    "    phase = (spike_times-cycles_useful['start'])/cycles_useful['expected_duration']\n",
    "    plt.figure()\n",
    "    plt.plot(spike_times, phase)\n",
    "    plt.xlabel('time')\n",
    "    plt.ylabel('spike phase')\n",
    "    correction = np.nanmedian(phase)\n",
    "\n",
    "    print(f'{correction = }')\n",
    "    corrected_phase = (perts['phase']-correction)%1\n",
    "    perts = perts.assign(corrected_phase = corrected_phase)\n",
    "\n",
    "    return perts, correction"
   ]
  },
  {
   "cell_type": "code",
   "execution_count": 17,
   "metadata": {},
   "outputs": [],
   "source": [
    "FILENAME = 'T:\\\\Team\\\\Szewczyk\\\\Data\\\\2024-02-22\\\\data.pkl'\n",
    "BASIS_VOLTAGE = 6\n",
    "PERTURBATION = 0.3\n",
    "PERT_SIGN = '+ve'\n",
    "PHASE_DET_BRANCH = 1"
   ]
  },
  {
   "cell_type": "code",
   "execution_count": 8,
   "metadata": {},
   "outputs": [],
   "source": [
    "data = pd.read_pickle(FILENAME)"
   ]
  },
  {
   "cell_type": "code",
   "execution_count": 9,
   "metadata": {},
   "outputs": [],
   "source": [
    "# Purging the data -- experiment-dependent\n",
    "data['t'] = data['t']-data.loc[0, 't']\n",
    "data = data.mask(data['t'] < 300)\n",
    "data['raw_I'] = convolve(data['I'], [0.5, 0.5])\n",
    "data['I'] = data['raw_I']"
   ]
  },
  {
   "cell_type": "code",
   "execution_count": 10,
   "metadata": {},
   "outputs": [],
   "source": [
    "# Detecting perturbations -- version for two types in one experiment\n",
    "# If it takes more than 10s to run, check the inequality direction!\n",
    "pert_times_pos = np.array(data[(np.diff(data['U'], prepend=BASIS_VOLTAGE) > 0.8*PERTURBATION) & (data['U'] > BASIS_VOLTAGE + PERTURBATION/2)]['t'])\n",
    "pert_times_neg = np.array(data[(np.diff(data['U'], prepend=BASIS_VOLTAGE) < -0.8*PERTURBATION/2) & (data['U'] < BASIS_VOLTAGE - PERTURBATION/2)]['t'])\n",
    "pert_times = np.concatenate((pert_times_pos, pert_times_neg))\n",
    "permutation = np.argsort(pert_times)\n",
    "pert_direction = np.concatenate((np.full(pert_times_pos.shape, '+ve'), np.full(pert_times_neg.shape, '-ve')))\n",
    "pert_times = pert_times[permutation]\n",
    "pert_direction = pert_direction[permutation]\n",
    "#print(np.diff(pert_times))\n",
    "for t in pert_times:\n",
    "    data.loc[(data['t'] > t-0.1) & (data['t'] < t+3), 'I'] = np.nan\n",
    "\n",
    "data['I'] = np.interp(data['t'], data.loc[data['I'].notna() ,'t'], data.loc[data['I'].notna(), 'I'])\n",
    "#data.loc[data['U'] < 3.95, 'I'] = np.nan\n",
    "#kernel = convolution.Box1DKernel(500)\n",
    "#data = data.assign(I = convolution.interpolate_replace_nans(data['I'], kernel))\n"
   ]
  },
  {
   "cell_type": "code",
   "execution_count": 11,
   "metadata": {},
   "outputs": [
    {
     "data": {
      "text/plain": [
       "<matplotlib.legend.Legend at 0x233987f2390>"
      ]
     },
     "execution_count": 11,
     "metadata": {},
     "output_type": "execute_result"
    }
   ],
   "source": [
    "plt.figure()\n",
    "plt.plot(data['t'], data['raw_I'], label='50Hz convoluted')\n",
    "plt.plot(data['t'], data['I'], label = 'masked')\n",
    "plt.ylabel('Current density')\n",
    "plt.xlabel('time [s]')\n",
    "plt.legend(loc=1)"
   ]
  },
  {
   "cell_type": "code",
   "execution_count": 18,
   "metadata": {},
   "outputs": [],
   "source": [
    "cycles, threshold_I = find_cycles_interpolate(data, pert_times, sign_change=PHASE_DET_BRANCH, threshold_I_multiplier=1)\n",
    "mean_period = np.mean(cycles['duration'])\n",
    "\n",
    "# Calculate perturbation response\n",
    "perts = pert_response_detailed(cycles, pert_times[:-1], pert_direction[:-1])"
   ]
  },
  {
   "cell_type": "code",
   "execution_count": 19,
   "metadata": {},
   "outputs": [
    {
     "name": "stdout",
     "output_type": "stream",
     "text": [
      "correction = 0.14251555741596522\n"
     ]
    }
   ],
   "source": [
    "perts, correction = phase_correction(data, perts, cycles)"
   ]
  },
  {
   "cell_type": "code",
   "execution_count": 20,
   "metadata": {},
   "outputs": [],
   "source": [
    "fig, axs = plt.subplots(2, sharex=True)\n",
    "axs[0].plot(cycles['start'], cycles['duration'])\n",
    "axs[0].plot(cycles['start'], cycles['expected_duration'])\n",
    "axs[0].set_ylabel('period')\n",
    "# axs[0].scatter(cycles['start'][cycles['had_pert']], cycles['duration'][cycles['had_pert']], marker = 'x')\n",
    "\n",
    "axs[1].scatter(perts['time'], perts['corrected_phase'], marker = 'x')\n",
    "axs[1].plot(perts['time'], perts['corrected_phase'])\n",
    "axs[1].set_ylabel('pert. phase')\n",
    "\n",
    "fig.supxlabel('time [s]')\n",
    "fig.tight_layout()"
   ]
  },
  {
   "cell_type": "code",
   "execution_count": 23,
   "metadata": {},
   "outputs": [
    {
     "data": {
      "text/plain": [
       "<matplotlib.lines.Line2D at 0x23398b62060>"
      ]
     },
     "execution_count": 23,
     "metadata": {},
     "output_type": "execute_result"
    }
   ],
   "source": [
    "perts_now = perts[perts['direction'] == PERT_SIGN]\n",
    "sorted_perts = perts_now.sort_values(by='corrected_phase')\n",
    "\n",
    "params = np.polyfit(sorted_perts['corrected_phase'], sorted_perts['response'], 6)\n",
    "response_fit = np.polyval(params, sorted_perts['corrected_phase'])\n",
    "\n",
    "plt.figure()\n",
    "plt.title(f'PRC for {BASIS_VOLTAGE}{'+' if PERT_SIGN=='+ve' else '-'}{PERTURBATION}V, {'+' if PHASE_DET_BRANCH==1  else '-'}ve slope current branch')\n",
    "plt.scatter(perts_now['corrected_phase'], perts_now['response'], c=perts_now['time'])\n",
    "#plt.plot(sorted_perts['corrected_phase'], response_fit)\n",
    "plt.axvline(1-correction)"
   ]
  },
  {
   "cell_type": "code",
   "execution_count": 24,
   "metadata": {},
   "outputs": [],
   "source": [
    "fig, axs = plt.subplots(2,2, sharex = True, sharey=True, figsize = (14, 9))\n",
    "things_to_plot = ['basis', 'response', 'response_0', 'response_1']\n",
    "for (thing, ax) in zip(things_to_plot, axs.flatten()):\n",
    "    ax.scatter(perts_now['corrected_phase'], perts_now[thing], c=perts_now['time'])\n",
    "    ax.set_title(thing)\n",
    "    ax.axvline(1-correction)\n",
    "    ax.axhline(0, ls='--')\n",
    "fig.suptitle(f'PRC for {BASIS_VOLTAGE}{'+' if PERT_SIGN=='+ve' else '-'}{PERTURBATION}V, {'+' if PHASE_DET_BRANCH==1  else '-'}ve slope current branch')\n",
    "fig.supxlabel(r'$\\phi$')\n",
    "fig.supylabel(r'$\\Delta\\phi$')\n",
    "fig.tight_layout()"
   ]
  },
  {
   "cell_type": "code",
   "execution_count": 18,
   "metadata": {},
   "outputs": [
    {
     "data": {
      "text/plain": [
       "<matplotlib.lines.Line2D at 0x20a86e247a0>"
      ]
     },
     "execution_count": 18,
     "metadata": {},
     "output_type": "execute_result"
    }
   ],
   "source": [
    "fig, axs = plt.subplots(2,2)\n",
    "axs[0,0].scatter(perts_now['corrected_phase'], perts_now['response'])\n",
    "axs[0,1].scatter(perts_now['corrected_phase'], perts_now['response_0'])\n",
    "axs[1,0].scatter(perts_now['corrected_phase'], perts_now['response_1'])\n",
    "axs[1,1].scatter(perts_now['corrected_phase'], perts_now['response_2'])\n",
    "axs[0,0].set_title('response')\n",
    "axs[0,1].set_title('response_0')\n",
    "axs[1,0].set_title('response_1')\n",
    "axs[1,1].set_title('response_2')\n",
    "\n",
    "plt.axvline(1-correction)"
   ]
  }
 ],
 "metadata": {
  "kernelspec": {
   "display_name": "Python 3",
   "language": "python",
   "name": "python3"
  },
  "language_info": {
   "codemirror_mode": {
    "name": "ipython",
    "version": 3
   },
   "file_extension": ".py",
   "mimetype": "text/x-python",
   "name": "python",
   "nbconvert_exporter": "python",
   "pygments_lexer": "ipython3",
   "version": "3.12.0"
  }
 },
 "nbformat": 4,
 "nbformat_minor": 2
}
