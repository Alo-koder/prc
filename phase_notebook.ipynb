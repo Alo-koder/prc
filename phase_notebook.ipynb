{
 "cells": [
  {
   "cell_type": "code",
   "execution_count": 1,
   "metadata": {},
   "outputs": [],
   "source": [
    "from scipy.signal import find_peaks\n",
    "from matplotlib import pyplot as plt\n",
    "import pandas as pd\n",
    "import numpy as np\n",
    "from scipy.ndimage import gaussian_filter, convolve\n",
    "from astropy import convolution\n",
    "import time\n",
    "from IPython.display import display\n",
    "\n",
    "%matplotlib qt"
   ]
  },
  {
   "cell_type": "code",
   "execution_count": 2,
   "metadata": {},
   "outputs": [],
   "source": [
    "# #data, pert_times = read_data(\"/home/alo/munich/data/20240109/A00502_C01.mpr\",\n",
    "#                          # roi=(1000, 8999000), p_height=0.3)\n",
    "\n",
    "# data = pd.read_pickle(\"~/munich/data/20240109/data.pkl\")\n",
    "# data['I'] = gaussian_filter(data['I'], 10)\n",
    "# spike_indicies, _ = find_peaks(np.sign(0.3) * data['U'],\n",
    "#                                    prominence=np.abs(0.3)*0.8, distance=1000)\n",
    "# spikes = data.iloc[spike_indicies]\n",
    "    \n",
    "# pert_times = np.array(spikes['t'])"
   ]
  },
  {
   "cell_type": "code",
   "execution_count": 3,
   "metadata": {},
   "outputs": [],
   "source": [
    "# data = pd.read_pickle('T:\\\\Team\\\\Szewczyk\\\\Data\\\\2024-01-09\\\\data.pkl')\n",
    "# raw_current = np.array(data['I'])\n",
    "# gaussian_fit = gaussian_filter(raw_current, 10)\n",
    "# avg = convolve(raw_current, [0.5, 0.5])\n",
    "# error = gaussian_filter(raw_current - gaussian_fit, 50)\n",
    "\n",
    "# plt.figure()\n",
    "# plt.title(f'start = {time.ctime(data['t'][0])}')\n",
    "# plt.plot((data['t'] - data['t'][0])/3600, error)\n",
    "# # plt.plot(data['t'], raw_current)\n",
    "# plt.show()"
   ]
  },
  {
   "cell_type": "code",
   "execution_count": 4,
   "metadata": {},
   "outputs": [],
   "source": [
    "# data = pd.read_pickle('T:\\\\Team\\\\Szewczyk\\\\Data\\\\20240109\\\\data.pkl')\n",
    "# raw_current = np.array(data['I'])\n",
    "# gaussian_fit = gaussian_filter(raw_current, 10)\n",
    "\n",
    "# kernel = convolution.Gaussian1DKernel(stddev=100)\n",
    "# masked_current = data['I'].where(data['U'] < 4.1)\n",
    "\n",
    "# astro_fit = convolution.convolve(raw_current, kernel)\n",
    "\n",
    "# plt.figure()\n",
    "# plt.xlim(12910, 12920)\n",
    "# plt.plot(data['t'], raw_current, label='raw')\n",
    "# plt.plot(data['t'], masked_current, label='masked current')\n",
    "# plt.plot(data['t'], gaussian_fit, label=r'full gaussian fit, $\\sigma = 0.1$s')\n",
    "# plt.plot(data['t'], astro_fit, label=r'masked gaussian fit, $\\sigma = 1$s')\n",
    "# plt.legend(loc=1)\n",
    "# plt.show()"
   ]
  },
  {
   "cell_type": "code",
   "execution_count": 5,
   "metadata": {},
   "outputs": [],
   "source": [
    "def find_cycles(data, pert_times, threshold_I_multiplier=1, sign_change = 1):\n",
    "    '''\n",
    "    Divide the signal into cycles by cutting when the current\n",
    "    crosses a specific value.\n",
    "\n",
    "    Parameters\n",
    "    ----------\n",
    "    data : pd.DataFrame\n",
    "        experimental data\n",
    "    threshold_I_multiplier : float\n",
    "        point where I == threshold_I is defined\n",
    "        to have phase = 0; defined as fraction of mean current\n",
    "    sign_change : int\n",
    "        1 when I raises at phase==0, otherwise -1\n",
    "\n",
    "    \n",
    "    Returns\n",
    "    -------\n",
    "    cycles : pd.DataFrame\n",
    "        A dataframe describing period information\n",
    "            start -- t at which phase == 0\n",
    "            duration -- T of this period\n",
    "            expected_duration -- predicted unperturbed T\n",
    "                calculated via a quadratic fit\n",
    "    '''\n",
    "    \n",
    "    # Calculate current relative to the threshold\n",
    "    threshold_I = data['I'].mean()*threshold_I_multiplier\n",
    "    data['I relative'] = data['I']-threshold_I\n",
    "\n",
    "    # Calculate crossings and create 'cycles' dataframe\n",
    "    crossings = data[(np.diff(np.sign(data['I relative']), append=0) == 2*sign_change)]\n",
    "    crossing_times = np.array(crossings['t'])\n",
    "    period_durations = np.diff(crossing_times, append = np.nan)\n",
    "    # voltage = np.array(crossings['U'])\n",
    "\n",
    "    period_fit = np.polyfit(crossing_times[:-1], period_durations[:-1], 2)\n",
    "    expected_duration = np.polyval(period_fit, crossing_times)\n",
    "\n",
    "    cycles = pd.DataFrame({\n",
    "                            'start'             : crossing_times,\n",
    "                            'duration'          : period_durations,\n",
    "                            # 'U'               : voltage,\n",
    "                            'expected_duration' : expected_duration,\n",
    "                        })\n",
    "    \n",
    "    # Remove false crossings (when period is too short)\n",
    "    cycles = cycles[cycles['duration'] > 0.7*cycles['expected_duration']]\n",
    "\n",
    "    # Restore variables affected by period purging\n",
    "    cycles.assign(duration = np.diff(cycles['start'], append=np.nan), inplace=True)\n",
    "    period_fit = np.polyfit(cycles['start'].iloc[10:-10], cycles['duration'].iloc[10:-10], 2)\n",
    "    expected_duration = np.polyval(period_fit, cycles['start'])\n",
    "    cycles['expected_duration'] = expected_duration\n",
    "    # mean_period = np.mean(unpurged_cycles['duration'])\n",
    "    # cycles = unpurged_cycles[(unpurged_cycles['duration'] > 40)]\n",
    "\n",
    "    # cycles = unpurged_cycles[(unpurged_cycles['U'] < 4.05)]\n",
    "    # cycles = cycles.assign(duration= np.diff(cycles['start'], append=np.nan))\n",
    "    # cycles = cycles[(cycles['duration'] > 40) & (cycles['duration'] < 70)]\n",
    "\n",
    "    cycles.drop(cycles.tail(1).index, inplace=True) # Drop last row\n",
    "    cycles.reset_index(drop=True, inplace=True)\n",
    "    return cycles, threshold_I"
   ]
  },
  {
   "cell_type": "code",
   "execution_count": 6,
   "metadata": {},
   "outputs": [],
   "source": [
    "def pert_response(cycles, pert_times):\n",
    "    '''\n",
    "    Create a dataframe with data about the perturbations.\n",
    "\n",
    "    Parameters\n",
    "    ----------\n",
    "    cycles : pd.DataFrame\n",
    "        A dataframe describing period information\n",
    "            start -- t at which phase == 0\n",
    "            duration -- T of this period\n",
    "    pert_times : np.ndarray\n",
    "        An array of values of time when perturbations happened\n",
    "\n",
    "    Returns\n",
    "    -------\n",
    "    perts : pd.DataFrame\n",
    "        A dataframe describing information about each perturbation\n",
    "            time -- start of the perturbation\n",
    "            in_which_period -- index of the cycle in which pert occured\n",
    "            phase -- osc phase at which pert occured relative to I crossing\n",
    "            corrected_phase -- osc phase relative to current maximum\n",
    "            response -- phase response over current and next period\n",
    "                as a fraction of a mean period\n",
    "    period_fit : np.ndarray\n",
    "        List of coefficients of a 2nd degree polynomial fit to periods vs time.\n",
    "    '''\n",
    "\n",
    "\n",
    "    in_which_period = np.searchsorted(cycles['start'], np.array(pert_times))-1\n",
    "    \n",
    "    period_fit = np.polyfit(cycles['start'], cycles['duration'], 2)\n",
    "    expected_period = np.polyval(period_fit, pert_times)\n",
    "    \n",
    "    phase = (pert_times-cycles['start'].iloc[in_which_period])/expected_period\n",
    "    \n",
    "    affected_periods_durations = np.array([cycles['duration'].iloc[x:x+2] for x in in_which_period])\n",
    "    response = np.sum(affected_periods_durations, axis=1)-2*expected_period\n",
    "    \n",
    "    perts = pd.DataFrame({'time'            : pert_times,\n",
    "                        'in_which_period'   : in_which_period,\n",
    "                        'phase'             : phase,\n",
    "                        'response'          : response,\n",
    "                        'expected_period'   : expected_period})\n",
    "\n",
    "    return perts, period_fit"
   ]
  },
  {
   "cell_type": "code",
   "execution_count": 65,
   "metadata": {},
   "outputs": [],
   "source": [
    "def phase_correction(data, perts, cycles, mean_period):\n",
    "    '''\n",
    "    Account for different phase determination method by offseting phase\n",
    "    such that max current means phase = 0.\n",
    "\n",
    "    Parameters\n",
    "    ----------\n",
    "    data : pd.DataFrame\n",
    "        Experimental data\n",
    "    perts : pd.DataFrame\n",
    "        Data on the perturbations\n",
    "    cycles : pd.DataFrame\n",
    "        Period data\n",
    "    mean_period : float\n",
    "        Mean cycle duration in seconds\n",
    "\n",
    "    Returns\n",
    "    -------\n",
    "    perts : pd.DataFrame\n",
    "        Updated perts dataframe with a new column: corrected_phase\n",
    "    correction : float\n",
    "        Average osc phase of current spikes (calculated with a relative method)\n",
    "    '''\n",
    "    spikes, _ = find_peaks(data['I'], height=0.06, distance=1000)\n",
    "    # time_array = np.array(data['t'])\n",
    "    # spike_times = time_array[spikes]\n",
    "    spike_times = data['t'].iloc[spikes[5:-5]].reset_index(drop=True)\n",
    "    \n",
    "    # size = min(spike_times.size, cycles.shape[0])\n",
    "    # correction = np.average(spike_times[:size]-cycles['start'].iloc[:size])%mean_period/mean_period\n",
    "\n",
    "    in_which_period = np.searchsorted(cycles['start'], np.array(spike_times))-1\n",
    "    cycles_useful = cycles.iloc[in_which_period].reset_index(drop=True)\n",
    "    print(spike_times-cycles_useful)\n",
    "\n",
    "    phase = (spike_times-cycles_useful['start'])/cycles_useful['expected_duration']\n",
    "    correction = np.average(phase)\n",
    "\n",
    "    print(f'{correction = }')\n",
    "    corrected_phase = (perts['phase']+correction)%1\n",
    "    # perts.drop(perts.tail(perts.shape[0]-size).index, inplace=True)\n",
    "    perts = perts.assign(corrected_phase = corrected_phase)\n",
    "\n",
    "\n",
    "    plt.plot(data['t'], data['I'])\n",
    "    plt.scatter(spike_times, data[data['t'].isin(spike_times)]['I'], marker='x')\n",
    "    plt.vlines(cycles['start'], 0, 0.1, colors='r')\n",
    "\n",
    "    return perts, correction"
   ]
  },
  {
   "cell_type": "code",
   "execution_count": 87,
   "metadata": {},
   "outputs": [],
   "source": [
    "data = pd.read_pickle('T:\\\\Team\\\\Szewczyk\\\\Data\\\\2024-02-08\\\\data.pkl')\n",
    "data['I'] = gaussian_filter(data['I'], 30)\n",
    "pert_times = np.array(data[(np.diff(data['U'], append=4) > 0.05)]['t'])"
   ]
  },
  {
   "cell_type": "code",
   "execution_count": 91,
   "metadata": {},
   "outputs": [],
   "source": [
    "cycles, threshold_I = find_cycles(data, pert_times, sign_change=1)\n",
    "mean_period = np.mean(cycles['duration'])\n",
    "\n",
    "# Calculate perturbation response\n",
    "perts, period_fit = pert_response(cycles, pert_times)\n",
    "# perts, correction = phase_correction(data, perts, cycles, mean_period)"
   ]
  },
  {
   "cell_type": "code",
   "execution_count": 74,
   "metadata": {},
   "outputs": [
    {
     "data": {
      "text/plain": [
       "[<matplotlib.lines.Line2D at 0x211cff5ee70>]"
      ]
     },
     "execution_count": 74,
     "metadata": {},
     "output_type": "execute_result"
    }
   ],
   "source": [
    "plt.plot(cycles['start'], cycles['duration'])\n",
    "plt.plot(cycles['start'], cycles['expected_duration'])"
   ]
  },
  {
   "cell_type": "code",
   "execution_count": 92,
   "metadata": {},
   "outputs": [],
   "source": [
    "correction = 0\n",
    "\n",
    "corrected_phase = (perts['phase']+correction)%1\n",
    "perts = perts.assign(corrected_phase = corrected_phase)\n"
   ]
  },
  {
   "cell_type": "code",
   "execution_count": 93,
   "metadata": {},
   "outputs": [
    {
     "data": {
      "text/plain": [
       "[<matplotlib.lines.Line2D at 0x212719db260>]"
      ]
     },
     "execution_count": 93,
     "metadata": {},
     "output_type": "execute_result"
    }
   ],
   "source": [
    "plt.figure()\n",
    "plt.plot(data['t'], data['I'])"
   ]
  },
  {
   "cell_type": "code",
   "execution_count": 94,
   "metadata": {},
   "outputs": [
    {
     "data": {
      "text/plain": [
       "<matplotlib.collections.PathCollection at 0x2120dd6dee0>"
      ]
     },
     "execution_count": 94,
     "metadata": {},
     "output_type": "execute_result"
    }
   ],
   "source": [
    "plt.figure()\n",
    "plt.scatter(perts['phase'], -perts['response']/perts['expected_period'])"
   ]
  },
  {
   "cell_type": "code",
   "execution_count": 12,
   "metadata": {},
   "outputs": [],
   "source": [
    "def read_datfile(filename, p_height=0.5, margins=(100, 5000)):\n",
    "    \n",
    "    df = pd.read_csv(filename, sep='\\t', header=5)\n",
    "    \n",
    "    \n",
    "    # Renaming columns\n",
    "    new_cols = ['t', 'U', 'I', 'Ill', 'EMSI']\n",
    "    old_cols = df.columns\n",
    "    col_dict = {x: y for x, y in zip(old_cols, new_cols)}\n",
    "    df = df.rename(columns = col_dict)\n",
    "    \n",
    "    # Flipping signs\n",
    "    df['U'] = -df['U']\n",
    "    df['I'] = -df['I']\n",
    "    \n",
    "    # Applying margins\n",
    "    df = df[(df['t'] > margins[0]) & (df['t'] < margins[1])]\n",
    "    \n",
    "    # Signal smoothening\n",
    "    df['I'] = gaussian_filter(df['I'], 10)*100_000\n",
    "    df['EMSI'] = gaussian_filter(df['EMSI'], 2)\n",
    "    # df['U'] = gaussian_filter(df['U'], 1)\n",
    "    \n",
    "    # Finding voltage spikes\n",
    "    spike_indicies, _ = find_peaks(np.sign(p_height) * df['U'],\n",
    "                                   prominence=np.abs(p_height)*0.8, distance=1000)\n",
    "    spikes = df.iloc[spike_indicies]\n",
    "    \n",
    "    return df, np.array(spikes['t'])"
   ]
  },
  {
   "cell_type": "code",
   "execution_count": 13,
   "metadata": {},
   "outputs": [
    {
     "ename": "FileNotFoundError",
     "evalue": "[Errno 2] No such file or directory: 'C:\\\\Users\\\\go68nim/munich/data/24X/A00102.dat'",
     "output_type": "error",
     "traceback": [
      "\u001b[1;31m---------------------------------------------------------------------------\u001b[0m",
      "\u001b[1;31mFileNotFoundError\u001b[0m                         Traceback (most recent call last)",
      "Cell \u001b[1;32mIn[13], line 1\u001b[0m\n\u001b[1;32m----> 1\u001b[0m df, _ \u001b[38;5;241m=\u001b[39m \u001b[43mread_datfile\u001b[49m\u001b[43m(\u001b[49m\u001b[38;5;124;43m'\u001b[39;49m\u001b[38;5;124;43m~/munich/data/24X/A00102.dat\u001b[39;49m\u001b[38;5;124;43m'\u001b[39;49m\u001b[43m)\u001b[49m\n\u001b[0;32m      3\u001b[0m crossings \u001b[38;5;241m=\u001b[39m df[(np\u001b[38;5;241m.\u001b[39mdiff(np\u001b[38;5;241m.\u001b[39msign(df[\u001b[38;5;124m'\u001b[39m\u001b[38;5;124mI\u001b[39m\u001b[38;5;124m'\u001b[39m]\u001b[38;5;241m-\u001b[39m\u001b[38;5;241m1.1\u001b[39m\u001b[38;5;241m*\u001b[39mnp\u001b[38;5;241m.\u001b[39mmean(df[\u001b[38;5;124m'\u001b[39m\u001b[38;5;124mI\u001b[39m\u001b[38;5;124m'\u001b[39m])), append\u001b[38;5;241m=\u001b[39m\u001b[38;5;241m0\u001b[39m) \u001b[38;5;241m==\u001b[39m \u001b[38;5;241m2\u001b[39m)]\n\u001b[0;32m      4\u001b[0m crossings \u001b[38;5;241m=\u001b[39m np\u001b[38;5;241m.\u001b[39marray(crossings[\u001b[38;5;124m'\u001b[39m\u001b[38;5;124mt\u001b[39m\u001b[38;5;124m'\u001b[39m])\n",
      "Cell \u001b[1;32mIn[12], line 3\u001b[0m, in \u001b[0;36mread_datfile\u001b[1;34m(filename, p_height, margins)\u001b[0m\n\u001b[0;32m      1\u001b[0m \u001b[38;5;28;01mdef\u001b[39;00m \u001b[38;5;21mread_datfile\u001b[39m(filename, p_height\u001b[38;5;241m=\u001b[39m\u001b[38;5;241m0.5\u001b[39m, margins\u001b[38;5;241m=\u001b[39m(\u001b[38;5;241m100\u001b[39m, \u001b[38;5;241m5000\u001b[39m)):\n\u001b[1;32m----> 3\u001b[0m     df \u001b[38;5;241m=\u001b[39m \u001b[43mpd\u001b[49m\u001b[38;5;241;43m.\u001b[39;49m\u001b[43mread_csv\u001b[49m\u001b[43m(\u001b[49m\u001b[43mfilename\u001b[49m\u001b[43m,\u001b[49m\u001b[43m \u001b[49m\u001b[43msep\u001b[49m\u001b[38;5;241;43m=\u001b[39;49m\u001b[38;5;124;43m'\u001b[39;49m\u001b[38;5;130;43;01m\\t\u001b[39;49;00m\u001b[38;5;124;43m'\u001b[39;49m\u001b[43m,\u001b[49m\u001b[43m \u001b[49m\u001b[43mheader\u001b[49m\u001b[38;5;241;43m=\u001b[39;49m\u001b[38;5;241;43m5\u001b[39;49m\u001b[43m)\u001b[49m\n\u001b[0;32m      6\u001b[0m     \u001b[38;5;66;03m# Renaming columns\u001b[39;00m\n\u001b[0;32m      7\u001b[0m     new_cols \u001b[38;5;241m=\u001b[39m [\u001b[38;5;124m'\u001b[39m\u001b[38;5;124mt\u001b[39m\u001b[38;5;124m'\u001b[39m, \u001b[38;5;124m'\u001b[39m\u001b[38;5;124mU\u001b[39m\u001b[38;5;124m'\u001b[39m, \u001b[38;5;124m'\u001b[39m\u001b[38;5;124mI\u001b[39m\u001b[38;5;124m'\u001b[39m, \u001b[38;5;124m'\u001b[39m\u001b[38;5;124mIll\u001b[39m\u001b[38;5;124m'\u001b[39m, \u001b[38;5;124m'\u001b[39m\u001b[38;5;124mEMSI\u001b[39m\u001b[38;5;124m'\u001b[39m]\n",
      "File \u001b[1;32mc:\\Users\\go68nim\\AppData\\Local\\Programs\\Python\\Python312\\Lib\\site-packages\\pandas\\io\\parsers\\readers.py:948\u001b[0m, in \u001b[0;36mread_csv\u001b[1;34m(filepath_or_buffer, sep, delimiter, header, names, index_col, usecols, dtype, engine, converters, true_values, false_values, skipinitialspace, skiprows, skipfooter, nrows, na_values, keep_default_na, na_filter, verbose, skip_blank_lines, parse_dates, infer_datetime_format, keep_date_col, date_parser, date_format, dayfirst, cache_dates, iterator, chunksize, compression, thousands, decimal, lineterminator, quotechar, quoting, doublequote, escapechar, comment, encoding, encoding_errors, dialect, on_bad_lines, delim_whitespace, low_memory, memory_map, float_precision, storage_options, dtype_backend)\u001b[0m\n\u001b[0;32m    935\u001b[0m kwds_defaults \u001b[38;5;241m=\u001b[39m _refine_defaults_read(\n\u001b[0;32m    936\u001b[0m     dialect,\n\u001b[0;32m    937\u001b[0m     delimiter,\n\u001b[1;32m   (...)\u001b[0m\n\u001b[0;32m    944\u001b[0m     dtype_backend\u001b[38;5;241m=\u001b[39mdtype_backend,\n\u001b[0;32m    945\u001b[0m )\n\u001b[0;32m    946\u001b[0m kwds\u001b[38;5;241m.\u001b[39mupdate(kwds_defaults)\n\u001b[1;32m--> 948\u001b[0m \u001b[38;5;28;01mreturn\u001b[39;00m \u001b[43m_read\u001b[49m\u001b[43m(\u001b[49m\u001b[43mfilepath_or_buffer\u001b[49m\u001b[43m,\u001b[49m\u001b[43m \u001b[49m\u001b[43mkwds\u001b[49m\u001b[43m)\u001b[49m\n",
      "File \u001b[1;32mc:\\Users\\go68nim\\AppData\\Local\\Programs\\Python\\Python312\\Lib\\site-packages\\pandas\\io\\parsers\\readers.py:611\u001b[0m, in \u001b[0;36m_read\u001b[1;34m(filepath_or_buffer, kwds)\u001b[0m\n\u001b[0;32m    608\u001b[0m _validate_names(kwds\u001b[38;5;241m.\u001b[39mget(\u001b[38;5;124m\"\u001b[39m\u001b[38;5;124mnames\u001b[39m\u001b[38;5;124m\"\u001b[39m, \u001b[38;5;28;01mNone\u001b[39;00m))\n\u001b[0;32m    610\u001b[0m \u001b[38;5;66;03m# Create the parser.\u001b[39;00m\n\u001b[1;32m--> 611\u001b[0m parser \u001b[38;5;241m=\u001b[39m \u001b[43mTextFileReader\u001b[49m\u001b[43m(\u001b[49m\u001b[43mfilepath_or_buffer\u001b[49m\u001b[43m,\u001b[49m\u001b[43m \u001b[49m\u001b[38;5;241;43m*\u001b[39;49m\u001b[38;5;241;43m*\u001b[39;49m\u001b[43mkwds\u001b[49m\u001b[43m)\u001b[49m\n\u001b[0;32m    613\u001b[0m \u001b[38;5;28;01mif\u001b[39;00m chunksize \u001b[38;5;129;01mor\u001b[39;00m iterator:\n\u001b[0;32m    614\u001b[0m     \u001b[38;5;28;01mreturn\u001b[39;00m parser\n",
      "File \u001b[1;32mc:\\Users\\go68nim\\AppData\\Local\\Programs\\Python\\Python312\\Lib\\site-packages\\pandas\\io\\parsers\\readers.py:1448\u001b[0m, in \u001b[0;36mTextFileReader.__init__\u001b[1;34m(self, f, engine, **kwds)\u001b[0m\n\u001b[0;32m   1445\u001b[0m     \u001b[38;5;28mself\u001b[39m\u001b[38;5;241m.\u001b[39moptions[\u001b[38;5;124m\"\u001b[39m\u001b[38;5;124mhas_index_names\u001b[39m\u001b[38;5;124m\"\u001b[39m] \u001b[38;5;241m=\u001b[39m kwds[\u001b[38;5;124m\"\u001b[39m\u001b[38;5;124mhas_index_names\u001b[39m\u001b[38;5;124m\"\u001b[39m]\n\u001b[0;32m   1447\u001b[0m \u001b[38;5;28mself\u001b[39m\u001b[38;5;241m.\u001b[39mhandles: IOHandles \u001b[38;5;241m|\u001b[39m \u001b[38;5;28;01mNone\u001b[39;00m \u001b[38;5;241m=\u001b[39m \u001b[38;5;28;01mNone\u001b[39;00m\n\u001b[1;32m-> 1448\u001b[0m \u001b[38;5;28mself\u001b[39m\u001b[38;5;241m.\u001b[39m_engine \u001b[38;5;241m=\u001b[39m \u001b[38;5;28;43mself\u001b[39;49m\u001b[38;5;241;43m.\u001b[39;49m\u001b[43m_make_engine\u001b[49m\u001b[43m(\u001b[49m\u001b[43mf\u001b[49m\u001b[43m,\u001b[49m\u001b[43m \u001b[49m\u001b[38;5;28;43mself\u001b[39;49m\u001b[38;5;241;43m.\u001b[39;49m\u001b[43mengine\u001b[49m\u001b[43m)\u001b[49m\n",
      "File \u001b[1;32mc:\\Users\\go68nim\\AppData\\Local\\Programs\\Python\\Python312\\Lib\\site-packages\\pandas\\io\\parsers\\readers.py:1705\u001b[0m, in \u001b[0;36mTextFileReader._make_engine\u001b[1;34m(self, f, engine)\u001b[0m\n\u001b[0;32m   1703\u001b[0m     \u001b[38;5;28;01mif\u001b[39;00m \u001b[38;5;124m\"\u001b[39m\u001b[38;5;124mb\u001b[39m\u001b[38;5;124m\"\u001b[39m \u001b[38;5;129;01mnot\u001b[39;00m \u001b[38;5;129;01min\u001b[39;00m mode:\n\u001b[0;32m   1704\u001b[0m         mode \u001b[38;5;241m+\u001b[39m\u001b[38;5;241m=\u001b[39m \u001b[38;5;124m\"\u001b[39m\u001b[38;5;124mb\u001b[39m\u001b[38;5;124m\"\u001b[39m\n\u001b[1;32m-> 1705\u001b[0m \u001b[38;5;28mself\u001b[39m\u001b[38;5;241m.\u001b[39mhandles \u001b[38;5;241m=\u001b[39m \u001b[43mget_handle\u001b[49m\u001b[43m(\u001b[49m\n\u001b[0;32m   1706\u001b[0m \u001b[43m    \u001b[49m\u001b[43mf\u001b[49m\u001b[43m,\u001b[49m\n\u001b[0;32m   1707\u001b[0m \u001b[43m    \u001b[49m\u001b[43mmode\u001b[49m\u001b[43m,\u001b[49m\n\u001b[0;32m   1708\u001b[0m \u001b[43m    \u001b[49m\u001b[43mencoding\u001b[49m\u001b[38;5;241;43m=\u001b[39;49m\u001b[38;5;28;43mself\u001b[39;49m\u001b[38;5;241;43m.\u001b[39;49m\u001b[43moptions\u001b[49m\u001b[38;5;241;43m.\u001b[39;49m\u001b[43mget\u001b[49m\u001b[43m(\u001b[49m\u001b[38;5;124;43m\"\u001b[39;49m\u001b[38;5;124;43mencoding\u001b[39;49m\u001b[38;5;124;43m\"\u001b[39;49m\u001b[43m,\u001b[49m\u001b[43m \u001b[49m\u001b[38;5;28;43;01mNone\u001b[39;49;00m\u001b[43m)\u001b[49m\u001b[43m,\u001b[49m\n\u001b[0;32m   1709\u001b[0m \u001b[43m    \u001b[49m\u001b[43mcompression\u001b[49m\u001b[38;5;241;43m=\u001b[39;49m\u001b[38;5;28;43mself\u001b[39;49m\u001b[38;5;241;43m.\u001b[39;49m\u001b[43moptions\u001b[49m\u001b[38;5;241;43m.\u001b[39;49m\u001b[43mget\u001b[49m\u001b[43m(\u001b[49m\u001b[38;5;124;43m\"\u001b[39;49m\u001b[38;5;124;43mcompression\u001b[39;49m\u001b[38;5;124;43m\"\u001b[39;49m\u001b[43m,\u001b[49m\u001b[43m \u001b[49m\u001b[38;5;28;43;01mNone\u001b[39;49;00m\u001b[43m)\u001b[49m\u001b[43m,\u001b[49m\n\u001b[0;32m   1710\u001b[0m \u001b[43m    \u001b[49m\u001b[43mmemory_map\u001b[49m\u001b[38;5;241;43m=\u001b[39;49m\u001b[38;5;28;43mself\u001b[39;49m\u001b[38;5;241;43m.\u001b[39;49m\u001b[43moptions\u001b[49m\u001b[38;5;241;43m.\u001b[39;49m\u001b[43mget\u001b[49m\u001b[43m(\u001b[49m\u001b[38;5;124;43m\"\u001b[39;49m\u001b[38;5;124;43mmemory_map\u001b[39;49m\u001b[38;5;124;43m\"\u001b[39;49m\u001b[43m,\u001b[49m\u001b[43m \u001b[49m\u001b[38;5;28;43;01mFalse\u001b[39;49;00m\u001b[43m)\u001b[49m\u001b[43m,\u001b[49m\n\u001b[0;32m   1711\u001b[0m \u001b[43m    \u001b[49m\u001b[43mis_text\u001b[49m\u001b[38;5;241;43m=\u001b[39;49m\u001b[43mis_text\u001b[49m\u001b[43m,\u001b[49m\n\u001b[0;32m   1712\u001b[0m \u001b[43m    \u001b[49m\u001b[43merrors\u001b[49m\u001b[38;5;241;43m=\u001b[39;49m\u001b[38;5;28;43mself\u001b[39;49m\u001b[38;5;241;43m.\u001b[39;49m\u001b[43moptions\u001b[49m\u001b[38;5;241;43m.\u001b[39;49m\u001b[43mget\u001b[49m\u001b[43m(\u001b[49m\u001b[38;5;124;43m\"\u001b[39;49m\u001b[38;5;124;43mencoding_errors\u001b[39;49m\u001b[38;5;124;43m\"\u001b[39;49m\u001b[43m,\u001b[49m\u001b[43m \u001b[49m\u001b[38;5;124;43m\"\u001b[39;49m\u001b[38;5;124;43mstrict\u001b[39;49m\u001b[38;5;124;43m\"\u001b[39;49m\u001b[43m)\u001b[49m\u001b[43m,\u001b[49m\n\u001b[0;32m   1713\u001b[0m \u001b[43m    \u001b[49m\u001b[43mstorage_options\u001b[49m\u001b[38;5;241;43m=\u001b[39;49m\u001b[38;5;28;43mself\u001b[39;49m\u001b[38;5;241;43m.\u001b[39;49m\u001b[43moptions\u001b[49m\u001b[38;5;241;43m.\u001b[39;49m\u001b[43mget\u001b[49m\u001b[43m(\u001b[49m\u001b[38;5;124;43m\"\u001b[39;49m\u001b[38;5;124;43mstorage_options\u001b[39;49m\u001b[38;5;124;43m\"\u001b[39;49m\u001b[43m,\u001b[49m\u001b[43m \u001b[49m\u001b[38;5;28;43;01mNone\u001b[39;49;00m\u001b[43m)\u001b[49m\u001b[43m,\u001b[49m\n\u001b[0;32m   1714\u001b[0m \u001b[43m\u001b[49m\u001b[43m)\u001b[49m\n\u001b[0;32m   1715\u001b[0m \u001b[38;5;28;01massert\u001b[39;00m \u001b[38;5;28mself\u001b[39m\u001b[38;5;241m.\u001b[39mhandles \u001b[38;5;129;01mis\u001b[39;00m \u001b[38;5;129;01mnot\u001b[39;00m \u001b[38;5;28;01mNone\u001b[39;00m\n\u001b[0;32m   1716\u001b[0m f \u001b[38;5;241m=\u001b[39m \u001b[38;5;28mself\u001b[39m\u001b[38;5;241m.\u001b[39mhandles\u001b[38;5;241m.\u001b[39mhandle\n",
      "File \u001b[1;32mc:\\Users\\go68nim\\AppData\\Local\\Programs\\Python\\Python312\\Lib\\site-packages\\pandas\\io\\common.py:863\u001b[0m, in \u001b[0;36mget_handle\u001b[1;34m(path_or_buf, mode, encoding, compression, memory_map, is_text, errors, storage_options)\u001b[0m\n\u001b[0;32m    858\u001b[0m \u001b[38;5;28;01melif\u001b[39;00m \u001b[38;5;28misinstance\u001b[39m(handle, \u001b[38;5;28mstr\u001b[39m):\n\u001b[0;32m    859\u001b[0m     \u001b[38;5;66;03m# Check whether the filename is to be opened in binary mode.\u001b[39;00m\n\u001b[0;32m    860\u001b[0m     \u001b[38;5;66;03m# Binary mode does not support 'encoding' and 'newline'.\u001b[39;00m\n\u001b[0;32m    861\u001b[0m     \u001b[38;5;28;01mif\u001b[39;00m ioargs\u001b[38;5;241m.\u001b[39mencoding \u001b[38;5;129;01mand\u001b[39;00m \u001b[38;5;124m\"\u001b[39m\u001b[38;5;124mb\u001b[39m\u001b[38;5;124m\"\u001b[39m \u001b[38;5;129;01mnot\u001b[39;00m \u001b[38;5;129;01min\u001b[39;00m ioargs\u001b[38;5;241m.\u001b[39mmode:\n\u001b[0;32m    862\u001b[0m         \u001b[38;5;66;03m# Encoding\u001b[39;00m\n\u001b[1;32m--> 863\u001b[0m         handle \u001b[38;5;241m=\u001b[39m \u001b[38;5;28;43mopen\u001b[39;49m\u001b[43m(\u001b[49m\n\u001b[0;32m    864\u001b[0m \u001b[43m            \u001b[49m\u001b[43mhandle\u001b[49m\u001b[43m,\u001b[49m\n\u001b[0;32m    865\u001b[0m \u001b[43m            \u001b[49m\u001b[43mioargs\u001b[49m\u001b[38;5;241;43m.\u001b[39;49m\u001b[43mmode\u001b[49m\u001b[43m,\u001b[49m\n\u001b[0;32m    866\u001b[0m \u001b[43m            \u001b[49m\u001b[43mencoding\u001b[49m\u001b[38;5;241;43m=\u001b[39;49m\u001b[43mioargs\u001b[49m\u001b[38;5;241;43m.\u001b[39;49m\u001b[43mencoding\u001b[49m\u001b[43m,\u001b[49m\n\u001b[0;32m    867\u001b[0m \u001b[43m            \u001b[49m\u001b[43merrors\u001b[49m\u001b[38;5;241;43m=\u001b[39;49m\u001b[43merrors\u001b[49m\u001b[43m,\u001b[49m\n\u001b[0;32m    868\u001b[0m \u001b[43m            \u001b[49m\u001b[43mnewline\u001b[49m\u001b[38;5;241;43m=\u001b[39;49m\u001b[38;5;124;43m\"\u001b[39;49m\u001b[38;5;124;43m\"\u001b[39;49m\u001b[43m,\u001b[49m\n\u001b[0;32m    869\u001b[0m \u001b[43m        \u001b[49m\u001b[43m)\u001b[49m\n\u001b[0;32m    870\u001b[0m     \u001b[38;5;28;01melse\u001b[39;00m:\n\u001b[0;32m    871\u001b[0m         \u001b[38;5;66;03m# Binary mode\u001b[39;00m\n\u001b[0;32m    872\u001b[0m         handle \u001b[38;5;241m=\u001b[39m \u001b[38;5;28mopen\u001b[39m(handle, ioargs\u001b[38;5;241m.\u001b[39mmode)\n",
      "\u001b[1;31mFileNotFoundError\u001b[0m: [Errno 2] No such file or directory: 'C:\\\\Users\\\\go68nim/munich/data/24X/A00102.dat'"
     ]
    }
   ],
   "source": [
    "df, _ = read_datfile('~/munich/data/24X/A00102.dat')\n",
    "\n",
    "crossings = df[(np.diff(np.sign(df['I']-1.1*np.mean(df['I'])), append=0) == 2)]\n",
    "crossings = np.array(crossings['t'])\n",
    "which_period = 10\n",
    "one_period = df[(df['t']>crossings[which_period]) & (df['t']<crossings[which_period+1])]\n",
    "one_period = one_period.assign(phi= (one_period['t']-crossings[which_period]) / (crossings[which_period+1] - crossings[which_period]))\n"
   ]
  },
  {
   "cell_type": "code",
   "execution_count": null,
   "metadata": {},
   "outputs": [
    {
     "data": {
      "text/html": [
       "<div>\n",
       "<style scoped>\n",
       "    .dataframe tbody tr th:only-of-type {\n",
       "        vertical-align: middle;\n",
       "    }\n",
       "\n",
       "    .dataframe tbody tr th {\n",
       "        vertical-align: top;\n",
       "    }\n",
       "\n",
       "    .dataframe thead th {\n",
       "        text-align: right;\n",
       "    }\n",
       "</style>\n",
       "<table border=\"1\" class=\"dataframe\">\n",
       "  <thead>\n",
       "    <tr style=\"text-align: right;\">\n",
       "      <th></th>\n",
       "      <th>t</th>\n",
       "      <th>U</th>\n",
       "      <th>I</th>\n",
       "      <th>Ill</th>\n",
       "      <th>EMSI</th>\n",
       "      <th>phi</th>\n",
       "    </tr>\n",
       "  </thead>\n",
       "  <tbody>\n",
       "    <tr>\n",
       "      <th>5928</th>\n",
       "      <td>592.843</td>\n",
       "      <td>4.012580</td>\n",
       "      <td>0.613777</td>\n",
       "      <td>-0.0000</td>\n",
       "      <td>15.998845</td>\n",
       "      <td>0.002212</td>\n",
       "    </tr>\n",
       "    <tr>\n",
       "      <th>5929</th>\n",
       "      <td>592.943</td>\n",
       "      <td>3.992741</td>\n",
       "      <td>0.622651</td>\n",
       "      <td>0.0002</td>\n",
       "      <td>15.999108</td>\n",
       "      <td>0.004425</td>\n",
       "    </tr>\n",
       "    <tr>\n",
       "      <th>5930</th>\n",
       "      <td>593.043</td>\n",
       "      <td>4.007051</td>\n",
       "      <td>0.631606</td>\n",
       "      <td>-0.0000</td>\n",
       "      <td>15.999520</td>\n",
       "      <td>0.006637</td>\n",
       "    </tr>\n",
       "    <tr>\n",
       "      <th>5931</th>\n",
       "      <td>593.143</td>\n",
       "      <td>3.992090</td>\n",
       "      <td>0.640631</td>\n",
       "      <td>0.0002</td>\n",
       "      <td>16.000184</td>\n",
       "      <td>0.008850</td>\n",
       "    </tr>\n",
       "    <tr>\n",
       "      <th>5932</th>\n",
       "      <td>593.243</td>\n",
       "      <td>4.000872</td>\n",
       "      <td>0.649719</td>\n",
       "      <td>-0.0000</td>\n",
       "      <td>16.001282</td>\n",
       "      <td>0.011062</td>\n",
       "    </tr>\n",
       "    <tr>\n",
       "      <th>...</th>\n",
       "      <td>...</td>\n",
       "      <td>...</td>\n",
       "      <td>...</td>\n",
       "      <td>...</td>\n",
       "      <td>...</td>\n",
       "      <td>...</td>\n",
       "    </tr>\n",
       "    <tr>\n",
       "      <th>6374</th>\n",
       "      <td>637.443</td>\n",
       "      <td>4.002173</td>\n",
       "      <td>0.565825</td>\n",
       "      <td>0.0002</td>\n",
       "      <td>16.000188</td>\n",
       "      <td>0.988938</td>\n",
       "    </tr>\n",
       "    <tr>\n",
       "      <th>6375</th>\n",
       "      <td>637.543</td>\n",
       "      <td>4.003799</td>\n",
       "      <td>0.573596</td>\n",
       "      <td>-0.0000</td>\n",
       "      <td>15.999313</td>\n",
       "      <td>0.991150</td>\n",
       "    </tr>\n",
       "    <tr>\n",
       "      <th>6376</th>\n",
       "      <td>637.643</td>\n",
       "      <td>4.000872</td>\n",
       "      <td>0.581505</td>\n",
       "      <td>0.0002</td>\n",
       "      <td>15.998517</td>\n",
       "      <td>0.993363</td>\n",
       "    </tr>\n",
       "    <tr>\n",
       "      <th>6377</th>\n",
       "      <td>637.743</td>\n",
       "      <td>3.997294</td>\n",
       "      <td>0.589552</td>\n",
       "      <td>-0.0000</td>\n",
       "      <td>15.998043</td>\n",
       "      <td>0.995575</td>\n",
       "    </tr>\n",
       "    <tr>\n",
       "      <th>6378</th>\n",
       "      <td>637.843</td>\n",
       "      <td>4.005751</td>\n",
       "      <td>0.597736</td>\n",
       "      <td>0.0002</td>\n",
       "      <td>15.998103</td>\n",
       "      <td>0.997788</td>\n",
       "    </tr>\n",
       "  </tbody>\n",
       "</table>\n",
       "<p>451 rows × 6 columns</p>\n",
       "</div>"
      ],
      "text/plain": [
       "            t         U         I     Ill       EMSI       phi\n",
       "5928  592.843  4.012580  0.613777 -0.0000  15.998845  0.002212\n",
       "5929  592.943  3.992741  0.622651  0.0002  15.999108  0.004425\n",
       "5930  593.043  4.007051  0.631606 -0.0000  15.999520  0.006637\n",
       "5931  593.143  3.992090  0.640631  0.0002  16.000184  0.008850\n",
       "5932  593.243  4.000872  0.649719 -0.0000  16.001282  0.011062\n",
       "...       ...       ...       ...     ...        ...       ...\n",
       "6374  637.443  4.002173  0.565825  0.0002  16.000188  0.988938\n",
       "6375  637.543  4.003799  0.573596 -0.0000  15.999313  0.991150\n",
       "6376  637.643  4.000872  0.581505  0.0002  15.998517  0.993363\n",
       "6377  637.743  3.997294  0.589552 -0.0000  15.998043  0.995575\n",
       "6378  637.843  4.005751  0.597736  0.0002  15.998103  0.997788\n",
       "\n",
       "[451 rows x 6 columns]"
      ]
     },
     "execution_count": 10,
     "metadata": {},
     "output_type": "execute_result"
    }
   ],
   "source": [
    "one_period"
   ]
  },
  {
   "cell_type": "code",
   "execution_count": 69,
   "metadata": {},
   "outputs": [
    {
     "ename": "NameError",
     "evalue": "name 'one_period' is not defined",
     "output_type": "error",
     "traceback": [
      "\u001b[1;31m---------------------------------------------------------------------------\u001b[0m",
      "\u001b[1;31mNameError\u001b[0m                                 Traceback (most recent call last)",
      "Cell \u001b[1;32mIn[69], line 21\u001b[0m\n\u001b[0;32m     19\u001b[0m ax2\u001b[38;5;241m.\u001b[39mset_xlabel(\u001b[38;5;124mr\u001b[39m\u001b[38;5;124m'\u001b[39m\u001b[38;5;124m$\u001b[39m\u001b[38;5;124m\\\u001b[39m\u001b[38;5;124mphi$ (fractional)\u001b[39m\u001b[38;5;124m'\u001b[39m)\n\u001b[0;32m     20\u001b[0m ax2\u001b[38;5;241m.\u001b[39mset_ylabel(\u001b[38;5;124m'\u001b[39m\u001b[38;5;124mcurrent\u001b[39m\u001b[38;5;124m'\u001b[39m, color\u001b[38;5;241m=\u001b[39mcolor)\n\u001b[1;32m---> 21\u001b[0m ax2\u001b[38;5;241m.\u001b[39mplot(\u001b[43mone_period\u001b[49m[\u001b[38;5;124m'\u001b[39m\u001b[38;5;124mphi\u001b[39m\u001b[38;5;124m'\u001b[39m], one_period[\u001b[38;5;124m'\u001b[39m\u001b[38;5;124mI\u001b[39m\u001b[38;5;124m'\u001b[39m], color\u001b[38;5;241m=\u001b[39mcolor)\n\u001b[0;32m     22\u001b[0m ax2\u001b[38;5;241m.\u001b[39mtick_params(axis\u001b[38;5;241m=\u001b[39m\u001b[38;5;124m'\u001b[39m\u001b[38;5;124my\u001b[39m\u001b[38;5;124m'\u001b[39m, labelcolor\u001b[38;5;241m=\u001b[39mcolor)\n\u001b[0;32m     24\u001b[0m ax3 \u001b[38;5;241m=\u001b[39m ax2\u001b[38;5;241m.\u001b[39mtwinx()  \u001b[38;5;66;03m# instantiate a second axes that shares the same x-axis\u001b[39;00m\n",
      "\u001b[1;31mNameError\u001b[0m: name 'one_period' is not defined"
     ]
    }
   ],
   "source": [
    "%matplotlib qt\n",
    "\n",
    "\n",
    "# Plot PRC\n",
    "fig, (ax1, ax2) = plt.subplots(2, 1, gridspec_kw={'height_ratios': [3, 1]}, sharex=True)\n",
    "ax1.set_title(\"PRC -- 1s, +0.3V\")\n",
    "\n",
    "#ax1.set_xlabel(r'$\\phi$ (fractional)')\n",
    "ax1.set_ylabel('Phase response')\n",
    "sc = ax1.scatter(perts['phase'], -perts['response']/perts['expected_period'], c=perts['time']/3600)\n",
    "# cbar = plt.colorbar(sc)\n",
    "# cbar.set_label('time [h]')\n",
    "ax1.set_xlim(0, 1)\n",
    "ax1.axhline(0, c='m', ls='--')\n",
    "plt.tight_layout()\n",
    "\n",
    "color = 'tab:blue'\n",
    "\n",
    "ax2.set_xlabel(r'$\\phi$ (fractional)')\n",
    "ax2.set_ylabel('current', color=color)\n",
    "ax2.plot(one_period['phi'], one_period['I'], color=color)\n",
    "ax2.tick_params(axis='y', labelcolor=color)\n",
    "\n",
    "ax3 = ax2.twinx()  # instantiate a second axes that shares the same x-axis\n",
    "\n",
    "color = 'tab:red'\n",
    "ax3.set_ylabel('EMSI', color=color)  # we already handled the x-label with ax1\n",
    "ax3.plot(one_period['phi'], one_period['EMSI'], color=color)\n",
    "ax3.tick_params(axis='y', labelcolor=color)\n",
    "\n",
    "plt.tight_layout()\n",
    "plt.show()"
   ]
  },
  {
   "cell_type": "code",
   "execution_count": null,
   "metadata": {},
   "outputs": [
    {
     "data": {
      "text/plain": [
       "Text(0, 0.5, 'Osc. period [s]')"
      ]
     },
     "execution_count": 12,
     "metadata": {},
     "output_type": "execute_result"
    }
   ],
   "source": [
    "# Plot periods vs time\n",
    "plt.figure()\n",
    "plt.title('Period length versus time')\n",
    "plt.scatter(cycles['start'], cycles['duration'], marker='+')\n",
    "plt.plot(cycles['start'], np.polyval(period_fit, cycles['start']), 'm-')\n",
    "\n",
    "# for x in pert_times:\n",
    "    # plt.axvline(x, c='r', ls='--')\n",
    "plt.title('Perturbation: +0.3V, 1s')\n",
    "plt.xlabel('Time [s]')\n",
    "plt.ylabel('Osc. period [s]')"
   ]
  },
  {
   "cell_type": "code",
   "execution_count": null,
   "metadata": {},
   "outputs": [
    {
     "data": {
      "text/plain": [
       "(2000.0, 2100.0)"
      ]
     },
     "execution_count": 16,
     "metadata": {},
     "output_type": "execute_result"
    }
   ],
   "source": [
    "# Plot current vs time\n",
    "plt.close()\n",
    "plt.figure()\n",
    "plt.title('Threshold = mean current')\n",
    "plt.plot(data['t'], data['I'])\n",
    "plt.axhline(threshold_I, c='y', ls='dashed')\n",
    "plt.scatter(cycles['start'], data[data['t'].isin(cycles['start'])]['I'], marker='x', c='r')\n",
    "for t in cycles['start']:\n",
    "    plt.axvline(t, c='grey', ls=':')\n",
    "#plt.scatter(pert_times, data[data['t'].isin(pert_times)]['I'], marker='x', c='r')\n",
    "plt.xlabel('Time [s]')\n",
    "plt.ylabel('Current [A]')\n",
    "# plt.plot(data['t'], data['U'], 'm-')\n",
    "# for x in cycles['start']:\n",
    "    # plt.axvline(x, c='g', ls='-.')\n",
    "plt.xlim(2000, 2100)"
   ]
  },
  {
   "cell_type": "code",
   "execution_count": null,
   "metadata": {},
   "outputs": [],
   "source": [
    "spikes, _ = find_peaks(data['I'], height=0.06, distance=1000)\n",
    "time_array = np.array(data['t'])\n",
    "spike_times = time_array[spikes]\n"
   ]
  },
  {
   "cell_type": "code",
   "execution_count": 55,
   "metadata": {},
   "outputs": [
    {
     "data": {
      "text/plain": [
       "[<matplotlib.lines.Line2D at 0x211a1469fd0>]"
      ]
     },
     "execution_count": 55,
     "metadata": {},
     "output_type": "execute_result"
    }
   ],
   "source": [
    "plt.plot(cycles['duration'])\n",
    "plt.plot(cycles['expected_duration'])"
   ]
  }
 ],
 "metadata": {
  "kernelspec": {
   "display_name": "Python 3",
   "language": "python",
   "name": "python3"
  },
  "language_info": {
   "codemirror_mode": {
    "name": "ipython",
    "version": 3
   },
   "file_extension": ".py",
   "mimetype": "text/x-python",
   "name": "python",
   "nbconvert_exporter": "python",
   "pygments_lexer": "ipython3",
   "version": "3.12.0"
  }
 },
 "nbformat": 4,
 "nbformat_minor": 2
}
